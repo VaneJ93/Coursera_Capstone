{
 "cells": [
  {
   "cell_type": "markdown",
   "metadata": {},
   "source": [
    "# Capstone Project - The Battle of the Neighborhoods"
   ]
  },
  {
   "cell_type": "markdown",
   "metadata": {},
   "source": [
    "## Table of contents\n",
    "* [Introduction: Business Problem](#introduction)\n",
    "* [Data](#data)\n",
    "* [Methodology](#methodology)\n",
    "* [Analysis](#analysis)\n",
    "* [Results and Discussion](#results)\n",
    "* [Conclusion](#conclusion)"
   ]
  },
  {
   "cell_type": "markdown",
   "metadata": {},
   "source": [
    "## Introduction: Business Problem <a name=\"introduction\"></a>"
   ]
  },
  {
   "cell_type": "markdown",
   "metadata": {},
   "source": [
    "In this project we will try to find the viability to establish a food truck in Los Angeles, specifically in Pershing Square. \n",
    "This report will be targeted to stakeholders interested in opening an **Food Truck** in **Los Angeles**, California.\n",
    "\n",
    "Since there are lots of Food Trucks and restaurants in Los Angeles we will try to detect the **locations of all Restaurants and Food Trucks** nearby, this way we can see if the chosen location is a viable point for a new Food Truck."
   ]
  },
  {
   "cell_type": "markdown",
   "metadata": {},
   "source": [
    "## Data <a name=\"data\"></a>"
   ]
  },
  {
   "cell_type": "markdown",
   "metadata": {},
   "source": [
    "Based on definition of our problem, factors that will influence our decission are:\n",
    "* number of existing restaurants in the neighborhood (any type of restaurant)\n",
    "* number of existing food trucks in the neighborhood \n",
    "\n",
    "We decided to use regularly spaced grid of locations, centered around city center, to define our neighborhoods.\n",
    "\n",
    "Following data sources will be needed to extract/generate the required information:\n",
    "* number of restaurants and food trucks and their type and location in every neighborhood will be obtained using **Foursquare API**\n",
    "* coordinate of Pershing Square in Los Angeles will be obtained using **Foursquare API**"
   ]
  },
  {
   "cell_type": "markdown",
   "metadata": {},
   "source": [
    "### Neighborhoods Coordinates\n",
    "\n",
    "Import all the libraries needed"
   ]
  },
  {
   "cell_type": "code",
   "execution_count": 1,
   "metadata": {},
   "outputs": [
    {
     "name": "stdout",
     "output_type": "stream",
     "text": [
      "Solving environment: done\n",
      "\n",
      "# All requested packages already installed.\n",
      "\n",
      "Solving environment: done\n",
      "\n",
      "# All requested packages already installed.\n",
      "\n"
     ]
    }
   ],
   "source": [
    "import requests # library to handle requests\n",
    "import pandas as pd # library for data analsysis\n",
    "import numpy as np # library to handle data in a vectorized manner\n",
    "import random # library for random number generation\n",
    "\n",
    "!conda install -c conda-forge geopy --yes \n",
    "from geopy.geocoders import Nominatim # module to convert an address into latitude and longitude values\n",
    "\n",
    "# libraries for displaying images\n",
    "from IPython.display import Image \n",
    "from IPython.core.display import HTML \n",
    "    \n",
    "# tranforming json file into a pandas dataframe library\n",
    "from pandas.io.json import json_normalize\n",
    "\n",
    "!conda install -c conda-forge folium=0.5.0 --yes\n",
    "import folium # plotting library"
   ]
  },
  {
   "cell_type": "markdown",
   "metadata": {},
   "source": [
    "Connecting with the client in Foursquare"
   ]
  },
  {
   "cell_type": "code",
   "execution_count": 2,
   "metadata": {},
   "outputs": [],
   "source": [
    "CLIENT_ID = '0H4ZHQIZXRL3EVHBNTC3KCLP3X5VTXNNHIM23KEQ55Q1JKFG' # your Foursquare ID\n",
    "CLIENT_SECRET = 'BN2PBTW23KGNA1CRKJ3W00X0Z1VRACTO0MHUY2JVHHPN0YAI' # your Foursquare Secret\n",
    "VERSION = '20180604'\n",
    "LIMIT = 30"
   ]
  },
  {
   "cell_type": "markdown",
   "metadata": {},
   "source": [
    "Get the latitude and longitude coordinates for the center of Los Angeles, specifically Pershing Square using Foursquare API"
   ]
  },
  {
   "cell_type": "code",
   "execution_count": 3,
   "metadata": {},
   "outputs": [
    {
     "name": "stdout",
     "output_type": "stream",
     "text": [
      "34.0489194285714 -118.253233816327\n"
     ]
    }
   ],
   "source": [
    "address = '532 S Olive St, Los Angeles, CA'\n",
    "\n",
    "geolocator = Nominatim(user_agent=\"foursquare_agent\")\n",
    "location = geolocator.geocode(address)\n",
    "latitude = location.latitude\n",
    "longitude = location.longitude\n",
    "print(latitude, longitude)"
   ]
  },
  {
   "cell_type": "markdown",
   "metadata": {},
   "source": [
    "Let's get the latitude and longitude coordinates for all the food trucks in Los Angeles near Pershing Square"
   ]
  },
  {
   "cell_type": "code",
   "execution_count": 4,
   "metadata": {
    "scrolled": false
   },
   "outputs": [
    {
     "data": {
      "text/plain": [
       "(30, 18)"
      ]
     },
     "execution_count": 4,
     "metadata": {},
     "output_type": "execute_result"
    }
   ],
   "source": [
    "search_queryFoodTrucks = '4bf58dd8d48988d1cb941735'\n",
    "\n",
    "radius = 1000\n",
    "url = 'https://api.foursquare.com/v2/venues/search?client_id={}&client_secret={}&ll={},{}&v={}&categoryId={}&radius={}&limit={}'.format(CLIENT_ID, CLIENT_SECRET, latitude, longitude, VERSION, search_queryFoodTrucks, radius, LIMIT)\n",
    "resultsFoodTrucks = requests.get(url).json()\n",
    "venuesFoodTrucks = resultsFoodTrucks['response']['venues']\n",
    "# tranform venues into a dataframe\n",
    "dataframeFoodTrucks = json_normalize(venuesFoodTrucks)\n",
    "dataframeFoodTrucks.shape"
   ]
  },
  {
   "cell_type": "markdown",
   "metadata": {},
   "source": [
    "Let's get the latitude and longitude coordinates for all the restaurants in Los Angeles near Pershing Square"
   ]
  },
  {
   "cell_type": "code",
   "execution_count": 5,
   "metadata": {
    "scrolled": true
   },
   "outputs": [
    {
     "data": {
      "text/plain": [
       "(30, 25)"
      ]
     },
     "execution_count": 5,
     "metadata": {},
     "output_type": "execute_result"
    }
   ],
   "source": [
    "search_queryRest = '4d4b7105d754a06374d81259'\n",
    "\n",
    "url = 'https://api.foursquare.com/v2/venues/search?client_id={}&client_secret={}&ll={},{}&v={}&categoryId={}&radius={}&limit={}'.format(CLIENT_ID, CLIENT_SECRET, latitude, longitude, VERSION, search_queryRest, radius, LIMIT)\n",
    "resultsRest = requests.get(url).json()\n",
    "venuesRest = resultsRest['response']['venues']\n",
    "# tranform venues into a dataframe\n",
    "dataframeRest = json_normalize(venuesRest)\n",
    "dataframeRest.shape"
   ]
  },
  {
   "cell_type": "markdown",
   "metadata": {},
   "source": [
    "#### Filtering the Dataset"
   ]
  },
  {
   "cell_type": "code",
   "execution_count": 6,
   "metadata": {},
   "outputs": [
    {
     "data": {
      "text/html": [
       "<div>\n",
       "<style scoped>\n",
       "    .dataframe tbody tr th:only-of-type {\n",
       "        vertical-align: middle;\n",
       "    }\n",
       "\n",
       "    .dataframe tbody tr th {\n",
       "        vertical-align: top;\n",
       "    }\n",
       "\n",
       "    .dataframe thead th {\n",
       "        text-align: right;\n",
       "    }\n",
       "</style>\n",
       "<table border=\"1\" class=\"dataframe\">\n",
       "  <thead>\n",
       "    <tr style=\"text-align: right;\">\n",
       "      <th></th>\n",
       "      <th>name</th>\n",
       "      <th>categories</th>\n",
       "      <th>lat</th>\n",
       "      <th>lng</th>\n",
       "    </tr>\n",
       "  </thead>\n",
       "  <tbody>\n",
       "    <tr>\n",
       "      <th>0</th>\n",
       "      <td>Mr V's Cheesesteak &amp; Burritos Truck</td>\n",
       "      <td>Food Truck</td>\n",
       "      <td>34.048280</td>\n",
       "      <td>-118.251186</td>\n",
       "    </tr>\n",
       "    <tr>\n",
       "      <th>1</th>\n",
       "      <td>Germany's Famous Bratwurst Truck</td>\n",
       "      <td>Food Truck</td>\n",
       "      <td>34.054339</td>\n",
       "      <td>-118.262098</td>\n",
       "    </tr>\n",
       "    <tr>\n",
       "      <th>2</th>\n",
       "      <td>Cousins Maine Lobster Truck</td>\n",
       "      <td>Food Truck</td>\n",
       "      <td>34.053353</td>\n",
       "      <td>-118.253111</td>\n",
       "    </tr>\n",
       "    <tr>\n",
       "      <th>3</th>\n",
       "      <td>made in brooklyn pizza</td>\n",
       "      <td>Food Truck</td>\n",
       "      <td>34.053605</td>\n",
       "      <td>-118.245738</td>\n",
       "    </tr>\n",
       "    <tr>\n",
       "      <th>4</th>\n",
       "      <td>Love Bird Chicken</td>\n",
       "      <td>Food Truck</td>\n",
       "      <td>34.053252</td>\n",
       "      <td>-118.252694</td>\n",
       "    </tr>\n",
       "  </tbody>\n",
       "</table>\n",
       "</div>"
      ],
      "text/plain": [
       "                                  name  categories        lat         lng\n",
       "0  Mr V's Cheesesteak & Burritos Truck  Food Truck  34.048280 -118.251186\n",
       "1     Germany's Famous Bratwurst Truck  Food Truck  34.054339 -118.262098\n",
       "2          Cousins Maine Lobster Truck  Food Truck  34.053353 -118.253111\n",
       "3               made in brooklyn pizza  Food Truck  34.053605 -118.245738\n",
       "4                    Love Bird Chicken  Food Truck  34.053252 -118.252694"
      ]
     },
     "execution_count": 6,
     "metadata": {},
     "output_type": "execute_result"
    }
   ],
   "source": [
    "# keep only columns that include venue name, and anything that is associated with location\n",
    "#filtered_columns = ['name', 'categories'] + [col for col in dataframe.columns if col.startswith('location.')] + ['id']\n",
    "filtered_columnsFT = ['name', 'categories', 'location.lat', 'location.lng']\n",
    "dataframe_filteredFT = dataframeFoodTrucks.loc[:, filtered_columnsFT]\n",
    "\n",
    "# function that extracts the category of the venue\n",
    "def get_category_typeFT(row):\n",
    "    try:\n",
    "        categories_listFT = row['categories']\n",
    "    except:\n",
    "        categories_listFT = row['venue.categories']\n",
    "        \n",
    "    if len(categories_listFT) == 0:\n",
    "        return None\n",
    "    else:\n",
    "        return categories_listFT[0]['name']\n",
    "\n",
    "# filter the category for each row\n",
    "dataframe_filteredFT['categories'] = dataframe_filteredFT.apply(get_category_typeFT, axis=1)\n",
    "\n",
    "# clean column names by keeping only last term\n",
    "dataframe_filteredFT.columns = [column.split('.')[-1] for column in dataframe_filteredFT.columns]\n",
    "dataframe_filteredFT.head(5)"
   ]
  },
  {
   "cell_type": "code",
   "execution_count": 7,
   "metadata": {
    "scrolled": false
   },
   "outputs": [
    {
     "data": {
      "text/html": [
       "<div>\n",
       "<style scoped>\n",
       "    .dataframe tbody tr th:only-of-type {\n",
       "        vertical-align: middle;\n",
       "    }\n",
       "\n",
       "    .dataframe tbody tr th {\n",
       "        vertical-align: top;\n",
       "    }\n",
       "\n",
       "    .dataframe thead th {\n",
       "        text-align: right;\n",
       "    }\n",
       "</style>\n",
       "<table border=\"1\" class=\"dataframe\">\n",
       "  <thead>\n",
       "    <tr style=\"text-align: right;\">\n",
       "      <th></th>\n",
       "      <th>name</th>\n",
       "      <th>categories</th>\n",
       "      <th>lat</th>\n",
       "      <th>lng</th>\n",
       "    </tr>\n",
       "  </thead>\n",
       "  <tbody>\n",
       "    <tr>\n",
       "      <th>0</th>\n",
       "      <td>Perch</td>\n",
       "      <td>French Restaurant</td>\n",
       "      <td>34.048919</td>\n",
       "      <td>-118.251428</td>\n",
       "    </tr>\n",
       "    <tr>\n",
       "      <th>1</th>\n",
       "      <td>71Above</td>\n",
       "      <td>New American Restaurant</td>\n",
       "      <td>34.051045</td>\n",
       "      <td>-118.254403</td>\n",
       "    </tr>\n",
       "    <tr>\n",
       "      <th>2</th>\n",
       "      <td>24/7 Restaurant at The Standard, Downtown LA</td>\n",
       "      <td>American Restaurant</td>\n",
       "      <td>34.049743</td>\n",
       "      <td>-118.256548</td>\n",
       "    </tr>\n",
       "    <tr>\n",
       "      <th>3</th>\n",
       "      <td>The Coffee Bean &amp; Tea Leaf</td>\n",
       "      <td>Coffee Shop</td>\n",
       "      <td>34.048866</td>\n",
       "      <td>-118.258830</td>\n",
       "    </tr>\n",
       "    <tr>\n",
       "      <th>4</th>\n",
       "      <td>Starbucks</td>\n",
       "      <td>Coffee Shop</td>\n",
       "      <td>34.053380</td>\n",
       "      <td>-118.253480</td>\n",
       "    </tr>\n",
       "  </tbody>\n",
       "</table>\n",
       "</div>"
      ],
      "text/plain": [
       "                                           name               categories  \\\n",
       "0                                         Perch        French Restaurant   \n",
       "1                                       71Above  New American Restaurant   \n",
       "2  24/7 Restaurant at The Standard, Downtown LA      American Restaurant   \n",
       "3                    The Coffee Bean & Tea Leaf              Coffee Shop   \n",
       "4                                     Starbucks              Coffee Shop   \n",
       "\n",
       "         lat         lng  \n",
       "0  34.048919 -118.251428  \n",
       "1  34.051045 -118.254403  \n",
       "2  34.049743 -118.256548  \n",
       "3  34.048866 -118.258830  \n",
       "4  34.053380 -118.253480  "
      ]
     },
     "execution_count": 7,
     "metadata": {},
     "output_type": "execute_result"
    }
   ],
   "source": [
    "# keep only columns that include venue name, and anything that is associated with location\n",
    "#filtered_columns = ['name', 'categories'] + [col for col in dataframe.columns if col.startswith('location.')] + ['id']\n",
    "filtered_columnsRest = ['name', 'categories', 'location.lat', 'location.lng']\n",
    "dataframe_filteredRest = dataframeRest.loc[:, filtered_columnsRest]\n",
    "\n",
    "# function that extracts the category of the venue\n",
    "def get_category_typeRest(row):\n",
    "    try:\n",
    "        categories_listRest = row['categories']\n",
    "    except:\n",
    "        categories_listRest = row['venue.categories']\n",
    "        \n",
    "    if len(categories_listRest) == 0:\n",
    "        return None\n",
    "    else:\n",
    "        return categories_listRest[0]['name']\n",
    "\n",
    "# filter the category for each row\n",
    "dataframe_filteredRest['categories'] = dataframe_filteredRest.apply(get_category_typeRest, axis=1)\n",
    "\n",
    "# clean column names by keeping only last term\n",
    "dataframe_filteredRest.columns = [column.split('.')[-1] for column in dataframe_filteredRest.columns]\n",
    "dataframe_filteredRest.head(5)"
   ]
  },
  {
   "cell_type": "markdown",
   "metadata": {},
   "source": [
    "Plotting all the Food Trucks and Restaurants near Pershing Square.\n",
    "* Pershing Square is going to be red\n",
    "* Food Trucks are blue \n",
    "* Restaurants are green"
   ]
  },
  {
   "cell_type": "code",
   "execution_count": 8,
   "metadata": {
    "scrolled": false
   },
   "outputs": [
    {
     "data": {
      "text/html": [
       "<div style=\"width:100%;\"><div style=\"position:relative;width:100%;height:0;padding-bottom:60%;\"><iframe src=\"data:text/html;charset=utf-8;base64,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\" style=\"position:absolute;width:100%;height:100%;left:0;top:0;border:none !important;\" allowfullscreen webkitallowfullscreen mozallowfullscreen></iframe></div></div>"
      ],
      "text/plain": [
       "<folium.folium.Map at 0x7fb37c2ce438>"
      ]
     },
     "execution_count": 8,
     "metadata": {},
     "output_type": "execute_result"
    }
   ],
   "source": [
    "venues_map = folium.Map(location=[latitude, longitude], zoom_start=16) # generate map centred around the Conrad Hotel\n",
    "\n",
    "# add a red circle marker to represent the new food truck location\n",
    "folium.features.CircleMarker(\n",
    "    [latitude, longitude],\n",
    "    radius=10,\n",
    "    color='red',\n",
    "    popup='',\n",
    "    fill = True,\n",
    "    fill_color = 'red',\n",
    "    fill_opacity = 0.6\n",
    ").add_to(venues_map)\n",
    "\n",
    "# add the Food truck as blue circle markers\n",
    "for lat, lng, label in zip(dataframe_filteredFT.lat, dataframe_filteredFT.lng, dataframe_filteredFT.categories):\n",
    "    folium.features.CircleMarker(\n",
    "        [lat, lng],\n",
    "        radius=5,\n",
    "        color='blue',\n",
    "        popup=label,\n",
    "        fill = True,\n",
    "        fill_color='blue',\n",
    "        fill_opacity=0.6\n",
    "    ).add_to(venues_map)\n",
    "    \n",
    "# add the Restaurants as green circle markers\n",
    "for lat, lng, label in zip(dataframe_filteredRest.lat, dataframe_filteredRest.lng, dataframe_filteredRest.categories):\n",
    "    folium.features.CircleMarker(\n",
    "        [lat, lng],\n",
    "        radius=5,\n",
    "        color='green',\n",
    "        popup=label,\n",
    "        fill = True,\n",
    "        fill_color='green',\n",
    "        fill_opacity=0.6\n",
    "    ).add_to(venues_map)    \n",
    "\n",
    "# display map\n",
    "venues_map"
   ]
  },
  {
   "cell_type": "markdown",
   "metadata": {},
   "source": [
    "## Methodology <a name=\"methodology\"></a>"
   ]
  },
  {
   "cell_type": "markdown",
   "metadata": {},
   "source": [
    "In this project we will direct our efforts on detecting restaurant density near the selected point chosen to put the Food Truck. \n",
    "We will limit our analysis to an area of 1km around Pershing Square.\n",
    "\n",
    "In first step we have collected the required **data: location and type (category) of every restaurants and Food Trucks within 1km from Pershing Square**.\n",
    "\n",
    "Second step in our analysis will be calculation and exploration of '**restaurant density**' around Pershing Square - we will use **heatmaps** to identify a the areas with the high number of restaurants nearby. \n",
    "\n",
    "In third and final step we will focus on the areas with more restaurants or Food Trucks and within those create the clusters (using **k-means clustering**) of those locations to identify the quantity and distance between the restaurants and food trucks. This would tell us the buisness need for restaurants in those areas."
   ]
  },
  {
   "cell_type": "markdown",
   "metadata": {},
   "source": [
    "## Analysis <a name=\"analysis\"></a>"
   ]
  },
  {
   "cell_type": "markdown",
   "metadata": {},
   "source": [
    "#### Explanatory data analysis on raw data."
   ]
  },
  {
   "cell_type": "markdown",
   "metadata": {},
   "source": [
    "Number of Restaurants and Food Trucks near Pershing Square"
   ]
  },
  {
   "cell_type": "code",
   "execution_count": 9,
   "metadata": {
    "scrolled": true
   },
   "outputs": [
    {
     "data": {
      "text/plain": [
       "60"
      ]
     },
     "execution_count": 9,
     "metadata": {},
     "output_type": "execute_result"
    }
   ],
   "source": [
    "Quantity = len(dataframe_filteredRest) + len(dataframe_filteredFT)\n",
    "Quantity"
   ]
  },
  {
   "cell_type": "markdown",
   "metadata": {},
   "source": [
    "Distance to the nearest Restaurant or Food Truck near Pershing Square "
   ]
  },
  {
   "cell_type": "code",
   "execution_count": 10,
   "metadata": {},
   "outputs": [
    {
     "name": "stdout",
     "output_type": "stream",
     "text": [
      "166.73426722420623\n"
     ]
    }
   ],
   "source": [
    "from geopy.distance import geodesic\n",
    "origin = (latitude, longitude)  # (latitude, longitude) don't confuse\n",
    "dist = (34.048919, -118.251428)\n",
    "print(geodesic(origin, dist).meters)  # 23576.805481751613"
   ]
  },
  {
   "cell_type": "code",
   "execution_count": 11,
   "metadata": {
    "scrolled": true
   },
   "outputs": [
    {
     "data": {
      "text/html": [
       "<div>\n",
       "<style scoped>\n",
       "    .dataframe tbody tr th:only-of-type {\n",
       "        vertical-align: middle;\n",
       "    }\n",
       "\n",
       "    .dataframe tbody tr th {\n",
       "        vertical-align: top;\n",
       "    }\n",
       "\n",
       "    .dataframe thead th {\n",
       "        text-align: right;\n",
       "    }\n",
       "</style>\n",
       "<table border=\"1\" class=\"dataframe\">\n",
       "  <thead>\n",
       "    <tr style=\"text-align: right;\">\n",
       "      <th></th>\n",
       "      <th>name</th>\n",
       "      <th>categories</th>\n",
       "      <th>lat</th>\n",
       "      <th>lng</th>\n",
       "      <th>Distance</th>\n",
       "    </tr>\n",
       "  </thead>\n",
       "  <tbody>\n",
       "    <tr>\n",
       "      <th>0</th>\n",
       "      <td>Perch</td>\n",
       "      <td>French Restaurant</td>\n",
       "      <td>34.048919</td>\n",
       "      <td>-118.251428</td>\n",
       "      <td>166.734267</td>\n",
       "    </tr>\n",
       "    <tr>\n",
       "      <th>1</th>\n",
       "      <td>71Above</td>\n",
       "      <td>New American Restaurant</td>\n",
       "      <td>34.051045</td>\n",
       "      <td>-118.254403</td>\n",
       "      <td>259.340394</td>\n",
       "    </tr>\n",
       "    <tr>\n",
       "      <th>2</th>\n",
       "      <td>24/7 Restaurant at The Standard, Downtown LA</td>\n",
       "      <td>American Restaurant</td>\n",
       "      <td>34.049743</td>\n",
       "      <td>-118.256548</td>\n",
       "      <td>319.315692</td>\n",
       "    </tr>\n",
       "    <tr>\n",
       "      <th>3</th>\n",
       "      <td>The Coffee Bean &amp; Tea Leaf</td>\n",
       "      <td>Coffee Shop</td>\n",
       "      <td>34.048866</td>\n",
       "      <td>-118.258830</td>\n",
       "      <td>516.762082</td>\n",
       "    </tr>\n",
       "    <tr>\n",
       "      <th>4</th>\n",
       "      <td>Starbucks</td>\n",
       "      <td>Coffee Shop</td>\n",
       "      <td>34.053380</td>\n",
       "      <td>-118.253480</td>\n",
       "      <td>495.303175</td>\n",
       "    </tr>\n",
       "  </tbody>\n",
       "</table>\n",
       "</div>"
      ],
      "text/plain": [
       "                                           name               categories  \\\n",
       "0                                         Perch        French Restaurant   \n",
       "1                                       71Above  New American Restaurant   \n",
       "2  24/7 Restaurant at The Standard, Downtown LA      American Restaurant   \n",
       "3                    The Coffee Bean & Tea Leaf              Coffee Shop   \n",
       "4                                     Starbucks              Coffee Shop   \n",
       "\n",
       "         lat         lng    Distance  \n",
       "0  34.048919 -118.251428  166.734267  \n",
       "1  34.051045 -118.254403  259.340394  \n",
       "2  34.049743 -118.256548  319.315692  \n",
       "3  34.048866 -118.258830  516.762082  \n",
       "4  34.053380 -118.253480  495.303175  "
      ]
     },
     "execution_count": 11,
     "metadata": {},
     "output_type": "execute_result"
    }
   ],
   "source": [
    "from geopy.distance import geodesic\n",
    "distancesRest = []\n",
    "origin = (latitude, longitude)  # (latitude, longitude) don't confuse\n",
    "for x_dist, y_dist in zip(dataframe_filteredRest.lat, dataframe_filteredRest.lng):\n",
    "    dist = (x_dist, y_dist)\n",
    "    distancesRest.append(geodesic(origin, dist).meters)\n",
    "\n",
    "dataframe_filteredRest['Distance'] = distancesRest\n",
    "dataframe_filteredRest.head(5)"
   ]
  },
  {
   "cell_type": "code",
   "execution_count": 12,
   "metadata": {},
   "outputs": [
    {
     "data": {
      "text/html": [
       "<div>\n",
       "<style scoped>\n",
       "    .dataframe tbody tr th:only-of-type {\n",
       "        vertical-align: middle;\n",
       "    }\n",
       "\n",
       "    .dataframe tbody tr th {\n",
       "        vertical-align: top;\n",
       "    }\n",
       "\n",
       "    .dataframe thead th {\n",
       "        text-align: right;\n",
       "    }\n",
       "</style>\n",
       "<table border=\"1\" class=\"dataframe\">\n",
       "  <thead>\n",
       "    <tr style=\"text-align: right;\">\n",
       "      <th></th>\n",
       "      <th>name</th>\n",
       "      <th>categories</th>\n",
       "      <th>lat</th>\n",
       "      <th>lng</th>\n",
       "      <th>Distance</th>\n",
       "    </tr>\n",
       "  </thead>\n",
       "  <tbody>\n",
       "    <tr>\n",
       "      <th>0</th>\n",
       "      <td>Mr V's Cheesesteak &amp; Burritos Truck</td>\n",
       "      <td>Food Truck</td>\n",
       "      <td>34.048280</td>\n",
       "      <td>-118.251186</td>\n",
       "      <td>201.941813</td>\n",
       "    </tr>\n",
       "    <tr>\n",
       "      <th>1</th>\n",
       "      <td>Germany's Famous Bratwurst Truck</td>\n",
       "      <td>Food Truck</td>\n",
       "      <td>34.054339</td>\n",
       "      <td>-118.262098</td>\n",
       "      <td>1015.510431</td>\n",
       "    </tr>\n",
       "    <tr>\n",
       "      <th>2</th>\n",
       "      <td>Cousins Maine Lobster Truck</td>\n",
       "      <td>Food Truck</td>\n",
       "      <td>34.053353</td>\n",
       "      <td>-118.253111</td>\n",
       "      <td>491.967930</td>\n",
       "    </tr>\n",
       "    <tr>\n",
       "      <th>3</th>\n",
       "      <td>made in brooklyn pizza</td>\n",
       "      <td>Food Truck</td>\n",
       "      <td>34.053605</td>\n",
       "      <td>-118.245738</td>\n",
       "      <td>865.495395</td>\n",
       "    </tr>\n",
       "    <tr>\n",
       "      <th>4</th>\n",
       "      <td>Love Bird Chicken</td>\n",
       "      <td>Food Truck</td>\n",
       "      <td>34.053252</td>\n",
       "      <td>-118.252694</td>\n",
       "      <td>483.191557</td>\n",
       "    </tr>\n",
       "  </tbody>\n",
       "</table>\n",
       "</div>"
      ],
      "text/plain": [
       "                                  name  categories        lat         lng  \\\n",
       "0  Mr V's Cheesesteak & Burritos Truck  Food Truck  34.048280 -118.251186   \n",
       "1     Germany's Famous Bratwurst Truck  Food Truck  34.054339 -118.262098   \n",
       "2          Cousins Maine Lobster Truck  Food Truck  34.053353 -118.253111   \n",
       "3               made in brooklyn pizza  Food Truck  34.053605 -118.245738   \n",
       "4                    Love Bird Chicken  Food Truck  34.053252 -118.252694   \n",
       "\n",
       "      Distance  \n",
       "0   201.941813  \n",
       "1  1015.510431  \n",
       "2   491.967930  \n",
       "3   865.495395  \n",
       "4   483.191557  "
      ]
     },
     "execution_count": 12,
     "metadata": {},
     "output_type": "execute_result"
    }
   ],
   "source": [
    "distancesFC = []\n",
    "origin = (latitude, longitude)  # (latitude, longitude) don't confuse\n",
    "for x_dist, y_dist in zip(dataframe_filteredFT.lat, dataframe_filteredFT.lng):\n",
    "    dist = (x_dist, y_dist)\n",
    "    distancesFC.append(geodesic(origin, dist).meters)\n",
    "\n",
    "dataframe_filteredFT['Distance'] = distancesFC\n",
    "dataframe_filteredFT.head(5)"
   ]
  },
  {
   "cell_type": "markdown",
   "metadata": {},
   "source": [
    "Getting the nearest distance"
   ]
  },
  {
   "cell_type": "code",
   "execution_count": 13,
   "metadata": {},
   "outputs": [
    {
     "name": "stdout",
     "output_type": "stream",
     "text": [
      "Nearest Restaurant in mts: 166.73426722420623\n"
     ]
    }
   ],
   "source": [
    "minDist = 1000\n",
    "for dist in dataframe_filteredRest.Distance: \n",
    "    if(minDist>dist): \n",
    "        minDist = dist\n",
    "print(\"Nearest Restaurant in mts:\",  minDist)"
   ]
  },
  {
   "cell_type": "code",
   "execution_count": 14,
   "metadata": {
    "scrolled": true
   },
   "outputs": [
    {
     "name": "stdout",
     "output_type": "stream",
     "text": [
      "Nearest Food Truck in mts: 120.75844380843405\n"
     ]
    }
   ],
   "source": [
    "minDist = 1000\n",
    "for dist in dataframe_filteredFT.Distance: \n",
    "    if(minDist>dist): \n",
    "        minDist = dist\n",
    "print(\"Nearest Food Truck in mts:\",  minDist)"
   ]
  },
  {
   "cell_type": "markdown",
   "metadata": {},
   "source": [
    "#### Heatmap"
   ]
  },
  {
   "cell_type": "markdown",
   "metadata": {},
   "source": [
    "Use heatmaps to identify the areas with the high number of restaurants nearby."
   ]
  },
  {
   "cell_type": "code",
   "execution_count": 15,
   "metadata": {},
   "outputs": [
    {
     "data": {
      "text/plain": [
       "(60, 5)"
      ]
     },
     "execution_count": 15,
     "metadata": {},
     "output_type": "execute_result"
    }
   ],
   "source": [
    "dataframe_filteredAll = pd.concat([dataframe_filteredFT,dataframe_filteredRest])\n",
    "dataframe_filteredAll.shape"
   ]
  },
  {
   "cell_type": "code",
   "execution_count": 16,
   "metadata": {},
   "outputs": [],
   "source": [
    "rest_latlons = []\n",
    "for la, lo in zip(dataframe_filteredAll.lat, dataframe_filteredAll.lng):\n",
    "    rest_latlons.extend([[la, lo]])\n",
    "    "
   ]
  },
  {
   "cell_type": "markdown",
   "metadata": {},
   "source": [
    "Plot the HeatMap, the red circle represent the 100mts near Pershing Square"
   ]
  },
  {
   "cell_type": "code",
   "execution_count": 17,
   "metadata": {},
   "outputs": [
    {
     "data": {
      "text/html": [
       "<div style=\"width:100%;\"><div style=\"position:relative;width:100%;height:0;padding-bottom:60%;\"><iframe src=\"data:text/html;charset=utf-8;base64,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\" style=\"position:absolute;width:100%;height:100%;left:0;top:0;border:none !important;\" allowfullscreen webkitallowfullscreen mozallowfullscreen></iframe></div></div>"
      ],
      "text/plain": [
       "<folium.folium.Map at 0x7fb37a99fcc0>"
      ]
     },
     "execution_count": 17,
     "metadata": {},
     "output_type": "execute_result"
    }
   ],
   "source": [
    "from folium import plugins\n",
    "from folium.plugins import HeatMap\n",
    "\n",
    "LA_map = folium.Map(location=[latitude, longitude], zoom_start=16) \n",
    "folium.TileLayer('cartodbpositron').add_to(LA_map) \n",
    "HeatMap(rest_latlons).add_to(LA_map)\n",
    "folium.Circle([latitude, longitude], radius=100, fill=False, color='red').add_to(LA_map)\n",
    "LA_map"
   ]
  },
  {
   "cell_type": "markdown",
   "metadata": {},
   "source": [
    "The hottest parts on the map are located at the north and west, indicading a higher density of existing restaurants and food trucks in these areas. \n",
    "**The lowest density is located in the east.** \n",
    "\n",
    "There are a low density of restaurants and food trucks near Pershing Square"
   ]
  },
  {
   "cell_type": "markdown",
   "metadata": {},
   "source": [
    "#### Creating cluster using KMenas"
   ]
  },
  {
   "cell_type": "code",
   "execution_count": 19,
   "metadata": {},
   "outputs": [
    {
     "name": "stdout",
     "output_type": "stream",
     "text": [
      "[[-118.25029118   34.05151975]\n",
      " [-118.25389106   34.04504486]\n",
      " [-118.26012744   34.048395  ]]\n"
     ]
    }
   ],
   "source": [
    "from sklearn.cluster import KMeans\n",
    "f1 = dataframe_filteredAll['lng'].values\n",
    "f2 = dataframe_filteredAll['lat'].values\n",
    "X = np.array(list(zip(f1, f2)))\n",
    "# Number of clusters\n",
    "kmeans = KMeans(n_clusters=3)\n",
    "# Fitting the input data\n",
    "kmeans = kmeans.fit(X)\n",
    "# Getting the cluster labels\n",
    "labels = kmeans.predict(X)\n",
    "# Centroid values\n",
    "centroids = kmeans.cluster_centers_\n",
    "print(centroids) # From sci-kit learn"
   ]
  },
  {
   "cell_type": "code",
   "execution_count": 20,
   "metadata": {
    "scrolled": false
   },
   "outputs": [
    {
     "data": {
      "text/html": [
       "<div style=\"width:100%;\"><div style=\"position:relative;width:100%;height:0;padding-bottom:60%;\"><iframe src=\"data:text/html;charset=utf-8;base64,PCFET0NUWVBFIGh0bWw+CjxoZWFkPiAgICAKICAgIDxtZXRhIGh0dHAtZXF1aXY9ImNvbnRlbnQtdHlwZSIgY29udGVudD0idGV4dC9odG1sOyBjaGFyc2V0PVVURi04IiAvPgogICAgPHNjcmlwdD5MX1BSRUZFUl9DQU5WQVMgPSBmYWxzZTsgTF9OT19UT1VDSCA9IGZhbHNlOyBMX0RJU0FCTEVfM0QgPSBmYWxzZTs8L3NjcmlwdD4KICAgIDxzY3JpcHQgc3JjPSJodHRwczovL2Nkbi5qc2RlbGl2ci5uZXQvbnBtL2xlYWZsZXRAMS4yLjAvZGlzdC9sZWFmbGV0LmpzIj48L3NjcmlwdD4KICAgIDxzY3JpcHQgc3JjPSJodHRwczovL2FqYXguZ29vZ2xlYXBpcy5jb20vYWpheC9saWJzL2pxdWVyeS8xLjExLjEvanF1ZXJ5Lm1pbi5qcyI+PC9zY3JpcHQ+CiAgICA8c2NyaXB0IHNyYz0iaHR0cHM6Ly9tYXhjZG4uYm9vdHN0cmFwY2RuLmNvbS9ib290c3RyYXAvMy4yLjAvanMvYm9vdHN0cmFwLm1pbi5qcyI+PC9zY3JpcHQ+CiAgICA8c2NyaXB0IHNyYz0iaHR0cHM6Ly9jZG5qcy5jbG91ZGZsYXJlLmNvbS9hamF4L2xpYnMvTGVhZmxldC5hd2Vzb21lLW1hcmtlcnMvMi4wLjIvbGVhZmxldC5hd2Vzb21lLW1hcmtlcnMuanMiPjwvc2NyaXB0PgogICAgPGxpbmsgcmVsPSJzdHlsZXNoZWV0IiBocmVmPSJodHRwczovL2Nkbi5qc2RlbGl2ci5uZXQvbnBtL2xlYWZsZXRAMS4yLjAvZGlzdC9sZWFmbGV0LmNzcyIvPgogICAgPGxpbmsgcmVsPSJzdHlsZXNoZWV0IiBocmVmPSJodHRwczovL21heGNkbi5ib290c3RyYXBjZG4uY29tL2Jvb3RzdHJhcC8zLjIuMC9jc3MvYm9vdHN0cmFwLm1pbi5jc3MiLz4KICAgIDxsaW5rIHJlbD0ic3R5bGVzaGVldCIgaHJlZj0iaHR0cHM6Ly9tYXhjZG4uYm9vdHN0cmFwY2RuLmNvbS9ib290c3RyYXAvMy4yLjAvY3NzL2Jvb3RzdHJhcC10aGVtZS5taW4uY3NzIi8+CiAgICA8bGluayByZWw9InN0eWxlc2hlZXQiIGhyZWY9Imh0dHBzOi8vbWF4Y2RuLmJvb3RzdHJhcGNkbi5jb20vZm9udC1hd2Vzb21lLzQuNi4zL2Nzcy9mb250LWF3ZXNvbWUubWluLmNzcyIvPgogICAgPGxpbmsgcmVsPSJzdHlsZXNoZWV0IiBocmVmPSJodHRwczovL2NkbmpzLmNsb3VkZmxhcmUuY29tL2FqYXgvbGlicy9MZWFmbGV0LmF3ZXNvbWUtbWFya2Vycy8yLjAuMi9sZWFmbGV0LmF3ZXNvbWUtbWFya2Vycy5jc3MiLz4KICAgIDxsaW5rIHJlbD0ic3R5bGVzaGVldCIgaHJlZj0iaHR0cHM6Ly9yYXdnaXQuY29tL3B5dGhvbi12aXN1YWxpemF0aW9uL2ZvbGl1bS9tYXN0ZXIvZm9saXVtL3RlbXBsYXRlcy9sZWFmbGV0LmF3ZXNvbWUucm90YXRlLmNzcyIvPgogICAgPHN0eWxlPmh0bWwsIGJvZHkge3dpZHRoOiAxMDAlO2hlaWdodDogMTAwJTttYXJnaW46IDA7cGFkZGluZzogMDt9PC9zdHlsZT4KICAgIDxzdHlsZT4jbWFwIHtwb3NpdGlvbjphYnNvbHV0ZTt0b3A6MDtib3R0b206MDtyaWdodDowO2xlZnQ6MDt9PC9zdHlsZT4KICAgIAogICAgICAgICAgICA8c3R5bGU+ICNtYXBfNWYxMjRkMjNkNmNjNDE2OGIzZTQ4NzliZTk5Yzg5MTUgewogICAgICAgICAgICAgICAgcG9zaXRpb24gOiByZWxhdGl2ZTsKICAgICAgICAgICAgICAgIHdpZHRoIDogMTAwLjAlOwogICAgICAgICAgICAgICAgaGVpZ2h0OiAxMDAuMCU7CiAgICAgICAgICAgICAgICBsZWZ0OiAwLjAlOwogICAgICAgICAgICAgICAgdG9wOiAwLjAlOwogICAgICAgICAgICAgICAgfQogICAgICAgICAgICA8L3N0eWxlPgogICAgICAgIAo8L2hlYWQ+Cjxib2R5PiAgICAKICAgIAogICAgICAgICAgICA8ZGl2IGNsYXNzPSJmb2xpdW0tbWFwIiBpZD0ibWFwXzVmMTI0ZDIzZDZjYzQxNjhiM2U0ODc5YmU5OWM4OTE1IiA+PC9kaXY+CiAgICAgICAgCjwvYm9keT4KPHNjcmlwdD4gICAgCiAgICAKCiAgICAgICAgICAgIAogICAgICAgICAgICAgICAgdmFyIGJvdW5kcyA9IG51bGw7CiAgICAgICAgICAgIAoKICAgICAgICAgICAgdmFyIG1hcF81ZjEyNGQyM2Q2Y2M0MTY4YjNlNDg3OWJlOTljODkxNSA9IEwubWFwKAogICAgICAgICAgICAgICAgICAgICAgICAgICAgICAgICAgJ21hcF81ZjEyNGQyM2Q2Y2M0MTY4YjNlNDg3OWJlOTljODkxNScsCiAgICAgICAgICAgICAgICAgICAgICAgICAgICAgICAgICB7Y2VudGVyOiBbMzQuMDQ4OTE5NDI4NTcxNCwtMTE4LjI1MzIzMzgxNjMyN10sCiAgICAgICAgICAgICAgICAgICAgICAgICAgICAgICAgICB6b29tOiAxNCwKICAgICAgICAgICAgICAgICAgICAgICAgICAgICAgICAgIG1heEJvdW5kczogYm91bmRzLAogICAgICAgICAgICAgICAgICAgICAgICAgICAgICAgICAgbGF5ZXJzOiBbXSwKICAgICAgICAgICAgICAgICAgICAgICAgICAgICAgICAgIHdvcmxkQ29weUp1bXA6IGZhbHNlLAogICAgICAgICAgICAgICAgICAgICAgICAgICAgICAgICAgY3JzOiBMLkNSUy5FUFNHMzg1NwogICAgICAgICAgICAgICAgICAgICAgICAgICAgICAgICB9KTsKICAgICAgICAgICAgCiAgICAgICAgCiAgICAKICAgICAgICAgICAgdmFyIHRpbGVfbGF5ZXJfNDc3MWI1OTBjY2JlNGQxZWE2OGQ3MTlmNjBhNDVkY2YgPSBMLnRpbGVMYXllcigKICAgICAgICAgICAgICAgICdodHRwczovL3tzfS50aWxlLm9wZW5zdHJlZXRtYXAub3JnL3t6fS97eH0ve3l9LnBuZycsCiAgICAgICAgICAgICAgICB7CiAgImF0dHJpYnV0aW9uIjogbnVsbCwKICAiZGV0ZWN0UmV0aW5hIjogZmFsc2UsCiAgIm1heFpvb20iOiAxOCwKICAibWluWm9vbSI6IDEsCiAgIm5vV3JhcCI6IGZhbHNlLAogICJzdWJkb21haW5zIjogImFiYyIKfQogICAgICAgICAgICAgICAgKS5hZGRUbyhtYXBfNWYxMjRkMjNkNmNjNDE2OGIzZTQ4NzliZTk5Yzg5MTUpOwogICAgICAgIAogICAgCgogICAgICAgICAgICB2YXIgbWFya2VyX2FkNjRiMmE0ZTg5MjRkN2U4YjhiNzExNmIzNjFiNDAyID0gTC5tYXJrZXIoCiAgICAgICAgICAgICAgICBbMzQuMDQ4OTE5NDI4NTcxNCwtMTE4LjI1MzIzMzgxNjMyN10sCiAgICAgICAgICAgICAgICB7CiAgICAgICAgICAgICAgICAgICAgaWNvbjogbmV3IEwuSWNvbi5EZWZhdWx0KCkKICAgICAgICAgICAgICAgICAgICB9CiAgICAgICAgICAgICAgICApCiAgICAgICAgICAgICAgICAuYWRkVG8obWFwXzVmMTI0ZDIzZDZjYzQxNjhiM2U0ODc5YmU5OWM4OTE1KTsKICAgICAgICAgICAgCiAgICAKCiAgICAgICAgICAgIHZhciBjaXJjbGVfYjNmZDE2YzUyYzM4NGQyMzhmZmE2YTg5NzExMTUwNTMgPSBMLmNpcmNsZSgKICAgICAgICAgICAgICAgIFszNC4wNDgyNzk2OTMyNTczMiwtMTE4LjI1MTE4NjE3MjE1Njg5XSwKICAgICAgICAgICAgICAgIHsKICAiYnViYmxpbmdNb3VzZUV2ZW50cyI6IHRydWUsCiAgImNvbG9yIjogIiMwMDAwMDAwMCIsCiAgImRhc2hBcnJheSI6IG51bGwsCiAgImRhc2hPZmZzZXQiOiBudWxsLAogICJmaWxsIjogdHJ1ZSwKICAiZmlsbENvbG9yIjogIiMwMDY2ZmYiLAogICJmaWxsT3BhY2l0eSI6IDAuMDcsCiAgImZpbGxSdWxlIjogImV2ZW5vZGQiLAogICJsaW5lQ2FwIjogInJvdW5kIiwKICAibGluZUpvaW4iOiAicm91bmQiLAogICJvcGFjaXR5IjogMS4wLAogICJyYWRpdXMiOiAyNTAsCiAgInN0cm9rZSI6IHRydWUsCiAgIndlaWdodCI6IDMKfQogICAgICAgICAgICAgICAgKS5hZGRUbyhtYXBfNWYxMjRkMjNkNmNjNDE2OGIzZTQ4NzliZTk5Yzg5MTUpOwogICAgICAgICAgICAKICAgIAoKICAgICAgICAgICAgdmFyIGNpcmNsZV83Y2RmMDYzNDhjNjg0MjZlOTM2MzdjMDM0YWQ4Y2NkNSA9IEwuY2lyY2xlKAogICAgICAgICAgICAgICAgWzM0LjA1NDMzOTAyODA4NjE1NCwtMTE4LjI2MjA5ODM3Njc1MzQxXSwKICAgICAgICAgICAgICAgIHsKICAiYnViYmxpbmdNb3VzZUV2ZW50cyI6IHRydWUsCiAgImNvbG9yIjogIiMwMDAwMDAwMCIsCiAgImRhc2hBcnJheSI6IG51bGwsCiAgImRhc2hPZmZzZXQiOiBudWxsLAogICJmaWxsIjogdHJ1ZSwKICAiZmlsbENvbG9yIjogIiMwMDY2ZmYiLAogICJmaWxsT3BhY2l0eSI6IDAuMDcsCiAgImZpbGxSdWxlIjogImV2ZW5vZGQiLAogICJsaW5lQ2FwIjogInJvdW5kIiwKICAibGluZUpvaW4iOiAicm91bmQiLAogICJvcGFjaXR5IjogMS4wLAogICJyYWRpdXMiOiAyNTAsCiAgInN0cm9rZSI6IHRydWUsCiAgIndlaWdodCI6IDMKfQogICAgICAgICAgICAgICAgKS5hZGRUbyhtYXBfNWYxMjRkMjNkNmNjNDE2OGIzZTQ4NzliZTk5Yzg5MTUpOwogICAgICAgICAgICAKICAgIAoKICAgICAgICAgICAgdmFyIGNpcmNsZV9mZGYzZWZiZjJhODc0ZWQxYmQ1OGZmNjJhYzZhZmM2NyA9IEwuY2lyY2xlKAogICAgICAgICAgICAgICAgWzM0LjA1MzM1MzQ0OTY0NDY1LC0xMTguMjUzMTEwNTYyMjgwNjNdLAogICAgICAgICAgICAgICAgewogICJidWJibGluZ01vdXNlRXZlbnRzIjogdHJ1ZSwKICAiY29sb3IiOiAiIzAwMDAwMDAwIiwKICAiZGFzaEFycmF5IjogbnVsbCwKICAiZGFzaE9mZnNldCI6IG51bGwsCiAgImZpbGwiOiB0cnVlLAogICJmaWxsQ29sb3IiOiAiIzAwNjZmZiIsCiAgImZpbGxPcGFjaXR5IjogMC4wNywKICAiZmlsbFJ1bGUiOiAiZXZlbm9kZCIsCiAgImxpbmVDYXAiOiAicm91bmQiLAogICJsaW5lSm9pbiI6ICJyb3VuZCIsCiAgIm9wYWNpdHkiOiAxLjAsCiAgInJhZGl1cyI6IDI1MCwKICAic3Ryb2tlIjogdHJ1ZSwKICAid2VpZ2h0IjogMwp9CiAgICAgICAgICAgICAgICApLmFkZFRvKG1hcF81ZjEyNGQyM2Q2Y2M0MTY4YjNlNDg3OWJlOTljODkxNSk7CiAgICAgICAgICAgIAogICAgCgogICAgICAgICAgICB2YXIgY2lyY2xlXzc5NmI2NjZiODUwOTQ3NDVhMmRkMGE1Yjc5NjIzYTYwID0gTC5jaXJjbGUoCiAgICAgICAgICAgICAgICBbMzQuMDUzNjA1MTk0MjEwOTUsLTExOC4yNDU3MzgzNzQ4NDkzNV0sCiAgICAgICAgICAgICAgICB7CiAgImJ1YmJsaW5nTW91c2VFdmVudHMiOiB0cnVlLAogICJjb2xvciI6ICIjMDAwMDAwMDAiLAogICJkYXNoQXJyYXkiOiBudWxsLAogICJkYXNoT2Zmc2V0IjogbnVsbCwKICAiZmlsbCI6IHRydWUsCiAgImZpbGxDb2xvciI6ICIjMDA2NmZmIiwKICAiZmlsbE9wYWNpdHkiOiAwLjA3LAogICJmaWxsUnVsZSI6ICJldmVub2RkIiwKICAibGluZUNhcCI6ICJyb3VuZCIsCiAgImxpbmVKb2luIjogInJvdW5kIiwKICAib3BhY2l0eSI6IDEuMCwKICAicmFkaXVzIjogMjUwLAogICJzdHJva2UiOiB0cnVlLAogICJ3ZWlnaHQiOiAzCn0KICAgICAgICAgICAgICAgICkuYWRkVG8obWFwXzVmMTI0ZDIzZDZjYzQxNjhiM2U0ODc5YmU5OWM4OTE1KTsKICAgICAgICAgICAgCiAgICAKCiAgICAgICAgICAgIHZhciBjaXJjbGVfMzY0ODEwOTQ2ZGYzNDk3NWJlN2I3MTAwYTY0YWY3NGMgPSBMLmNpcmNsZSgKICAgICAgICAgICAgICAgIFszNC4wNTMyNTIyNTQxODAxNjUsLTExOC4yNTI2OTM3MDgwOTUxXSwKICAgICAgICAgICAgICAgIHsKICAiYnViYmxpbmdNb3VzZUV2ZW50cyI6IHRydWUsCiAgImNvbG9yIjogIiMwMDAwMDAwMCIsCiAgImRhc2hBcnJheSI6IG51bGwsCiAgImRhc2hPZmZzZXQiOiBudWxsLAogICJmaWxsIjogdHJ1ZSwKICAiZmlsbENvbG9yIjogIiMwMDY2ZmYiLAogICJmaWxsT3BhY2l0eSI6IDAuMDcsCiAgImZpbGxSdWxlIjogImV2ZW5vZGQiLAogICJsaW5lQ2FwIjogInJvdW5kIiwKICAibGluZUpvaW4iOiAicm91bmQiLAogICJvcGFjaXR5IjogMS4wLAogICJyYWRpdXMiOiAyNTAsCiAgInN0cm9rZSI6IHRydWUsCiAgIndlaWdodCI6IDMKfQogICAgICAgICAgICAgICAgKS5hZGRUbyhtYXBfNWYxMjRkMjNkNmNjNDE2OGIzZTQ4NzliZTk5Yzg5MTUpOwogICAgICAgICAgICAKICAgIAoKICAgICAgICAgICAgdmFyIGNpcmNsZV8wZmQ0NjNhMTAzZjI0Yjg5OWNkYjc5MzNkZTZhMWIzNSA9IEwuY2lyY2xlKAogICAgICAgICAgICAgICAgWzM0LjA1MTYwNTg1OTU2NTA2LC0xMTguMjUwOTI5MjA0NDc5NjhdLAogICAgICAgICAgICAgICAgewogICJidWJibGluZ01vdXNlRXZlbnRzIjogdHJ1ZSwKICAiY29sb3IiOiAiIzAwMDAwMDAwIiwKICAiZGFzaEFycmF5IjogbnVsbCwKICAiZGFzaE9mZnNldCI6IG51bGwsCiAgImZpbGwiOiB0cnVlLAogICJmaWxsQ29sb3IiOiAiIzAwNjZmZiIsCiAgImZpbGxPcGFjaXR5IjogMC4wNywKICAiZmlsbFJ1bGUiOiAiZXZlbm9kZCIsCiAgImxpbmVDYXAiOiAicm91bmQiLAogICJsaW5lSm9pbiI6ICJyb3VuZCIsCiAgIm9wYWNpdHkiOiAxLjAsCiAgInJhZGl1cyI6IDI1MCwKICAic3Ryb2tlIjogdHJ1ZSwKICAid2VpZ2h0IjogMwp9CiAgICAgICAgICAgICAgICApLmFkZFRvKG1hcF81ZjEyNGQyM2Q2Y2M0MTY4YjNlNDg3OWJlOTljODkxNSk7CiAgICAgICAgICAgIAogICAgCgogICAgICAgICAgICB2YXIgY2lyY2xlXzFiNzRmYjU1ZjFiMTRlOWQ5Nzg5YTA4OTM2YTc3MDljID0gTC5jaXJjbGUoCiAgICAgICAgICAgICAgICBbMzQuMDQ0Nzk4OTIwOTEzODM0LC0xMTguMjU2MDk3MDM1ODYzMDVdLAogICAgICAgICAgICAgICAgewogICJidWJibGluZ01vdXNlRXZlbnRzIjogdHJ1ZSwKICAiY29sb3IiOiAiIzAwMDAwMDAwIiwKICAiZGFzaEFycmF5IjogbnVsbCwKICAiZGFzaE9mZnNldCI6IG51bGwsCiAgImZpbGwiOiB0cnVlLAogICJmaWxsQ29sb3IiOiAiIzAwNjZmZiIsCiAgImZpbGxPcGFjaXR5IjogMC4wNywKICAiZmlsbFJ1bGUiOiAiZXZlbm9kZCIsCiAgImxpbmVDYXAiOiAicm91bmQiLAogICJsaW5lSm9pbiI6ICJyb3VuZCIsCiAgIm9wYWNpdHkiOiAxLjAsCiAgInJhZGl1cyI6IDI1MCwKICAic3Ryb2tlIjogdHJ1ZSwKICAid2VpZ2h0IjogMwp9CiAgICAgICAgICAgICAgICApLmFkZFRvKG1hcF81ZjEyNGQyM2Q2Y2M0MTY4YjNlNDg3OWJlOTljODkxNSk7CiAgICAgICAgICAgIAogICAgCgogICAgICAgICAgICB2YXIgY2lyY2xlX2U5MDBmMTVlNjc5ODRjZGM5ODFkNmU3YTNmMzc4ZDkxID0gTC5jaXJjbGUoCiAgICAgICAgICAgICAgICBbMzQuMDQ3ODUxLC0xMTguMjUwMzJdLAogICAgICAgICAgICAgICAgewogICJidWJibGluZ01vdXNlRXZlbnRzIjogdHJ1ZSwKICAiY29sb3IiOiAiIzAwMDAwMDAwIiwKICAiZGFzaEFycmF5IjogbnVsbCwKICAiZGFzaE9mZnNldCI6IG51bGwsCiAgImZpbGwiOiB0cnVlLAogICJmaWxsQ29sb3IiOiAiIzAwNjZmZiIsCiAgImZpbGxPcGFjaXR5IjogMC4wNywKICAiZmlsbFJ1bGUiOiAiZXZlbm9kZCIsCiAgImxpbmVDYXAiOiAicm91bmQiLAogICJsaW5lSm9pbiI6ICJyb3VuZCIsCiAgIm9wYWNpdHkiOiAxLjAsCiAgInJhZGl1cyI6IDI1MCwKICAic3Ryb2tlIjogdHJ1ZSwKICAid2VpZ2h0IjogMwp9CiAgICAgICAgICAgICAgICApLmFkZFRvKG1hcF81ZjEyNGQyM2Q2Y2M0MTY4YjNlNDg3OWJlOTljODkxNSk7CiAgICAgICAgICAgIAogICAgCgogICAgICAgICAgICB2YXIgY2lyY2xlXzVjNzEwZDdhNzBkMjRkNjhiYjE4ODI4ODAyNTA1ZmMwID0gTC5jaXJjbGUoCiAgICAgICAgICAgICAgICBbMzQuMDUyNjEwODA3NzMwMSwtMTE4LjI1MzA1OTE2OTM1MzddLAogICAgICAgICAgICAgICAgewogICJidWJibGluZ01vdXNlRXZlbnRzIjogdHJ1ZSwKICAiY29sb3IiOiAiIzAwMDAwMDAwIiwKICAiZGFzaEFycmF5IjogbnVsbCwKICAiZGFzaE9mZnNldCI6IG51bGwsCiAgImZpbGwiOiB0cnVlLAogICJmaWxsQ29sb3IiOiAiIzAwNjZmZiIsCiAgImZpbGxPcGFjaXR5IjogMC4wNywKICAiZmlsbFJ1bGUiOiAiZXZlbm9kZCIsCiAgImxpbmVDYXAiOiAicm91bmQiLAogICJsaW5lSm9pbiI6ICJyb3VuZCIsCiAgIm9wYWNpdHkiOiAxLjAsCiAgInJhZGl1cyI6IDI1MCwKICAic3Ryb2tlIjogdHJ1ZSwKICAid2VpZ2h0IjogMwp9CiAgICAgICAgICAgICAgICApLmFkZFRvKG1hcF81ZjEyNGQyM2Q2Y2M0MTY4YjNlNDg3OWJlOTljODkxNSk7CiAgICAgICAgICAgIAogICAgCgogICAgICAgICAgICB2YXIgY2lyY2xlXzkxY2JkMDE4ODFjNzQ0YzA5N2IyNTcxYTg5M2ExMjI0ID0gTC5jaXJjbGUoCiAgICAgICAgICAgICAgICBbMzQuMDQ4MTkyMDY4NTU5OTU2LC0xMTguMjU0MjA2OTQxMDQ1N10sCiAgICAgICAgICAgICAgICB7CiAgImJ1YmJsaW5nTW91c2VFdmVudHMiOiB0cnVlLAogICJjb2xvciI6ICIjMDAwMDAwMDAiLAogICJkYXNoQXJyYXkiOiBudWxsLAogICJkYXNoT2Zmc2V0IjogbnVsbCwKICAiZmlsbCI6IHRydWUsCiAgImZpbGxDb2xvciI6ICIjMDA2NmZmIiwKICAiZmlsbE9wYWNpdHkiOiAwLjA3LAogICJmaWxsUnVsZSI6ICJldmVub2RkIiwKICAibGluZUNhcCI6ICJyb3VuZCIsCiAgImxpbmVKb2luIjogInJvdW5kIiwKICAib3BhY2l0eSI6IDEuMCwKICAicmFkaXVzIjogMjUwLAogICJzdHJva2UiOiB0cnVlLAogICJ3ZWlnaHQiOiAzCn0KICAgICAgICAgICAgICAgICkuYWRkVG8obWFwXzVmMTI0ZDIzZDZjYzQxNjhiM2U0ODc5YmU5OWM4OTE1KTsKICAgICAgICAgICAgCiAgICAKCiAgICAgICAgICAgIHZhciBjaXJjbGVfZWRiMDFmM2JlOWEwNGUyM2I5YTFhY2Y1ZmRkNzI4MTEgPSBMLmNpcmNsZSgKICAgICAgICAgICAgICAgIFszNC4wNDc5NjQ3NDA1NDYxNywtMTE4LjI0NzQ1MTUzNzMzMDc5XSwKICAgICAgICAgICAgICAgIHsKICAiYnViYmxpbmdNb3VzZUV2ZW50cyI6IHRydWUsCiAgImNvbG9yIjogIiMwMDAwMDAwMCIsCiAgImRhc2hBcnJheSI6IG51bGwsCiAgImRhc2hPZmZzZXQiOiBudWxsLAogICJmaWxsIjogdHJ1ZSwKICAiZmlsbENvbG9yIjogIiMwMDY2ZmYiLAogICJmaWxsT3BhY2l0eSI6IDAuMDcsCiAgImZpbGxSdWxlIjogImV2ZW5vZGQiLAogICJsaW5lQ2FwIjogInJvdW5kIiwKICAibGluZUpvaW4iOiAicm91bmQiLAogICJvcGFjaXR5IjogMS4wLAogICJyYWRpdXMiOiAyNTAsCiAgInN0cm9rZSI6IHRydWUsCiAgIndlaWdodCI6IDMKfQogICAgICAgICAgICAgICAgKS5hZGRUbyhtYXBfNWYxMjRkMjNkNmNjNDE2OGIzZTQ4NzliZTk5Yzg5MTUpOwogICAgICAgICAgICAKICAgIAoKICAgICAgICAgICAgdmFyIGNpcmNsZV9mZDUxZmEzZDA5Mjg0ZmQyYmZhMGE5ZTRhZTVhODI5NSA9IEwuY2lyY2xlKAogICAgICAgICAgICAgICAgWzM0LjA1NzUyNzQxOTM5MDE1NSwtMTE4LjI0ODk3MDUyNzA2OTQzXSwKICAgICAgICAgICAgICAgIHsKICAiYnViYmxpbmdNb3VzZUV2ZW50cyI6IHRydWUsCiAgImNvbG9yIjogIiMwMDAwMDAwMCIsCiAgImRhc2hBcnJheSI6IG51bGwsCiAgImRhc2hPZmZzZXQiOiBudWxsLAogICJmaWxsIjogdHJ1ZSwKICAiZmlsbENvbG9yIjogIiMwMDY2ZmYiLAogICJmaWxsT3BhY2l0eSI6IDAuMDcsCiAgImZpbGxSdWxlIjogImV2ZW5vZGQiLAogICJsaW5lQ2FwIjogInJvdW5kIiwKICAibGluZUpvaW4iOiAicm91bmQiLAogICJvcGFjaXR5IjogMS4wLAogICJyYWRpdXMiOiAyNTAsCiAgInN0cm9rZSI6IHRydWUsCiAgIndlaWdodCI6IDMKfQogICAgICAgICAgICAgICAgKS5hZGRUbyhtYXBfNWYxMjRkMjNkNmNjNDE2OGIzZTQ4NzliZTk5Yzg5MTUpOwogICAgICAgICAgICAKICAgIAoKICAgICAgICAgICAgdmFyIGNpcmNsZV84ZjU5MDc4MzBjZmI0NzlmYjU0NTNhMGY1OTVhNjQyMyA9IEwuY2lyY2xlKAogICAgICAgICAgICAgICAgWzM0LjA1MDgxMTc5MjAyOTA5LC0xMTguMjU5NTExNzE2MTYwMjVdLAogICAgICAgICAgICAgICAgewogICJidWJibGluZ01vdXNlRXZlbnRzIjogdHJ1ZSwKICAiY29sb3IiOiAiIzAwMDAwMDAwIiwKICAiZGFzaEFycmF5IjogbnVsbCwKICAiZGFzaE9mZnNldCI6IG51bGwsCiAgImZpbGwiOiB0cnVlLAogICJmaWxsQ29sb3IiOiAiIzAwNjZmZiIsCiAgImZpbGxPcGFjaXR5IjogMC4wNywKICAiZmlsbFJ1bGUiOiAiZXZlbm9kZCIsCiAgImxpbmVDYXAiOiAicm91bmQiLAogICJsaW5lSm9pbiI6ICJyb3VuZCIsCiAgIm9wYWNpdHkiOiAxLjAsCiAgInJhZGl1cyI6IDI1MCwKICAic3Ryb2tlIjogdHJ1ZSwKICAid2VpZ2h0IjogMwp9CiAgICAgICAgICAgICAgICApLmFkZFRvKG1hcF81ZjEyNGQyM2Q2Y2M0MTY4YjNlNDg3OWJlOTljODkxNSk7CiAgICAgICAgICAgIAogICAgCgogICAgICAgICAgICB2YXIgY2lyY2xlX2M2MGMyZWZiNzQ3MjRlNGZhMTc1NDU0MzVmYTFlMzRmID0gTC5jaXJjbGUoCiAgICAgICAgICAgICAgICBbMzQuMDQ1Mzc4Mjg2MjAyMzcsLTExOC4yNTEwNDM0MTIzODM4XSwKICAgICAgICAgICAgICAgIHsKICAiYnViYmxpbmdNb3VzZUV2ZW50cyI6IHRydWUsCiAgImNvbG9yIjogIiMwMDAwMDAwMCIsCiAgImRhc2hBcnJheSI6IG51bGwsCiAgImRhc2hPZmZzZXQiOiBudWxsLAogICJmaWxsIjogdHJ1ZSwKICAiZmlsbENvbG9yIjogIiMwMDY2ZmYiLAogICJmaWxsT3BhY2l0eSI6IDAuMDcsCiAgImZpbGxSdWxlIjogImV2ZW5vZGQiLAogICJsaW5lQ2FwIjogInJvdW5kIiwKICAibGluZUpvaW4iOiAicm91bmQiLAogICJvcGFjaXR5IjogMS4wLAogICJyYWRpdXMiOiAyNTAsCiAgInN0cm9rZSI6IHRydWUsCiAgIndlaWdodCI6IDMKfQogICAgICAgICAgICAgICAgKS5hZGRUbyhtYXBfNWYxMjRkMjNkNmNjNDE2OGIzZTQ4NzliZTk5Yzg5MTUpOwogICAgICAgICAgICAKICAgIAoKICAgICAgICAgICAgdmFyIGNpcmNsZV83Y2Q1NGUzYzcxMDE0OTQ1YTQyZjM5MzIyNzgyZmIxZCA9IEwuY2lyY2xlKAogICAgICAgICAgICAgICAgWzM0LjA0NTQyNjI4OTg5NTA3LC0xMTguMjUzODQxNDgyMjM3NjZdLAogICAgICAgICAgICAgICAgewogICJidWJibGluZ01vdXNlRXZlbnRzIjogdHJ1ZSwKICAiY29sb3IiOiAiIzAwMDAwMDAwIiwKICAiZGFzaEFycmF5IjogbnVsbCwKICAiZGFzaE9mZnNldCI6IG51bGwsCiAgImZpbGwiOiB0cnVlLAogICJmaWxsQ29sb3IiOiAiIzAwNjZmZiIsCiAgImZpbGxPcGFjaXR5IjogMC4wNywKICAiZmlsbFJ1bGUiOiAiZXZlbm9kZCIsCiAgImxpbmVDYXAiOiAicm91bmQiLAogICJsaW5lSm9pbiI6ICJyb3VuZCIsCiAgIm9wYWNpdHkiOiAxLjAsCiAgInJhZGl1cyI6IDI1MCwKICAic3Ryb2tlIjogdHJ1ZSwKICAid2VpZ2h0IjogMwp9CiAgICAgICAgICAgICAgICApLmFkZFRvKG1hcF81ZjEyNGQyM2Q2Y2M0MTY4YjNlNDg3OWJlOTljODkxNSk7CiAgICAgICAgICAgIAogICAgCgogICAgICAgICAgICB2YXIgY2lyY2xlXzUyNzZjMzg1NDgzMjRjY2FhNDZhZjUyZmM2MTJhZjdmID0gTC5jaXJjbGUoCiAgICAgICAgICAgICAgICBbMzQuMDUyMTAxLC0xMTguMjUxOTI4XSwKICAgICAgICAgICAgICAgIHsKICAiYnViYmxpbmdNb3VzZUV2ZW50cyI6IHRydWUsCiAgImNvbG9yIjogIiMwMDAwMDAwMCIsCiAgImRhc2hBcnJheSI6IG51bGwsCiAgImRhc2hPZmZzZXQiOiBudWxsLAogICJmaWxsIjogdHJ1ZSwKICAiZmlsbENvbG9yIjogIiMwMDY2ZmYiLAogICJmaWxsT3BhY2l0eSI6IDAuMDcsCiAgImZpbGxSdWxlIjogImV2ZW5vZGQiLAogICJsaW5lQ2FwIjogInJvdW5kIiwKICAibGluZUpvaW4iOiAicm91bmQiLAogICJvcGFjaXR5IjogMS4wLAogICJyYWRpdXMiOiAyNTAsCiAgInN0cm9rZSI6IHRydWUsCiAgIndlaWdodCI6IDMKfQogICAgICAgICAgICAgICAgKS5hZGRUbyhtYXBfNWYxMjRkMjNkNmNjNDE2OGIzZTQ4NzliZTk5Yzg5MTUpOwogICAgICAgICAgICAKICAgIAoKICAgICAgICAgICAgdmFyIGNpcmNsZV8xM2Y2NDc1OWI3Yzg0MWFiYWVjMjc5NTEzMmI0MjA2MyA9IEwuY2lyY2xlKAogICAgICAgICAgICAgICAgWzM0LjA1MTkzLC0xMTguMjUyMzVdLAogICAgICAgICAgICAgICAgewogICJidWJibGluZ01vdXNlRXZlbnRzIjogdHJ1ZSwKICAiY29sb3IiOiAiIzAwMDAwMDAwIiwKICAiZGFzaEFycmF5IjogbnVsbCwKICAiZGFzaE9mZnNldCI6IG51bGwsCiAgImZpbGwiOiB0cnVlLAogICJmaWxsQ29sb3IiOiAiIzAwNjZmZiIsCiAgImZpbGxPcGFjaXR5IjogMC4wNywKICAiZmlsbFJ1bGUiOiAiZXZlbm9kZCIsCiAgImxpbmVDYXAiOiAicm91bmQiLAogICJsaW5lSm9pbiI6ICJyb3VuZCIsCiAgIm9wYWNpdHkiOiAxLjAsCiAgInJhZGl1cyI6IDI1MCwKICAic3Ryb2tlIjogdHJ1ZSwKICAid2VpZ2h0IjogMwp9CiAgICAgICAgICAgICAgICApLmFkZFRvKG1hcF81ZjEyNGQyM2Q2Y2M0MTY4YjNlNDg3OWJlOTljODkxNSk7CiAgICAgICAgICAgIAogICAgCgogICAgICAgICAgICB2YXIgY2lyY2xlXzA0ZDM5Zjk4Y2VmOTQ3MzdiOTkzNWFjOGVjNGEyNTRiID0gTC5jaXJjbGUoCiAgICAgICAgICAgICAgICBbMzQuMDQ4MDg4OTQ3MDg5NzgsLTExOC4yNTgyNzI2MTc2NDQ2XSwKICAgICAgICAgICAgICAgIHsKICAiYnViYmxpbmdNb3VzZUV2ZW50cyI6IHRydWUsCiAgImNvbG9yIjogIiMwMDAwMDAwMCIsCiAgImRhc2hBcnJheSI6IG51bGwsCiAgImRhc2hPZmZzZXQiOiBudWxsLAogICJmaWxsIjogdHJ1ZSwKICAiZmlsbENvbG9yIjogIiMwMDY2ZmYiLAogICJmaWxsT3BhY2l0eSI6IDAuMDcsCiAgImZpbGxSdWxlIjogImV2ZW5vZGQiLAogICJsaW5lQ2FwIjogInJvdW5kIiwKICAibGluZUpvaW4iOiAicm91bmQiLAogICJvcGFjaXR5IjogMS4wLAogICJyYWRpdXMiOiAyNTAsCiAgInN0cm9rZSI6IHRydWUsCiAgIndlaWdodCI6IDMKfQogICAgICAgICAgICAgICAgKS5hZGRUbyhtYXBfNWYxMjRkMjNkNmNjNDE2OGIzZTQ4NzliZTk5Yzg5MTUpOwogICAgICAgICAgICAKICAgIAoKICAgICAgICAgICAgdmFyIGNpcmNsZV8xOTg1MzBhYmRlMTk0ODk2ODM5NmVmMTRmYzY5ZTMyOSA9IEwuY2lyY2xlKAogICAgICAgICAgICAgICAgWzM0LjA1MDczMTk2MzMxMzQ1LC0xMTguMjU0NjM1MjEyMDkzMjhdLAogICAgICAgICAgICAgICAgewogICJidWJibGluZ01vdXNlRXZlbnRzIjogdHJ1ZSwKICAiY29sb3IiOiAiIzAwMDAwMDAwIiwKICAiZGFzaEFycmF5IjogbnVsbCwKICAiZGFzaE9mZnNldCI6IG51bGwsCiAgImZpbGwiOiB0cnVlLAogICJmaWxsQ29sb3IiOiAiIzAwNjZmZiIsCiAgImZpbGxPcGFjaXR5IjogMC4wNywKICAiZmlsbFJ1bGUiOiAiZXZlbm9kZCIsCiAgImxpbmVDYXAiOiAicm91bmQiLAogICJsaW5lSm9pbiI6ICJyb3VuZCIsCiAgIm9wYWNpdHkiOiAxLjAsCiAgInJhZGl1cyI6IDI1MCwKICAic3Ryb2tlIjogdHJ1ZSwKICAid2VpZ2h0IjogMwp9CiAgICAgICAgICAgICAgICApLmFkZFRvKG1hcF81ZjEyNGQyM2Q2Y2M0MTY4YjNlNDg3OWJlOTljODkxNSk7CiAgICAgICAgICAgIAogICAgCgogICAgICAgICAgICB2YXIgY2lyY2xlXzdiZWQ3MGU4OWU4ZTRkOWQ5M2E0OTViYTQxNjQ4OTI2ID0gTC5jaXJjbGUoCiAgICAgICAgICAgICAgICBbMzQuMDQ4NDAyODY5Njk3MzcsLTExOC4yNDM1ODU0NzYzODA1Nl0sCiAgICAgICAgICAgICAgICB7CiAgImJ1YmJsaW5nTW91c2VFdmVudHMiOiB0cnVlLAogICJjb2xvciI6ICIjMDAwMDAwMDAiLAogICJkYXNoQXJyYXkiOiBudWxsLAogICJkYXNoT2Zmc2V0IjogbnVsbCwKICAiZmlsbCI6IHRydWUsCiAgImZpbGxDb2xvciI6ICIjMDA2NmZmIiwKICAiZmlsbE9wYWNpdHkiOiAwLjA3LAogICJmaWxsUnVsZSI6ICJldmVub2RkIiwKICAibGluZUNhcCI6ICJyb3VuZCIsCiAgImxpbmVKb2luIjogInJvdW5kIiwKICAib3BhY2l0eSI6IDEuMCwKICAicmFkaXVzIjogMjUwLAogICJzdHJva2UiOiB0cnVlLAogICJ3ZWlnaHQiOiAzCn0KICAgICAgICAgICAgICAgICkuYWRkVG8obWFwXzVmMTI0ZDIzZDZjYzQxNjhiM2U0ODc5YmU5OWM4OTE1KTsKICAgICAgICAgICAgCiAgICAKCiAgICAgICAgICAgIHZhciBjaXJjbGVfODRmMmJjYWE1N2I2NGExZDk3ZmI2NTM1MmUxNzIxMmQgPSBMLmNpcmNsZSgKICAgICAgICAgICAgICAgIFszNC4wNDI1NzYxOTIxNTUyNDUsLTExOC4yNTYzMDI2MDM4MjkxM10sCiAgICAgICAgICAgICAgICB7CiAgImJ1YmJsaW5nTW91c2VFdmVudHMiOiB0cnVlLAogICJjb2xvciI6ICIjMDAwMDAwMDAiLAogICJkYXNoQXJyYXkiOiBudWxsLAogICJkYXNoT2Zmc2V0IjogbnVsbCwKICAiZmlsbCI6IHRydWUsCiAgImZpbGxDb2xvciI6ICIjMDA2NmZmIiwKICAiZmlsbE9wYWNpdHkiOiAwLjA3LAogICJmaWxsUnVsZSI6ICJldmVub2RkIiwKICAibGluZUNhcCI6ICJyb3VuZCIsCiAgImxpbmVKb2luIjogInJvdW5kIiwKICAib3BhY2l0eSI6IDEuMCwKICAicmFkaXVzIjogMjUwLAogICJzdHJva2UiOiB0cnVlLAogICJ3ZWlnaHQiOiAzCn0KICAgICAgICAgICAgICAgICkuYWRkVG8obWFwXzVmMTI0ZDIzZDZjYzQxNjhiM2U0ODc5YmU5OWM4OTE1KTsKICAgICAgICAgICAgCiAgICAKCiAgICAgICAgICAgIHZhciBjaXJjbGVfZjUzZDA3ZjI1ZDQ2NGY5MDllNmIwNjMzMjliODkyY2UgPSBMLmNpcmNsZSgKICAgICAgICAgICAgICAgIFszNC4wNTIzOTcsLTExOC4yNTE2NjRdLAogICAgICAgICAgICAgICAgewogICJidWJibGluZ01vdXNlRXZlbnRzIjogdHJ1ZSwKICAiY29sb3IiOiAiIzAwMDAwMDAwIiwKICAiZGFzaEFycmF5IjogbnVsbCwKICAiZGFzaE9mZnNldCI6IG51bGwsCiAgImZpbGwiOiB0cnVlLAogICJmaWxsQ29sb3IiOiAiIzAwNjZmZiIsCiAgImZpbGxPcGFjaXR5IjogMC4wNywKICAiZmlsbFJ1bGUiOiAiZXZlbm9kZCIsCiAgImxpbmVDYXAiOiAicm91bmQiLAogICJsaW5lSm9pbiI6ICJyb3VuZCIsCiAgIm9wYWNpdHkiOiAxLjAsCiAgInJhZGl1cyI6IDI1MCwKICAic3Ryb2tlIjogdHJ1ZSwKICAid2VpZ2h0IjogMwp9CiAgICAgICAgICAgICAgICApLmFkZFRvKG1hcF81ZjEyNGQyM2Q2Y2M0MTY4YjNlNDg3OWJlOTljODkxNSk7CiAgICAgICAgICAgIAogICAgCgogICAgICAgICAgICB2YXIgY2lyY2xlX2Y3OGIzNDgwOTk0ZDQzYzliZGQ4MmYzMjIwODQ3ZWM0ID0gTC5jaXJjbGUoCiAgICAgICAgICAgICAgICBbMzQuMDUzODA1NzU1OTE3NCwtMTE4LjI1MDg5NDk0MjA5MzU4XSwKICAgICAgICAgICAgICAgIHsKICAiYnViYmxpbmdNb3VzZUV2ZW50cyI6IHRydWUsCiAgImNvbG9yIjogIiMwMDAwMDAwMCIsCiAgImRhc2hBcnJheSI6IG51bGwsCiAgImRhc2hPZmZzZXQiOiBudWxsLAogICJmaWxsIjogdHJ1ZSwKICAiZmlsbENvbG9yIjogIiMwMDY2ZmYiLAogICJmaWxsT3BhY2l0eSI6IDAuMDcsCiAgImZpbGxSdWxlIjogImV2ZW5vZGQiLAogICJsaW5lQ2FwIjogInJvdW5kIiwKICAibGluZUpvaW4iOiAicm91bmQiLAogICJvcGFjaXR5IjogMS4wLAogICJyYWRpdXMiOiAyNTAsCiAgInN0cm9rZSI6IHRydWUsCiAgIndlaWdodCI6IDMKfQogICAgICAgICAgICAgICAgKS5hZGRUbyhtYXBfNWYxMjRkMjNkNmNjNDE2OGIzZTQ4NzliZTk5Yzg5MTUpOwogICAgICAgICAgICAKICAgIAoKICAgICAgICAgICAgdmFyIGNpcmNsZV8zYmYyYjA4NThmNmM0NGY1OTZiNjg4OWVjNTA3ODdiZiA9IEwuY2lyY2xlKAogICAgICAgICAgICAgICAgWzM0LjA0ODExLC0xMTguMjYwNzM3XSwKICAgICAgICAgICAgICAgIHsKICAiYnViYmxpbmdNb3VzZUV2ZW50cyI6IHRydWUsCiAgImNvbG9yIjogIiMwMDAwMDAwMCIsCiAgImRhc2hBcnJheSI6IG51bGwsCiAgImRhc2hPZmZzZXQiOiBudWxsLAogICJmaWxsIjogdHJ1ZSwKICAiZmlsbENvbG9yIjogIiMwMDY2ZmYiLAogICJmaWxsT3BhY2l0eSI6IDAuMDcsCiAgImZpbGxSdWxlIjogImV2ZW5vZGQiLAogICJsaW5lQ2FwIjogInJvdW5kIiwKICAibGluZUpvaW4iOiAicm91bmQiLAogICJvcGFjaXR5IjogMS4wLAogICJyYWRpdXMiOiAyNTAsCiAgInN0cm9rZSI6IHRydWUsCiAgIndlaWdodCI6IDMKfQogICAgICAgICAgICAgICAgKS5hZGRUbyhtYXBfNWYxMjRkMjNkNmNjNDE2OGIzZTQ4NzliZTk5Yzg5MTUpOwogICAgICAgICAgICAKICAgIAoKICAgICAgICAgICAgdmFyIGNpcmNsZV8xZTRmYTY4OGFiZDg0N2ViOGExMTllNWNlNWJhZjA5ZCA9IEwuY2lyY2xlKAogICAgICAgICAgICAgICAgWzM0LjA1MjI4MDU1MDA1NDMxLC0xMTguMjUwOTEyMDczMjg3NDhdLAogICAgICAgICAgICAgICAgewogICJidWJibGluZ01vdXNlRXZlbnRzIjogdHJ1ZSwKICAiY29sb3IiOiAiIzAwMDAwMDAwIiwKICAiZGFzaEFycmF5IjogbnVsbCwKICAiZGFzaE9mZnNldCI6IG51bGwsCiAgImZpbGwiOiB0cnVlLAogICJmaWxsQ29sb3IiOiAiIzAwNjZmZiIsCiAgImZpbGxPcGFjaXR5IjogMC4wNywKICAiZmlsbFJ1bGUiOiAiZXZlbm9kZCIsCiAgImxpbmVDYXAiOiAicm91bmQiLAogICJsaW5lSm9pbiI6ICJyb3VuZCIsCiAgIm9wYWNpdHkiOiAxLjAsCiAgInJhZGl1cyI6IDI1MCwKICAic3Ryb2tlIjogdHJ1ZSwKICAid2VpZ2h0IjogMwp9CiAgICAgICAgICAgICAgICApLmFkZFRvKG1hcF81ZjEyNGQyM2Q2Y2M0MTY4YjNlNDg3OWJlOTljODkxNSk7CiAgICAgICAgICAgIAogICAgCgogICAgICAgICAgICB2YXIgY2lyY2xlXzNmOWYyNWJlNzc0MzQwN2I4MWE2NjEwZmI1N2M4YzExID0gTC5jaXJjbGUoCiAgICAgICAgICAgICAgICBbMzQuMDQ4NDAzNTgzMjI4NTMsLTExOC4yNjA2NDIzMTQzNDYwN10sCiAgICAgICAgICAgICAgICB7CiAgImJ1YmJsaW5nTW91c2VFdmVudHMiOiB0cnVlLAogICJjb2xvciI6ICIjMDAwMDAwMDAiLAogICJkYXNoQXJyYXkiOiBudWxsLAogICJkYXNoT2Zmc2V0IjogbnVsbCwKICAiZmlsbCI6IHRydWUsCiAgImZpbGxDb2xvciI6ICIjMDA2NmZmIiwKICAiZmlsbE9wYWNpdHkiOiAwLjA3LAogICJmaWxsUnVsZSI6ICJldmVub2RkIiwKICAibGluZUNhcCI6ICJyb3VuZCIsCiAgImxpbmVKb2luIjogInJvdW5kIiwKICAib3BhY2l0eSI6IDEuMCwKICAicmFkaXVzIjogMjUwLAogICJzdHJva2UiOiB0cnVlLAogICJ3ZWlnaHQiOiAzCn0KICAgICAgICAgICAgICAgICkuYWRkVG8obWFwXzVmMTI0ZDIzZDZjYzQxNjhiM2U0ODc5YmU5OWM4OTE1KTsKICAgICAgICAgICAgCiAgICAKCiAgICAgICAgICAgIHZhciBjaXJjbGVfMTkyYTExNjRhNWFkNDRhNzkzNmE5ZDA5OWNkNzg0MDAgPSBMLmNpcmNsZSgKICAgICAgICAgICAgICAgIFszNC4wNDg1NjEsLTExOC4yNDc5ODVdLAogICAgICAgICAgICAgICAgewogICJidWJibGluZ01vdXNlRXZlbnRzIjogdHJ1ZSwKICAiY29sb3IiOiAiIzAwMDAwMDAwIiwKICAiZGFzaEFycmF5IjogbnVsbCwKICAiZGFzaE9mZnNldCI6IG51bGwsCiAgImZpbGwiOiB0cnVlLAogICJmaWxsQ29sb3IiOiAiIzAwNjZmZiIsCiAgImZpbGxPcGFjaXR5IjogMC4wNywKICAiZmlsbFJ1bGUiOiAiZXZlbm9kZCIsCiAgImxpbmVDYXAiOiAicm91bmQiLAogICJsaW5lSm9pbiI6ICJyb3VuZCIsCiAgIm9wYWNpdHkiOiAxLjAsCiAgInJhZGl1cyI6IDI1MCwKICAic3Ryb2tlIjogdHJ1ZSwKICAid2VpZ2h0IjogMwp9CiAgICAgICAgICAgICAgICApLmFkZFRvKG1hcF81ZjEyNGQyM2Q2Y2M0MTY4YjNlNDg3OWJlOTljODkxNSk7CiAgICAgICAgICAgIAogICAgCgogICAgICAgICAgICB2YXIgY2lyY2xlX2JkYzg4YWZjYmMwMDQ2NmFiNGMyMTE3NDNjNzAyNDdhID0gTC5jaXJjbGUoCiAgICAgICAgICAgICAgICBbMzQuMDUyOTg3Mzc3MzkyMjQsLTExOC4yNTI5NzM1MTQ0NDEyNF0sCiAgICAgICAgICAgICAgICB7CiAgImJ1YmJsaW5nTW91c2VFdmVudHMiOiB0cnVlLAogICJjb2xvciI6ICIjMDAwMDAwMDAiLAogICJkYXNoQXJyYXkiOiBudWxsLAogICJkYXNoT2Zmc2V0IjogbnVsbCwKICAiZmlsbCI6IHRydWUsCiAgImZpbGxDb2xvciI6ICIjMDA2NmZmIiwKICAiZmlsbE9wYWNpdHkiOiAwLjA3LAogICJmaWxsUnVsZSI6ICJldmVub2RkIiwKICAibGluZUNhcCI6ICJyb3VuZCIsCiAgImxpbmVKb2luIjogInJvdW5kIiwKICAib3BhY2l0eSI6IDEuMCwKICAicmFkaXVzIjogMjUwLAogICJzdHJva2UiOiB0cnVlLAogICJ3ZWlnaHQiOiAzCn0KICAgICAgICAgICAgICAgICkuYWRkVG8obWFwXzVmMTI0ZDIzZDZjYzQxNjhiM2U0ODc5YmU5OWM4OTE1KTsKICAgICAgICAgICAgCiAgICAKCiAgICAgICAgICAgIHZhciBjaXJjbGVfMDVhNmFmM2Q2M2U3NDY2YWJjOTNiM2Q5YzNlOTA3MGMgPSBMLmNpcmNsZSgKICAgICAgICAgICAgICAgIFszNC4wNTQyMjE2OTQzMjIxMSwtMTE4LjI0NDEyNzk4NjUwMDgxXSwKICAgICAgICAgICAgICAgIHsKICAiYnViYmxpbmdNb3VzZUV2ZW50cyI6IHRydWUsCiAgImNvbG9yIjogIiMwMDAwMDAwMCIsCiAgImRhc2hBcnJheSI6IG51bGwsCiAgImRhc2hPZmZzZXQiOiBudWxsLAogICJmaWxsIjogdHJ1ZSwKICAiZmlsbENvbG9yIjogIiMwMDY2ZmYiLAogICJmaWxsT3BhY2l0eSI6IDAuMDcsCiAgImZpbGxSdWxlIjogImV2ZW5vZGQiLAogICJsaW5lQ2FwIjogInJvdW5kIiwKICAibGluZUpvaW4iOiAicm91bmQiLAogICJvcGFjaXR5IjogMS4wLAogICJyYWRpdXMiOiAyNTAsCiAgInN0cm9rZSI6IHRydWUsCiAgIndlaWdodCI6IDMKfQogICAgICAgICAgICAgICAgKS5hZGRUbyhtYXBfNWYxMjRkMjNkNmNjNDE2OGIzZTQ4NzliZTk5Yzg5MTUpOwogICAgICAgICAgICAKICAgIAoKICAgICAgICAgICAgdmFyIGNpcmNsZV8yOGRhYjM5NjljODE0ZDAwYTA5YTBlMmNhMjEyY2IwNyA9IEwuY2lyY2xlKAogICAgICAgICAgICAgICAgWzM0LjA0MzA0MSwtMTE4LjI2Mzk5XSwKICAgICAgICAgICAgICAgIHsKICAiYnViYmxpbmdNb3VzZUV2ZW50cyI6IHRydWUsCiAgImNvbG9yIjogIiMwMDAwMDAwMCIsCiAgImRhc2hBcnJheSI6IG51bGwsCiAgImRhc2hPZmZzZXQiOiBudWxsLAogICJmaWxsIjogdHJ1ZSwKICAiZmlsbENvbG9yIjogIiMwMDY2ZmYiLAogICJmaWxsT3BhY2l0eSI6IDAuMDcsCiAgImZpbGxSdWxlIjogImV2ZW5vZGQiLAogICJsaW5lQ2FwIjogInJvdW5kIiwKICAibGluZUpvaW4iOiAicm91bmQiLAogICJvcGFjaXR5IjogMS4wLAogICJyYWRpdXMiOiAyNTAsCiAgInN0cm9rZSI6IHRydWUsCiAgIndlaWdodCI6IDMKfQogICAgICAgICAgICAgICAgKS5hZGRUbyhtYXBfNWYxMjRkMjNkNmNjNDE2OGIzZTQ4NzliZTk5Yzg5MTUpOwogICAgICAgICAgICAKICAgIAoKICAgICAgICAgICAgdmFyIGNpcmNsZV8xNWRmOTliYmQyY2E0ZmQ2YTA5NmZkZTE4NTU5MDc5NSA9IEwuY2lyY2xlKAogICAgICAgICAgICAgICAgWzM0LjA0ODkxOSwtMTE4LjI1MTQyOF0sCiAgICAgICAgICAgICAgICB7CiAgImJ1YmJsaW5nTW91c2VFdmVudHMiOiB0cnVlLAogICJjb2xvciI6ICIjMDAwMDAwMDAiLAogICJkYXNoQXJyYXkiOiBudWxsLAogICJkYXNoT2Zmc2V0IjogbnVsbCwKICAiZmlsbCI6IHRydWUsCiAgImZpbGxDb2xvciI6ICIjMDA2NmZmIiwKICAiZmlsbE9wYWNpdHkiOiAwLjA3LAogICJmaWxsUnVsZSI6ICJldmVub2RkIiwKICAibGluZUNhcCI6ICJyb3VuZCIsCiAgImxpbmVKb2luIjogInJvdW5kIiwKICAib3BhY2l0eSI6IDEuMCwKICAicmFkaXVzIjogMjUwLAogICJzdHJva2UiOiB0cnVlLAogICJ3ZWlnaHQiOiAzCn0KICAgICAgICAgICAgICAgICkuYWRkVG8obWFwXzVmMTI0ZDIzZDZjYzQxNjhiM2U0ODc5YmU5OWM4OTE1KTsKICAgICAgICAgICAgCiAgICAKCiAgICAgICAgICAgIHZhciBjaXJjbGVfNWRmZjlmZTU1MzNjNGNhZTlkM2JhOGQ4MTEzZjhjM2EgPSBMLmNpcmNsZSgKICAgICAgICAgICAgICAgIFszNC4wNTEwNDUyMDc3MDUyNywtMTE4LjI1NDQwMzE1MTgxODc5XSwKICAgICAgICAgICAgICAgIHsKICAiYnViYmxpbmdNb3VzZUV2ZW50cyI6IHRydWUsCiAgImNvbG9yIjogIiMwMDAwMDAwMCIsCiAgImRhc2hBcnJheSI6IG51bGwsCiAgImRhc2hPZmZzZXQiOiBudWxsLAogICJmaWxsIjogdHJ1ZSwKICAiZmlsbENvbG9yIjogIiMwMDY2ZmYiLAogICJmaWxsT3BhY2l0eSI6IDAuMDcsCiAgImZpbGxSdWxlIjogImV2ZW5vZGQiLAogICJsaW5lQ2FwIjogInJvdW5kIiwKICAibGluZUpvaW4iOiAicm91bmQiLAogICJvcGFjaXR5IjogMS4wLAogICJyYWRpdXMiOiAyNTAsCiAgInN0cm9rZSI6IHRydWUsCiAgIndlaWdodCI6IDMKfQogICAgICAgICAgICAgICAgKS5hZGRUbyhtYXBfNWYxMjRkMjNkNmNjNDE2OGIzZTQ4NzliZTk5Yzg5MTUpOwogICAgICAgICAgICAKICAgIAoKICAgICAgICAgICAgdmFyIGNpcmNsZV9lMzU1NGMyMzIwZmM0NjcxYmEyNmYzNzllMmFmMmE2ZCA9IEwuY2lyY2xlKAogICAgICAgICAgICAgICAgWzM0LjA0OTc0Mjk0OTEyODE3LC0xMTguMjU2NTQ3NjUwNzM1Nl0sCiAgICAgICAgICAgICAgICB7CiAgImJ1YmJsaW5nTW91c2VFdmVudHMiOiB0cnVlLAogICJjb2xvciI6ICIjMDAwMDAwMDAiLAogICJkYXNoQXJyYXkiOiBudWxsLAogICJkYXNoT2Zmc2V0IjogbnVsbCwKICAiZmlsbCI6IHRydWUsCiAgImZpbGxDb2xvciI6ICIjMDA2NmZmIiwKICAiZmlsbE9wYWNpdHkiOiAwLjA3LAogICJmaWxsUnVsZSI6ICJldmVub2RkIiwKICAibGluZUNhcCI6ICJyb3VuZCIsCiAgImxpbmVKb2luIjogInJvdW5kIiwKICAib3BhY2l0eSI6IDEuMCwKICAicmFkaXVzIjogMjUwLAogICJzdHJva2UiOiB0cnVlLAogICJ3ZWlnaHQiOiAzCn0KICAgICAgICAgICAgICAgICkuYWRkVG8obWFwXzVmMTI0ZDIzZDZjYzQxNjhiM2U0ODc5YmU5OWM4OTE1KTsKICAgICAgICAgICAgCiAgICAKCiAgICAgICAgICAgIHZhciBjaXJjbGVfMWE0ODgxYmZhYjIzNDUyNzkyY2M0YzA0OTNiYjEzNDkgPSBMLmNpcmNsZSgKICAgICAgICAgICAgICAgIFszNC4wNDg4NjU2OTQ1NDkzMSwtMTE4LjI1ODgzMDIzNjg2NDYzXSwKICAgICAgICAgICAgICAgIHsKICAiYnViYmxpbmdNb3VzZUV2ZW50cyI6IHRydWUsCiAgImNvbG9yIjogIiMwMDAwMDAwMCIsCiAgImRhc2hBcnJheSI6IG51bGwsCiAgImRhc2hPZmZzZXQiOiBudWxsLAogICJmaWxsIjogdHJ1ZSwKICAiZmlsbENvbG9yIjogIiMwMDY2ZmYiLAogICJmaWxsT3BhY2l0eSI6IDAuMDcsCiAgImZpbGxSdWxlIjogImV2ZW5vZGQiLAogICJsaW5lQ2FwIjogInJvdW5kIiwKICAibGluZUpvaW4iOiAicm91bmQiLAogICJvcGFjaXR5IjogMS4wLAogICJyYWRpdXMiOiAyNTAsCiAgInN0cm9rZSI6IHRydWUsCiAgIndlaWdodCI6IDMKfQogICAgICAgICAgICAgICAgKS5hZGRUbyhtYXBfNWYxMjRkMjNkNmNjNDE2OGIzZTQ4NzliZTk5Yzg5MTUpOwogICAgICAgICAgICAKICAgIAoKICAgICAgICAgICAgdmFyIGNpcmNsZV9lOWRiZDcxZWRkZmQ0ZmJmOGRlZTQ0N2UyMDg2MzJmMiA9IEwuY2lyY2xlKAogICAgICAgICAgICAgICAgWzM0LjA1MzM4LC0xMTguMjUzNDhdLAogICAgICAgICAgICAgICAgewogICJidWJibGluZ01vdXNlRXZlbnRzIjogdHJ1ZSwKICAiY29sb3IiOiAiIzAwMDAwMDAwIiwKICAiZGFzaEFycmF5IjogbnVsbCwKICAiZGFzaE9mZnNldCI6IG51bGwsCiAgImZpbGwiOiB0cnVlLAogICJmaWxsQ29sb3IiOiAiIzAwNjZmZiIsCiAgImZpbGxPcGFjaXR5IjogMC4wNywKICAiZmlsbFJ1bGUiOiAiZXZlbm9kZCIsCiAgImxpbmVDYXAiOiAicm91bmQiLAogICJsaW5lSm9pbiI6ICJyb3VuZCIsCiAgIm9wYWNpdHkiOiAxLjAsCiAgInJhZGl1cyI6IDI1MCwKICAic3Ryb2tlIjogdHJ1ZSwKICAid2VpZ2h0IjogMwp9CiAgICAgICAgICAgICAgICApLmFkZFRvKG1hcF81ZjEyNGQyM2Q2Y2M0MTY4YjNlNDg3OWJlOTljODkxNSk7CiAgICAgICAgICAgIAogICAgCgogICAgICAgICAgICB2YXIgY2lyY2xlX2UxNDM1OTM2MTQ2NTQ2YjQ5ZmFlZmU1ZTk1NDMwNTI4ID0gTC5jaXJjbGUoCiAgICAgICAgICAgICAgICBbMzQuMDQ3NDU5NzYxMzQ1MTQ1LC0xMTguMjU2NzQ3MDI2NTE5XSwKICAgICAgICAgICAgICAgIHsKICAiYnViYmxpbmdNb3VzZUV2ZW50cyI6IHRydWUsCiAgImNvbG9yIjogIiMwMDAwMDAwMCIsCiAgImRhc2hBcnJheSI6IG51bGwsCiAgImRhc2hPZmZzZXQiOiBudWxsLAogICJmaWxsIjogdHJ1ZSwKICAiZmlsbENvbG9yIjogIiMwMDY2ZmYiLAogICJmaWxsT3BhY2l0eSI6IDAuMDcsCiAgImZpbGxSdWxlIjogImV2ZW5vZGQiLAogICJsaW5lQ2FwIjogInJvdW5kIiwKICAibGluZUpvaW4iOiAicm91bmQiLAogICJvcGFjaXR5IjogMS4wLAogICJyYWRpdXMiOiAyNTAsCiAgInN0cm9rZSI6IHRydWUsCiAgIndlaWdodCI6IDMKfQogICAgICAgICAgICAgICAgKS5hZGRUbyhtYXBfNWYxMjRkMjNkNmNjNDE2OGIzZTQ4NzliZTk5Yzg5MTUpOwogICAgICAgICAgICAKICAgIAoKICAgICAgICAgICAgdmFyIGNpcmNsZV84NjUzODU4Zjk4NjU0M2E2YjFmYjA1N2VmMDJkN2E3YyA9IEwuY2lyY2xlKAogICAgICAgICAgICAgICAgWzM0LjA0NzcxNjA3OTA2MzMxLC0xMTguMjQ3NDUxNTM3MzMwNzldLAogICAgICAgICAgICAgICAgewogICJidWJibGluZ01vdXNlRXZlbnRzIjogdHJ1ZSwKICAiY29sb3IiOiAiIzAwMDAwMDAwIiwKICAiZGFzaEFycmF5IjogbnVsbCwKICAiZGFzaE9mZnNldCI6IG51bGwsCiAgImZpbGwiOiB0cnVlLAogICJmaWxsQ29sb3IiOiAiIzAwNjZmZiIsCiAgImZpbGxPcGFjaXR5IjogMC4wNywKICAiZmlsbFJ1bGUiOiAiZXZlbm9kZCIsCiAgImxpbmVDYXAiOiAicm91bmQiLAogICJsaW5lSm9pbiI6ICJyb3VuZCIsCiAgIm9wYWNpdHkiOiAxLjAsCiAgInJhZGl1cyI6IDI1MCwKICAic3Ryb2tlIjogdHJ1ZSwKICAid2VpZ2h0IjogMwp9CiAgICAgICAgICAgICAgICApLmFkZFRvKG1hcF81ZjEyNGQyM2Q2Y2M0MTY4YjNlNDg3OWJlOTljODkxNSk7CiAgICAgICAgICAgIAogICAgCgogICAgICAgICAgICB2YXIgY2lyY2xlX2NjYzgzZTJhNDIzOTQ4MDk5NDY1YTM4ZDkyNDM3NmI3ID0gTC5jaXJjbGUoCiAgICAgICAgICAgICAgICBbMzQuMDQ2MjE4ODM3ODYyNTYsLTExOC4yNjMxMDI1MjY3OTA2M10sCiAgICAgICAgICAgICAgICB7CiAgImJ1YmJsaW5nTW91c2VFdmVudHMiOiB0cnVlLAogICJjb2xvciI6ICIjMDAwMDAwMDAiLAogICJkYXNoQXJyYXkiOiBudWxsLAogICJkYXNoT2Zmc2V0IjogbnVsbCwKICAiZmlsbCI6IHRydWUsCiAgImZpbGxDb2xvciI6ICIjMDA2NmZmIiwKICAiZmlsbE9wYWNpdHkiOiAwLjA3LAogICJmaWxsUnVsZSI6ICJldmVub2RkIiwKICAibGluZUNhcCI6ICJyb3VuZCIsCiAgImxpbmVKb2luIjogInJvdW5kIiwKICAib3BhY2l0eSI6IDEuMCwKICAicmFkaXVzIjogMjUwLAogICJzdHJva2UiOiB0cnVlLAogICJ3ZWlnaHQiOiAzCn0KICAgICAgICAgICAgICAgICkuYWRkVG8obWFwXzVmMTI0ZDIzZDZjYzQxNjhiM2U0ODc5YmU5OWM4OTE1KTsKICAgICAgICAgICAgCiAgICAKCiAgICAgICAgICAgIHZhciBjaXJjbGVfNGYxYmEyNGEzNThlNGQwNTkwNWZiM2NjNTRjY2E1NmYgPSBMLmNpcmNsZSgKICAgICAgICAgICAgICAgIFszNC4wNDIyMDMwMjMwNTU1NywtMTE4LjI1NDUyMDU4MTg0Mzg4XSwKICAgICAgICAgICAgICAgIHsKICAiYnViYmxpbmdNb3VzZUV2ZW50cyI6IHRydWUsCiAgImNvbG9yIjogIiMwMDAwMDAwMCIsCiAgImRhc2hBcnJheSI6IG51bGwsCiAgImRhc2hPZmZzZXQiOiBudWxsLAogICJmaWxsIjogdHJ1ZSwKICAiZmlsbENvbG9yIjogIiMwMDY2ZmYiLAogICJmaWxsT3BhY2l0eSI6IDAuMDcsCiAgImZpbGxSdWxlIjogImV2ZW5vZGQiLAogICJsaW5lQ2FwIjogInJvdW5kIiwKICAibGluZUpvaW4iOiAicm91bmQiLAogICJvcGFjaXR5IjogMS4wLAogICJyYWRpdXMiOiAyNTAsCiAgInN0cm9rZSI6IHRydWUsCiAgIndlaWdodCI6IDMKfQogICAgICAgICAgICAgICAgKS5hZGRUbyhtYXBfNWYxMjRkMjNkNmNjNDE2OGIzZTQ4NzliZTk5Yzg5MTUpOwogICAgICAgICAgICAKICAgIAoKICAgICAgICAgICAgdmFyIGNpcmNsZV9lNDBmNmI4ZmRlNjI0MmIwODE0ZjI4ZWZlZjZlNjA5ZiA9IEwuY2lyY2xlKAogICAgICAgICAgICAgICAgWzM0LjA0NzI3MTE1MjMwOTM5LC0xMTguMjU2NTE5ODk2MjU4MThdLAogICAgICAgICAgICAgICAgewogICJidWJibGluZ01vdXNlRXZlbnRzIjogdHJ1ZSwKICAiY29sb3IiOiAiIzAwMDAwMDAwIiwKICAiZGFzaEFycmF5IjogbnVsbCwKICAiZGFzaE9mZnNldCI6IG51bGwsCiAgImZpbGwiOiB0cnVlLAogICJmaWxsQ29sb3IiOiAiIzAwNjZmZiIsCiAgImZpbGxPcGFjaXR5IjogMC4wNywKICAiZmlsbFJ1bGUiOiAiZXZlbm9kZCIsCiAgImxpbmVDYXAiOiAicm91bmQiLAogICJsaW5lSm9pbiI6ICJyb3VuZCIsCiAgIm9wYWNpdHkiOiAxLjAsCiAgInJhZGl1cyI6IDI1MCwKICAic3Ryb2tlIjogdHJ1ZSwKICAid2VpZ2h0IjogMwp9CiAgICAgICAgICAgICAgICApLmFkZFRvKG1hcF81ZjEyNGQyM2Q2Y2M0MTY4YjNlNDg3OWJlOTljODkxNSk7CiAgICAgICAgICAgIAogICAgCgogICAgICAgICAgICB2YXIgY2lyY2xlXzQwNzI1OTI3ZjdhMDQwMjRiOGNmMDFmODRiODBjNDhkID0gTC5jaXJjbGUoCiAgICAgICAgICAgICAgICBbMzQuMDQ2NTY0MDc0MTY2NzksLTExOC4yNTkyNDM2NTc1MjQ1OF0sCiAgICAgICAgICAgICAgICB7CiAgImJ1YmJsaW5nTW91c2VFdmVudHMiOiB0cnVlLAogICJjb2xvciI6ICIjMDAwMDAwMDAiLAogICJkYXNoQXJyYXkiOiBudWxsLAogICJkYXNoT2Zmc2V0IjogbnVsbCwKICAiZmlsbCI6IHRydWUsCiAgImZpbGxDb2xvciI6ICIjMDA2NmZmIiwKICAiZmlsbE9wYWNpdHkiOiAwLjA3LAogICJmaWxsUnVsZSI6ICJldmVub2RkIiwKICAibGluZUNhcCI6ICJyb3VuZCIsCiAgImxpbmVKb2luIjogInJvdW5kIiwKICAib3BhY2l0eSI6IDEuMCwKICAicmFkaXVzIjogMjUwLAogICJzdHJva2UiOiB0cnVlLAogICJ3ZWlnaHQiOiAzCn0KICAgICAgICAgICAgICAgICkuYWRkVG8obWFwXzVmMTI0ZDIzZDZjYzQxNjhiM2U0ODc5YmU5OWM4OTE1KTsKICAgICAgICAgICAgCiAgICAKCiAgICAgICAgICAgIHZhciBjaXJjbGVfMGU5NGI2NTM2YjlhNDBiN2I3ODlmY2FhOTlkYmY5MjkgPSBMLmNpcmNsZSgKICAgICAgICAgICAgICAgIFszNC4wNDU0MzI0NTQ2NzI3OSwtMTE4LjI1MzE0NzI0NjEwMTE0XSwKICAgICAgICAgICAgICAgIHsKICAiYnViYmxpbmdNb3VzZUV2ZW50cyI6IHRydWUsCiAgImNvbG9yIjogIiMwMDAwMDAwMCIsCiAgImRhc2hBcnJheSI6IG51bGwsCiAgImRhc2hPZmZzZXQiOiBudWxsLAogICJmaWxsIjogdHJ1ZSwKICAiZmlsbENvbG9yIjogIiMwMDY2ZmYiLAogICJmaWxsT3BhY2l0eSI6IDAuMDcsCiAgImZpbGxSdWxlIjogImV2ZW5vZGQiLAogICJsaW5lQ2FwIjogInJvdW5kIiwKICAibGluZUpvaW4iOiAicm91bmQiLAogICJvcGFjaXR5IjogMS4wLAogICJyYWRpdXMiOiAyNTAsCiAgInN0cm9rZSI6IHRydWUsCiAgIndlaWdodCI6IDMKfQogICAgICAgICAgICAgICAgKS5hZGRUbyhtYXBfNWYxMjRkMjNkNmNjNDE2OGIzZTQ4NzliZTk5Yzg5MTUpOwogICAgICAgICAgICAKICAgIAoKICAgICAgICAgICAgdmFyIGNpcmNsZV9lOGEwOGUwMWNlYzU0MzkyYjUyYjFmMThiYjQzNDJhZSA9IEwuY2lyY2xlKAogICAgICAgICAgICAgICAgWzM0LjA0NjUxMTQ2MjYxNzQ1LC0xMTguMjUwNTk3NDIwNzg0MTZdLAogICAgICAgICAgICAgICAgewogICJidWJibGluZ01vdXNlRXZlbnRzIjogdHJ1ZSwKICAiY29sb3IiOiAiIzAwMDAwMDAwIiwKICAiZGFzaEFycmF5IjogbnVsbCwKICAiZGFzaE9mZnNldCI6IG51bGwsCiAgImZpbGwiOiB0cnVlLAogICJmaWxsQ29sb3IiOiAiIzAwNjZmZiIsCiAgImZpbGxPcGFjaXR5IjogMC4wNywKICAiZmlsbFJ1bGUiOiAiZXZlbm9kZCIsCiAgImxpbmVDYXAiOiAicm91bmQiLAogICJsaW5lSm9pbiI6ICJyb3VuZCIsCiAgIm9wYWNpdHkiOiAxLjAsCiAgInJhZGl1cyI6IDI1MCwKICAic3Ryb2tlIjogdHJ1ZSwKICAid2VpZ2h0IjogMwp9CiAgICAgICAgICAgICAgICApLmFkZFRvKG1hcF81ZjEyNGQyM2Q2Y2M0MTY4YjNlNDg3OWJlOTljODkxNSk7CiAgICAgICAgICAgIAogICAgCgogICAgICAgICAgICB2YXIgY2lyY2xlXzQ5YjZhMDA4ZDI4MDQ5Njc5YjQzZWY0ZjkyYzQxMzZjID0gTC5jaXJjbGUoCiAgICAgICAgICAgICAgICBbMzQuMDU0MzExNjcyMzc0NDk2LC0xMTguMjUxMjEzNTU1MzE1ODZdLAogICAgICAgICAgICAgICAgewogICJidWJibGluZ01vdXNlRXZlbnRzIjogdHJ1ZSwKICAiY29sb3IiOiAiIzAwMDAwMDAwIiwKICAiZGFzaEFycmF5IjogbnVsbCwKICAiZGFzaE9mZnNldCI6IG51bGwsCiAgImZpbGwiOiB0cnVlLAogICJmaWxsQ29sb3IiOiAiIzAwNjZmZiIsCiAgImZpbGxPcGFjaXR5IjogMC4wNywKICAiZmlsbFJ1bGUiOiAiZXZlbm9kZCIsCiAgImxpbmVDYXAiOiAicm91bmQiLAogICJsaW5lSm9pbiI6ICJyb3VuZCIsCiAgIm9wYWNpdHkiOiAxLjAsCiAgInJhZGl1cyI6IDI1MCwKICAic3Ryb2tlIjogdHJ1ZSwKICAid2VpZ2h0IjogMwp9CiAgICAgICAgICAgICAgICApLmFkZFRvKG1hcF81ZjEyNGQyM2Q2Y2M0MTY4YjNlNDg3OWJlOTljODkxNSk7CiAgICAgICAgICAgIAogICAgCgogICAgICAgICAgICB2YXIgY2lyY2xlXzlhMGIzNWUxZjc0MTQzN2Q5Y2Q5MzlmYWIxZmY1YjlmID0gTC5jaXJjbGUoCiAgICAgICAgICAgICAgICBbMzQuMDQ0MTMzMDYyNTYwNDksLTExOC4yNTc1OTk5OTkzODgyOV0sCiAgICAgICAgICAgICAgICB7CiAgImJ1YmJsaW5nTW91c2VFdmVudHMiOiB0cnVlLAogICJjb2xvciI6ICIjMDAwMDAwMDAiLAogICJkYXNoQXJyYXkiOiBudWxsLAogICJkYXNoT2Zmc2V0IjogbnVsbCwKICAiZmlsbCI6IHRydWUsCiAgImZpbGxDb2xvciI6ICIjMDA2NmZmIiwKICAiZmlsbE9wYWNpdHkiOiAwLjA3LAogICJmaWxsUnVsZSI6ICJldmVub2RkIiwKICAibGluZUNhcCI6ICJyb3VuZCIsCiAgImxpbmVKb2luIjogInJvdW5kIiwKICAib3BhY2l0eSI6IDEuMCwKICAicmFkaXVzIjogMjUwLAogICJzdHJva2UiOiB0cnVlLAogICJ3ZWlnaHQiOiAzCn0KICAgICAgICAgICAgICAgICkuYWRkVG8obWFwXzVmMTI0ZDIzZDZjYzQxNjhiM2U0ODc5YmU5OWM4OTE1KTsKICAgICAgICAgICAgCiAgICAKCiAgICAgICAgICAgIHZhciBjaXJjbGVfOTdkMzQ0MThjMjA1NDcyNjk0NWM5MmVkZmE2ZTJmNDggPSBMLmNpcmNsZSgKICAgICAgICAgICAgICAgIFszNC4wNDQ2MDI1MjM2NjYwNjUsLTExOC4yNTYwODk3MDExN10sCiAgICAgICAgICAgICAgICB7CiAgImJ1YmJsaW5nTW91c2VFdmVudHMiOiB0cnVlLAogICJjb2xvciI6ICIjMDAwMDAwMDAiLAogICJkYXNoQXJyYXkiOiBudWxsLAogICJkYXNoT2Zmc2V0IjogbnVsbCwKICAiZmlsbCI6IHRydWUsCiAgImZpbGxDb2xvciI6ICIjMDA2NmZmIiwKICAiZmlsbE9wYWNpdHkiOiAwLjA3LAogICJmaWxsUnVsZSI6ICJldmVub2RkIiwKICAibGluZUNhcCI6ICJyb3VuZCIsCiAgImxpbmVKb2luIjogInJvdW5kIiwKICAib3BhY2l0eSI6IDEuMCwKICAicmFkaXVzIjogMjUwLAogICJzdHJva2UiOiB0cnVlLAogICJ3ZWlnaHQiOiAzCn0KICAgICAgICAgICAgICAgICkuYWRkVG8obWFwXzVmMTI0ZDIzZDZjYzQxNjhiM2U0ODc5YmU5OWM4OTE1KTsKICAgICAgICAgICAgCiAgICAKCiAgICAgICAgICAgIHZhciBjaXJjbGVfMzQ2ZDhmNjRjOTM0NGY5OTllMTVmOTJlNWQyMDExOGUgPSBMLmNpcmNsZSgKICAgICAgICAgICAgICAgIFszNC4wNDg4NDQxNTk2MzcxNywtMTE4LjI2MDkzNDcxNjk5Mjc0XSwKICAgICAgICAgICAgICAgIHsKICAiYnViYmxpbmdNb3VzZUV2ZW50cyI6IHRydWUsCiAgImNvbG9yIjogIiMwMDAwMDAwMCIsCiAgImRhc2hBcnJheSI6IG51bGwsCiAgImRhc2hPZmZzZXQiOiBudWxsLAogICJmaWxsIjogdHJ1ZSwKICAiZmlsbENvbG9yIjogIiMwMDY2ZmYiLAogICJmaWxsT3BhY2l0eSI6IDAuMDcsCiAgImZpbGxSdWxlIjogImV2ZW5vZGQiLAogICJsaW5lQ2FwIjogInJvdW5kIiwKICAibGluZUpvaW4iOiAicm91bmQiLAogICJvcGFjaXR5IjogMS4wLAogICJyYWRpdXMiOiAyNTAsCiAgInN0cm9rZSI6IHRydWUsCiAgIndlaWdodCI6IDMKfQogICAgICAgICAgICAgICAgKS5hZGRUbyhtYXBfNWYxMjRkMjNkNmNjNDE2OGIzZTQ4NzliZTk5Yzg5MTUpOwogICAgICAgICAgICAKICAgIAoKICAgICAgICAgICAgdmFyIGNpcmNsZV8zOGViNGFmMTE4NmM0M2VhODc0NTZiNzNlMmNiY2U5OSA9IEwuY2lyY2xlKAogICAgICAgICAgICAgICAgWzM0LjA1MDYzNTE5OTE3NzQ4NSwtMTE4LjI0ODY3NzcxMjc1MTQ2XSwKICAgICAgICAgICAgICAgIHsKICAiYnViYmxpbmdNb3VzZUV2ZW50cyI6IHRydWUsCiAgImNvbG9yIjogIiMwMDAwMDAwMCIsCiAgImRhc2hBcnJheSI6IG51bGwsCiAgImRhc2hPZmZzZXQiOiBudWxsLAogICJmaWxsIjogdHJ1ZSwKICAiZmlsbENvbG9yIjogIiMwMDY2ZmYiLAogICJmaWxsT3BhY2l0eSI6IDAuMDcsCiAgImZpbGxSdWxlIjogImV2ZW5vZGQiLAogICJsaW5lQ2FwIjogInJvdW5kIiwKICAibGluZUpvaW4iOiAicm91bmQiLAogICJvcGFjaXR5IjogMS4wLAogICJyYWRpdXMiOiAyNTAsCiAgInN0cm9rZSI6IHRydWUsCiAgIndlaWdodCI6IDMKfQogICAgICAgICAgICAgICAgKS5hZGRUbyhtYXBfNWYxMjRkMjNkNmNjNDE2OGIzZTQ4NzliZTk5Yzg5MTUpOwogICAgICAgICAgICAKICAgIAoKICAgICAgICAgICAgdmFyIGNpcmNsZV9iMWIyMGIwZjlkNGI0ZWE3OGI4NTI1ZmE1NjZjZWUwOSA9IEwuY2lyY2xlKAogICAgICAgICAgICAgICAgWzM0LjA1MDg4MTM3NDI1ODE5NiwtMTE4LjI0Nzk1MTc3MTI3MDM4XSwKICAgICAgICAgICAgICAgIHsKICAiYnViYmxpbmdNb3VzZUV2ZW50cyI6IHRydWUsCiAgImNvbG9yIjogIiMwMDAwMDAwMCIsCiAgImRhc2hBcnJheSI6IG51bGwsCiAgImRhc2hPZmZzZXQiOiBudWxsLAogICJmaWxsIjogdHJ1ZSwKICAiZmlsbENvbG9yIjogIiMwMDY2ZmYiLAogICJmaWxsT3BhY2l0eSI6IDAuMDcsCiAgImZpbGxSdWxlIjogImV2ZW5vZGQiLAogICJsaW5lQ2FwIjogInJvdW5kIiwKICAibGluZUpvaW4iOiAicm91bmQiLAogICJvcGFjaXR5IjogMS4wLAogICJyYWRpdXMiOiAyNTAsCiAgInN0cm9rZSI6IHRydWUsCiAgIndlaWdodCI6IDMKfQogICAgICAgICAgICAgICAgKS5hZGRUbyhtYXBfNWYxMjRkMjNkNmNjNDE2OGIzZTQ4NzliZTk5Yzg5MTUpOwogICAgICAgICAgICAKICAgIAoKICAgICAgICAgICAgdmFyIGNpcmNsZV8zYzc3OGRkOTYzZTk0OWVmYTJmNTgzMDU3NjkwMTRkNSA9IEwuY2lyY2xlKAogICAgICAgICAgICAgICAgWzM0LjA0OTM4ODksLTExOC4yNTk0MjI2XSwKICAgICAgICAgICAgICAgIHsKICAiYnViYmxpbmdNb3VzZUV2ZW50cyI6IHRydWUsCiAgImNvbG9yIjogIiMwMDAwMDAwMCIsCiAgImRhc2hBcnJheSI6IG51bGwsCiAgImRhc2hPZmZzZXQiOiBudWxsLAogICJmaWxsIjogdHJ1ZSwKICAiZmlsbENvbG9yIjogIiMwMDY2ZmYiLAogICJmaWxsT3BhY2l0eSI6IDAuMDcsCiAgImZpbGxSdWxlIjogImV2ZW5vZGQiLAogICJsaW5lQ2FwIjogInJvdW5kIiwKICAibGluZUpvaW4iOiAicm91bmQiLAogICJvcGFjaXR5IjogMS4wLAogICJyYWRpdXMiOiAyNTAsCiAgInN0cm9rZSI6IHRydWUsCiAgIndlaWdodCI6IDMKfQogICAgICAgICAgICAgICAgKS5hZGRUbyhtYXBfNWYxMjRkMjNkNmNjNDE2OGIzZTQ4NzliZTk5Yzg5MTUpOwogICAgICAgICAgICAKICAgIAoKICAgICAgICAgICAgdmFyIGNpcmNsZV9iMDMzNGJmMjI4Mjc0YmJmYjlkNTAzNDM2NTA5ZDdlYiA9IEwuY2lyY2xlKAogICAgICAgICAgICAgICAgWzM0LjA1MDY3NTAzNjA5NjI2NiwtMTE4LjI0ODc0MDYxMTQ3NTI0XSwKICAgICAgICAgICAgICAgIHsKICAiYnViYmxpbmdNb3VzZUV2ZW50cyI6IHRydWUsCiAgImNvbG9yIjogIiMwMDAwMDAwMCIsCiAgImRhc2hBcnJheSI6IG51bGwsCiAgImRhc2hPZmZzZXQiOiBudWxsLAogICJmaWxsIjogdHJ1ZSwKICAiZmlsbENvbG9yIjogIiMwMDY2ZmYiLAogICJmaWxsT3BhY2l0eSI6IDAuMDcsCiAgImZpbGxSdWxlIjogImV2ZW5vZGQiLAogICJsaW5lQ2FwIjogInJvdW5kIiwKICAibGluZUpvaW4iOiAicm91bmQiLAogICJvcGFjaXR5IjogMS4wLAogICJyYWRpdXMiOiAyNTAsCiAgInN0cm9rZSI6IHRydWUsCiAgIndlaWdodCI6IDMKfQogICAgICAgICAgICAgICAgKS5hZGRUbyhtYXBfNWYxMjRkMjNkNmNjNDE2OGIzZTQ4NzliZTk5Yzg5MTUpOwogICAgICAgICAgICAKICAgIAoKICAgICAgICAgICAgdmFyIGNpcmNsZV81ODYzZTM1NGJmNDc0NjNjYWM3NTg2OGIyMjY2ZWEzMSA9IEwuY2lyY2xlKAogICAgICAgICAgICAgICAgWzM0LjA0ODE2MzA1MjEwODk5LC0xMTguMjU4NTI2MzQxMDM1NDldLAogICAgICAgICAgICAgICAgewogICJidWJibGluZ01vdXNlRXZlbnRzIjogdHJ1ZSwKICAiY29sb3IiOiAiIzAwMDAwMDAwIiwKICAiZGFzaEFycmF5IjogbnVsbCwKICAiZGFzaE9mZnNldCI6IG51bGwsCiAgImZpbGwiOiB0cnVlLAogICJmaWxsQ29sb3IiOiAiIzAwNjZmZiIsCiAgImZpbGxPcGFjaXR5IjogMC4wNywKICAiZmlsbFJ1bGUiOiAiZXZlbm9kZCIsCiAgImxpbmVDYXAiOiAicm91bmQiLAogICJsaW5lSm9pbiI6ICJyb3VuZCIsCiAgIm9wYWNpdHkiOiAxLjAsCiAgInJhZGl1cyI6IDI1MCwKICAic3Ryb2tlIjogdHJ1ZSwKICAid2VpZ2h0IjogMwp9CiAgICAgICAgICAgICAgICApLmFkZFRvKG1hcF81ZjEyNGQyM2Q2Y2M0MTY4YjNlNDg3OWJlOTljODkxNSk7CiAgICAgICAgICAgIAogICAgCgogICAgICAgICAgICB2YXIgY2lyY2xlXzk5N2E0MzM5Y2I1MDRiZmM5NTJhZmFjODZhMTI3NzNiID0gTC5jaXJjbGUoCiAgICAgICAgICAgICAgICBbMzQuMDQ4NzY2OTc2NDU5NiwtMTE4LjI2MDk2MzQxNjQxODA1XSwKICAgICAgICAgICAgICAgIHsKICAiYnViYmxpbmdNb3VzZUV2ZW50cyI6IHRydWUsCiAgImNvbG9yIjogIiMwMDAwMDAwMCIsCiAgImRhc2hBcnJheSI6IG51bGwsCiAgImRhc2hPZmZzZXQiOiBudWxsLAogICJmaWxsIjogdHJ1ZSwKICAiZmlsbENvbG9yIjogIiMwMDY2ZmYiLAogICJmaWxsT3BhY2l0eSI6IDAuMDcsCiAgImZpbGxSdWxlIjogImV2ZW5vZGQiLAogICJsaW5lQ2FwIjogInJvdW5kIiwKICAibGluZUpvaW4iOiAicm91bmQiLAogICJvcGFjaXR5IjogMS4wLAogICJyYWRpdXMiOiAyNTAsCiAgInN0cm9rZSI6IHRydWUsCiAgIndlaWdodCI6IDMKfQogICAgICAgICAgICAgICAgKS5hZGRUbyhtYXBfNWYxMjRkMjNkNmNjNDE2OGIzZTQ4NzliZTk5Yzg5MTUpOwogICAgICAgICAgICAKICAgIAoKICAgICAgICAgICAgdmFyIGNpcmNsZV9lNGNhOGVlZmIyYWI0ZjE2OGQwODcyYjk3NDEyMjM3OCA9IEwuY2lyY2xlKAogICAgICAgICAgICAgICAgWzM0LjA0OTE4NTI0LC0xMTguMjYwNDc4N10sCiAgICAgICAgICAgICAgICB7CiAgImJ1YmJsaW5nTW91c2VFdmVudHMiOiB0cnVlLAogICJjb2xvciI6ICIjMDAwMDAwMDAiLAogICJkYXNoQXJyYXkiOiBudWxsLAogICJkYXNoT2Zmc2V0IjogbnVsbCwKICAiZmlsbCI6IHRydWUsCiAgImZpbGxDb2xvciI6ICIjMDA2NmZmIiwKICAiZmlsbE9wYWNpdHkiOiAwLjA3LAogICJmaWxsUnVsZSI6ICJldmVub2RkIiwKICAibGluZUNhcCI6ICJyb3VuZCIsCiAgImxpbmVKb2luIjogInJvdW5kIiwKICAib3BhY2l0eSI6IDEuMCwKICAicmFkaXVzIjogMjUwLAogICJzdHJva2UiOiB0cnVlLAogICJ3ZWlnaHQiOiAzCn0KICAgICAgICAgICAgICAgICkuYWRkVG8obWFwXzVmMTI0ZDIzZDZjYzQxNjhiM2U0ODc5YmU5OWM4OTE1KTsKICAgICAgICAgICAgCiAgICAKCiAgICAgICAgICAgIHZhciBjaXJjbGVfNjcwYTc0MjZlNjA1NDczNjgwZmUzOTNjNGVjODk3MDQgPSBMLmNpcmNsZSgKICAgICAgICAgICAgICAgIFszNC4wNDkwMzgsLTExOC4yNjA2NzVdLAogICAgICAgICAgICAgICAgewogICJidWJibGluZ01vdXNlRXZlbnRzIjogdHJ1ZSwKICAiY29sb3IiOiAiIzAwMDAwMDAwIiwKICAiZGFzaEFycmF5IjogbnVsbCwKICAiZGFzaE9mZnNldCI6IG51bGwsCiAgImZpbGwiOiB0cnVlLAogICJmaWxsQ29sb3IiOiAiIzAwNjZmZiIsCiAgImZpbGxPcGFjaXR5IjogMC4wNywKICAiZmlsbFJ1bGUiOiAiZXZlbm9kZCIsCiAgImxpbmVDYXAiOiAicm91bmQiLAogICJsaW5lSm9pbiI6ICJyb3VuZCIsCiAgIm9wYWNpdHkiOiAxLjAsCiAgInJhZGl1cyI6IDI1MCwKICAic3Ryb2tlIjogdHJ1ZSwKICAid2VpZ2h0IjogMwp9CiAgICAgICAgICAgICAgICApLmFkZFRvKG1hcF81ZjEyNGQyM2Q2Y2M0MTY4YjNlNDg3OWJlOTljODkxNSk7CiAgICAgICAgICAgIAogICAgCgogICAgICAgICAgICB2YXIgY2lyY2xlXzhkZmFiOThhNDA1MTRmNjM4OTZiNjk4MTI5YmRhNTVhID0gTC5jaXJjbGUoCiAgICAgICAgICAgICAgICBbMzQuMDQ0ODcxODA1NTE4MjM0LC0xMTguMjQ5NDg4NTM0MjA2MjRdLAogICAgICAgICAgICAgICAgewogICJidWJibGluZ01vdXNlRXZlbnRzIjogdHJ1ZSwKICAiY29sb3IiOiAiIzAwMDAwMDAwIiwKICAiZGFzaEFycmF5IjogbnVsbCwKICAiZGFzaE9mZnNldCI6IG51bGwsCiAgImZpbGwiOiB0cnVlLAogICJmaWxsQ29sb3IiOiAiIzAwNjZmZiIsCiAgImZpbGxPcGFjaXR5IjogMC4wNywKICAiZmlsbFJ1bGUiOiAiZXZlbm9kZCIsCiAgImxpbmVDYXAiOiAicm91bmQiLAogICJsaW5lSm9pbiI6ICJyb3VuZCIsCiAgIm9wYWNpdHkiOiAxLjAsCiAgInJhZGl1cyI6IDI1MCwKICAic3Ryb2tlIjogdHJ1ZSwKICAid2VpZ2h0IjogMwp9CiAgICAgICAgICAgICAgICApLmFkZFRvKG1hcF81ZjEyNGQyM2Q2Y2M0MTY4YjNlNDg3OWJlOTljODkxNSk7CiAgICAgICAgICAgIAogICAgCgogICAgICAgICAgICB2YXIgY2lyY2xlXzg1ODNjY2U3ODZjMTRjN2I4ZjQ1MDRkZDFkZGRlMzQzID0gTC5jaXJjbGUoCiAgICAgICAgICAgICAgICBbMzQuMDQ2MDc4LC0xMTguMjYxNTddLAogICAgICAgICAgICAgICAgewogICJidWJibGluZ01vdXNlRXZlbnRzIjogdHJ1ZSwKICAiY29sb3IiOiAiIzAwMDAwMDAwIiwKICAiZGFzaEFycmF5IjogbnVsbCwKICAiZGFzaE9mZnNldCI6IG51bGwsCiAgImZpbGwiOiB0cnVlLAogICJmaWxsQ29sb3IiOiAiIzAwNjZmZiIsCiAgImZpbGxPcGFjaXR5IjogMC4wNywKICAiZmlsbFJ1bGUiOiAiZXZlbm9kZCIsCiAgImxpbmVDYXAiOiAicm91bmQiLAogICJsaW5lSm9pbiI6ICJyb3VuZCIsCiAgIm9wYWNpdHkiOiAxLjAsCiAgInJhZGl1cyI6IDI1MCwKICAic3Ryb2tlIjogdHJ1ZSwKICAid2VpZ2h0IjogMwp9CiAgICAgICAgICAgICAgICApLmFkZFRvKG1hcF81ZjEyNGQyM2Q2Y2M0MTY4YjNlNDg3OWJlOTljODkxNSk7CiAgICAgICAgICAgIAogICAgCgogICAgICAgICAgICB2YXIgY2lyY2xlXzZiNWEyNTc4NWVjZDQxYzBiZGIwNDZhM2Q3MmFhNmI3ID0gTC5jaXJjbGUoCiAgICAgICAgICAgICAgICBbMzQuMDQxNzY5MjQ4ODM1MjUsLTExOC4yNTY2MDA3Njg2MDQzOV0sCiAgICAgICAgICAgICAgICB7CiAgImJ1YmJsaW5nTW91c2VFdmVudHMiOiB0cnVlLAogICJjb2xvciI6ICIjMDAwMDAwMDAiLAogICJkYXNoQXJyYXkiOiBudWxsLAogICJkYXNoT2Zmc2V0IjogbnVsbCwKICAiZmlsbCI6IHRydWUsCiAgImZpbGxDb2xvciI6ICIjMDA2NmZmIiwKICAiZmlsbE9wYWNpdHkiOiAwLjA3LAogICJmaWxsUnVsZSI6ICJldmVub2RkIiwKICAibGluZUNhcCI6ICJyb3VuZCIsCiAgImxpbmVKb2luIjogInJvdW5kIiwKICAib3BhY2l0eSI6IDEuMCwKICAicmFkaXVzIjogMjUwLAogICJzdHJva2UiOiB0cnVlLAogICJ3ZWlnaHQiOiAzCn0KICAgICAgICAgICAgICAgICkuYWRkVG8obWFwXzVmMTI0ZDIzZDZjYzQxNjhiM2U0ODc5YmU5OWM4OTE1KTsKICAgICAgICAgICAgCiAgICAKCiAgICAgICAgICAgIHZhciBjaXJjbGVfODMyNmVmY2QxOThlNDc0Nzk2YjE0MmE2MGUyM2JlMDcgPSBMLmNpcmNsZSgKICAgICAgICAgICAgICAgIFszNC4wNDU3MTA3ODgzODY4NywtMTE4LjI1MTE2NjgwNzYyMjg4XSwKICAgICAgICAgICAgICAgIHsKICAiYnViYmxpbmdNb3VzZUV2ZW50cyI6IHRydWUsCiAgImNvbG9yIjogIiMwMDAwMDAwMCIsCiAgImRhc2hBcnJheSI6IG51bGwsCiAgImRhc2hPZmZzZXQiOiBudWxsLAogICJmaWxsIjogdHJ1ZSwKICAiZmlsbENvbG9yIjogIiMwMDY2ZmYiLAogICJmaWxsT3BhY2l0eSI6IDAuMDcsCiAgImZpbGxSdWxlIjogImV2ZW5vZGQiLAogICJsaW5lQ2FwIjogInJvdW5kIiwKICAibGluZUpvaW4iOiAicm91bmQiLAogICJvcGFjaXR5IjogMS4wLAogICJyYWRpdXMiOiAyNTAsCiAgInN0cm9rZSI6IHRydWUsCiAgIndlaWdodCI6IDMKfQogICAgICAgICAgICAgICAgKS5hZGRUbyhtYXBfNWYxMjRkMjNkNmNjNDE2OGIzZTQ4NzliZTk5Yzg5MTUpOwogICAgICAgICAgICAKICAgIAoKICAgICAgICAgICAgdmFyIGNpcmNsZV82YTJiMDYzNTJlMGY0Zjk0OTFlNTc3YzJhMDhhMDVkYiA9IEwuY2lyY2xlKAogICAgICAgICAgICAgICAgWzM0LjA0Njc5NTU0OTk4NjE0LC0xMTguMjUxMTQzNDIxMDE1MDddLAogICAgICAgICAgICAgICAgewogICJidWJibGluZ01vdXNlRXZlbnRzIjogdHJ1ZSwKICAiY29sb3IiOiAiIzAwMDAwMDAwIiwKICAiZGFzaEFycmF5IjogbnVsbCwKICAiZGFzaE9mZnNldCI6IG51bGwsCiAgImZpbGwiOiB0cnVlLAogICJmaWxsQ29sb3IiOiAiIzAwNjZmZiIsCiAgImZpbGxPcGFjaXR5IjogMC4wNywKICAiZmlsbFJ1bGUiOiAiZXZlbm9kZCIsCiAgImxpbmVDYXAiOiAicm91bmQiLAogICJsaW5lSm9pbiI6ICJyb3VuZCIsCiAgIm9wYWNpdHkiOiAxLjAsCiAgInJhZGl1cyI6IDI1MCwKICAic3Ryb2tlIjogdHJ1ZSwKICAid2VpZ2h0IjogMwp9CiAgICAgICAgICAgICAgICApLmFkZFRvKG1hcF81ZjEyNGQyM2Q2Y2M0MTY4YjNlNDg3OWJlOTljODkxNSk7CiAgICAgICAgICAgIAogICAgCiAgICAgICAgICAgIHZhciBjaXJjbGVfbWFya2VyXzcyZGM3MzE1MWVlZjQzNTZhYjc2NWI1NTcxNzY2NWUxID0gTC5jaXJjbGVNYXJrZXIoCiAgICAgICAgICAgICAgICBbMzQuMDQ4Mjc5NjkzMjU3MzIsLTExOC4yNTExODYxNzIxNTY4OV0sCiAgICAgICAgICAgICAgICB7CiAgImJ1YmJsaW5nTW91c2VFdmVudHMiOiB0cnVlLAogICJjb2xvciI6ICJibHVlIiwKICAiZGFzaEFycmF5IjogbnVsbCwKICAiZGFzaE9mZnNldCI6IG51bGwsCiAgImZpbGwiOiB0cnVlLAogICJmaWxsQ29sb3IiOiAiYmx1ZSIsCiAgImZpbGxPcGFjaXR5IjogMSwKICAiZmlsbFJ1bGUiOiAiZXZlbm9kZCIsCiAgImxpbmVDYXAiOiAicm91bmQiLAogICJsaW5lSm9pbiI6ICJyb3VuZCIsCiAgIm9wYWNpdHkiOiAxLjAsCiAgInJhZGl1cyI6IDIsCiAgInN0cm9rZSI6IHRydWUsCiAgIndlaWdodCI6IDMKfQogICAgICAgICAgICAgICAgKS5hZGRUbyhtYXBfNWYxMjRkMjNkNmNjNDE2OGIzZTQ4NzliZTk5Yzg5MTUpOwogICAgICAgICAgICAKICAgIAogICAgICAgICAgICB2YXIgY2lyY2xlX21hcmtlcl9kZDE0YTA1MjM3MGU0ZGJjYWIxMzc2Mzg1MGNkZWNkMCA9IEwuY2lyY2xlTWFya2VyKAogICAgICAgICAgICAgICAgWzM0LjA1NDMzOTAyODA4NjE1NCwtMTE4LjI2MjA5ODM3Njc1MzQxXSwKICAgICAgICAgICAgICAgIHsKICAiYnViYmxpbmdNb3VzZUV2ZW50cyI6IHRydWUsCiAgImNvbG9yIjogImJsdWUiLAogICJkYXNoQXJyYXkiOiBudWxsLAogICJkYXNoT2Zmc2V0IjogbnVsbCwKICAiZmlsbCI6IHRydWUsCiAgImZpbGxDb2xvciI6ICJibHVlIiwKICAiZmlsbE9wYWNpdHkiOiAxLAogICJmaWxsUnVsZSI6ICJldmVub2RkIiwKICAibGluZUNhcCI6ICJyb3VuZCIsCiAgImxpbmVKb2luIjogInJvdW5kIiwKICAib3BhY2l0eSI6IDEuMCwKICAicmFkaXVzIjogMiwKICAic3Ryb2tlIjogdHJ1ZSwKICAid2VpZ2h0IjogMwp9CiAgICAgICAgICAgICAgICApLmFkZFRvKG1hcF81ZjEyNGQyM2Q2Y2M0MTY4YjNlNDg3OWJlOTljODkxNSk7CiAgICAgICAgICAgIAogICAgCiAgICAgICAgICAgIHZhciBjaXJjbGVfbWFya2VyXzg1MjM3ZGNhMTVhNTQxNmM4ZWMzMGU3ZjlkYmRiNGE0ID0gTC5jaXJjbGVNYXJrZXIoCiAgICAgICAgICAgICAgICBbMzQuMDUzMzUzNDQ5NjQ0NjUsLTExOC4yNTMxMTA1NjIyODA2M10sCiAgICAgICAgICAgICAgICB7CiAgImJ1YmJsaW5nTW91c2VFdmVudHMiOiB0cnVlLAogICJjb2xvciI6ICJibHVlIiwKICAiZGFzaEFycmF5IjogbnVsbCwKICAiZGFzaE9mZnNldCI6IG51bGwsCiAgImZpbGwiOiB0cnVlLAogICJmaWxsQ29sb3IiOiAiYmx1ZSIsCiAgImZpbGxPcGFjaXR5IjogMSwKICAiZmlsbFJ1bGUiOiAiZXZlbm9kZCIsCiAgImxpbmVDYXAiOiAicm91bmQiLAogICJsaW5lSm9pbiI6ICJyb3VuZCIsCiAgIm9wYWNpdHkiOiAxLjAsCiAgInJhZGl1cyI6IDIsCiAgInN0cm9rZSI6IHRydWUsCiAgIndlaWdodCI6IDMKfQogICAgICAgICAgICAgICAgKS5hZGRUbyhtYXBfNWYxMjRkMjNkNmNjNDE2OGIzZTQ4NzliZTk5Yzg5MTUpOwogICAgICAgICAgICAKICAgIAogICAgICAgICAgICB2YXIgY2lyY2xlX21hcmtlcl9mMThjZDlmZjFmNDc0NTVjYjY5M2RlYmQ1N2ExN2E5MiA9IEwuY2lyY2xlTWFya2VyKAogICAgICAgICAgICAgICAgWzM0LjA1MzYwNTE5NDIxMDk1LC0xMTguMjQ1NzM4Mzc0ODQ5MzVdLAogICAgICAgICAgICAgICAgewogICJidWJibGluZ01vdXNlRXZlbnRzIjogdHJ1ZSwKICAiY29sb3IiOiAiYmx1ZSIsCiAgImRhc2hBcnJheSI6IG51bGwsCiAgImRhc2hPZmZzZXQiOiBudWxsLAogICJmaWxsIjogdHJ1ZSwKICAiZmlsbENvbG9yIjogImJsdWUiLAogICJmaWxsT3BhY2l0eSI6IDEsCiAgImZpbGxSdWxlIjogImV2ZW5vZGQiLAogICJsaW5lQ2FwIjogInJvdW5kIiwKICAibGluZUpvaW4iOiAicm91bmQiLAogICJvcGFjaXR5IjogMS4wLAogICJyYWRpdXMiOiAyLAogICJzdHJva2UiOiB0cnVlLAogICJ3ZWlnaHQiOiAzCn0KICAgICAgICAgICAgICAgICkuYWRkVG8obWFwXzVmMTI0ZDIzZDZjYzQxNjhiM2U0ODc5YmU5OWM4OTE1KTsKICAgICAgICAgICAgCiAgICAKICAgICAgICAgICAgdmFyIGNpcmNsZV9tYXJrZXJfNTg0YTlhYjc3MWZhNDU1MGJlNTg5NDExZjQ5OTA3MzEgPSBMLmNpcmNsZU1hcmtlcigKICAgICAgICAgICAgICAgIFszNC4wNTMyNTIyNTQxODAxNjUsLTExOC4yNTI2OTM3MDgwOTUxXSwKICAgICAgICAgICAgICAgIHsKICAiYnViYmxpbmdNb3VzZUV2ZW50cyI6IHRydWUsCiAgImNvbG9yIjogImJsdWUiLAogICJkYXNoQXJyYXkiOiBudWxsLAogICJkYXNoT2Zmc2V0IjogbnVsbCwKICAiZmlsbCI6IHRydWUsCiAgImZpbGxDb2xvciI6ICJibHVlIiwKICAiZmlsbE9wYWNpdHkiOiAxLAogICJmaWxsUnVsZSI6ICJldmVub2RkIiwKICAibGluZUNhcCI6ICJyb3VuZCIsCiAgImxpbmVKb2luIjogInJvdW5kIiwKICAib3BhY2l0eSI6IDEuMCwKICAicmFkaXVzIjogMiwKICAic3Ryb2tlIjogdHJ1ZSwKICAid2VpZ2h0IjogMwp9CiAgICAgICAgICAgICAgICApLmFkZFRvKG1hcF81ZjEyNGQyM2Q2Y2M0MTY4YjNlNDg3OWJlOTljODkxNSk7CiAgICAgICAgICAgIAogICAgCiAgICAgICAgICAgIHZhciBjaXJjbGVfbWFya2VyXzE4Mzc4Y2RlNzg0MzQzYmQ4OGNjMWVhM2ZhYjc2ZmJkID0gTC5jaXJjbGVNYXJrZXIoCiAgICAgICAgICAgICAgICBbMzQuMDUxNjA1ODU5NTY1MDYsLTExOC4yNTA5MjkyMDQ0Nzk2OF0sCiAgICAgICAgICAgICAgICB7CiAgImJ1YmJsaW5nTW91c2VFdmVudHMiOiB0cnVlLAogICJjb2xvciI6ICJibHVlIiwKICAiZGFzaEFycmF5IjogbnVsbCwKICAiZGFzaE9mZnNldCI6IG51bGwsCiAgImZpbGwiOiB0cnVlLAogICJmaWxsQ29sb3IiOiAiYmx1ZSIsCiAgImZpbGxPcGFjaXR5IjogMSwKICAiZmlsbFJ1bGUiOiAiZXZlbm9kZCIsCiAgImxpbmVDYXAiOiAicm91bmQiLAogICJsaW5lSm9pbiI6ICJyb3VuZCIsCiAgIm9wYWNpdHkiOiAxLjAsCiAgInJhZGl1cyI6IDIsCiAgInN0cm9rZSI6IHRydWUsCiAgIndlaWdodCI6IDMKfQogICAgICAgICAgICAgICAgKS5hZGRUbyhtYXBfNWYxMjRkMjNkNmNjNDE2OGIzZTQ4NzliZTk5Yzg5MTUpOwogICAgICAgICAgICAKICAgIAogICAgICAgICAgICB2YXIgY2lyY2xlX21hcmtlcl9kYTlmYTc5NGZmMGM0MmFhOGZkZTYwNzM5MGFlOTdjNiA9IEwuY2lyY2xlTWFya2VyKAogICAgICAgICAgICAgICAgWzM0LjA0NDc5ODkyMDkxMzgzNCwtMTE4LjI1NjA5NzAzNTg2MzA1XSwKICAgICAgICAgICAgICAgIHsKICAiYnViYmxpbmdNb3VzZUV2ZW50cyI6IHRydWUsCiAgImNvbG9yIjogImJsdWUiLAogICJkYXNoQXJyYXkiOiBudWxsLAogICJkYXNoT2Zmc2V0IjogbnVsbCwKICAiZmlsbCI6IHRydWUsCiAgImZpbGxDb2xvciI6ICJibHVlIiwKICAiZmlsbE9wYWNpdHkiOiAxLAogICJmaWxsUnVsZSI6ICJldmVub2RkIiwKICAibGluZUNhcCI6ICJyb3VuZCIsCiAgImxpbmVKb2luIjogInJvdW5kIiwKICAib3BhY2l0eSI6IDEuMCwKICAicmFkaXVzIjogMiwKICAic3Ryb2tlIjogdHJ1ZSwKICAid2VpZ2h0IjogMwp9CiAgICAgICAgICAgICAgICApLmFkZFRvKG1hcF81ZjEyNGQyM2Q2Y2M0MTY4YjNlNDg3OWJlOTljODkxNSk7CiAgICAgICAgICAgIAogICAgCiAgICAgICAgICAgIHZhciBjaXJjbGVfbWFya2VyX2Q0Y2M3ZjEwMDNlZTQ2NzBhYzAzY2Q4MjNlYTUxNzdjID0gTC5jaXJjbGVNYXJrZXIoCiAgICAgICAgICAgICAgICBbMzQuMDQ3ODUxLC0xMTguMjUwMzJdLAogICAgICAgICAgICAgICAgewogICJidWJibGluZ01vdXNlRXZlbnRzIjogdHJ1ZSwKICAiY29sb3IiOiAiYmx1ZSIsCiAgImRhc2hBcnJheSI6IG51bGwsCiAgImRhc2hPZmZzZXQiOiBudWxsLAogICJmaWxsIjogdHJ1ZSwKICAiZmlsbENvbG9yIjogImJsdWUiLAogICJmaWxsT3BhY2l0eSI6IDEsCiAgImZpbGxSdWxlIjogImV2ZW5vZGQiLAogICJsaW5lQ2FwIjogInJvdW5kIiwKICAibGluZUpvaW4iOiAicm91bmQiLAogICJvcGFjaXR5IjogMS4wLAogICJyYWRpdXMiOiAyLAogICJzdHJva2UiOiB0cnVlLAogICJ3ZWlnaHQiOiAzCn0KICAgICAgICAgICAgICAgICkuYWRkVG8obWFwXzVmMTI0ZDIzZDZjYzQxNjhiM2U0ODc5YmU5OWM4OTE1KTsKICAgICAgICAgICAgCiAgICAKICAgICAgICAgICAgdmFyIGNpcmNsZV9tYXJrZXJfODY3ODk1MTdiY2EzNDg4MTljMmFkNjIxNTM0YmJlOTEgPSBMLmNpcmNsZU1hcmtlcigKICAgICAgICAgICAgICAgIFszNC4wNTI2MTA4MDc3MzAxLC0xMTguMjUzMDU5MTY5MzUzN10sCiAgICAgICAgICAgICAgICB7CiAgImJ1YmJsaW5nTW91c2VFdmVudHMiOiB0cnVlLAogICJjb2xvciI6ICJibHVlIiwKICAiZGFzaEFycmF5IjogbnVsbCwKICAiZGFzaE9mZnNldCI6IG51bGwsCiAgImZpbGwiOiB0cnVlLAogICJmaWxsQ29sb3IiOiAiYmx1ZSIsCiAgImZpbGxPcGFjaXR5IjogMSwKICAiZmlsbFJ1bGUiOiAiZXZlbm9kZCIsCiAgImxpbmVDYXAiOiAicm91bmQiLAogICJsaW5lSm9pbiI6ICJyb3VuZCIsCiAgIm9wYWNpdHkiOiAxLjAsCiAgInJhZGl1cyI6IDIsCiAgInN0cm9rZSI6IHRydWUsCiAgIndlaWdodCI6IDMKfQogICAgICAgICAgICAgICAgKS5hZGRUbyhtYXBfNWYxMjRkMjNkNmNjNDE2OGIzZTQ4NzliZTk5Yzg5MTUpOwogICAgICAgICAgICAKICAgIAogICAgICAgICAgICB2YXIgY2lyY2xlX21hcmtlcl8xN2M3YmNhMzlkN2M0NWFhOTMyMDRlNzcyMGJkMTc5YSA9IEwuY2lyY2xlTWFya2VyKAogICAgICAgICAgICAgICAgWzM0LjA0ODE5MjA2ODU1OTk1NiwtMTE4LjI1NDIwNjk0MTA0NTddLAogICAgICAgICAgICAgICAgewogICJidWJibGluZ01vdXNlRXZlbnRzIjogdHJ1ZSwKICAiY29sb3IiOiAiYmx1ZSIsCiAgImRhc2hBcnJheSI6IG51bGwsCiAgImRhc2hPZmZzZXQiOiBudWxsLAogICJmaWxsIjogdHJ1ZSwKICAiZmlsbENvbG9yIjogImJsdWUiLAogICJmaWxsT3BhY2l0eSI6IDEsCiAgImZpbGxSdWxlIjogImV2ZW5vZGQiLAogICJsaW5lQ2FwIjogInJvdW5kIiwKICAibGluZUpvaW4iOiAicm91bmQiLAogICJvcGFjaXR5IjogMS4wLAogICJyYWRpdXMiOiAyLAogICJzdHJva2UiOiB0cnVlLAogICJ3ZWlnaHQiOiAzCn0KICAgICAgICAgICAgICAgICkuYWRkVG8obWFwXzVmMTI0ZDIzZDZjYzQxNjhiM2U0ODc5YmU5OWM4OTE1KTsKICAgICAgICAgICAgCiAgICAKICAgICAgICAgICAgdmFyIGNpcmNsZV9tYXJrZXJfNTRhZTFkZTlhOTgwNDRkNThmMTJmOTdkMDIwMTFlOWUgPSBMLmNpcmNsZU1hcmtlcigKICAgICAgICAgICAgICAgIFszNC4wNDc5NjQ3NDA1NDYxNywtMTE4LjI0NzQ1MTUzNzMzMDc5XSwKICAgICAgICAgICAgICAgIHsKICAiYnViYmxpbmdNb3VzZUV2ZW50cyI6IHRydWUsCiAgImNvbG9yIjogImJsdWUiLAogICJkYXNoQXJyYXkiOiBudWxsLAogICJkYXNoT2Zmc2V0IjogbnVsbCwKICAiZmlsbCI6IHRydWUsCiAgImZpbGxDb2xvciI6ICJibHVlIiwKICAiZmlsbE9wYWNpdHkiOiAxLAogICJmaWxsUnVsZSI6ICJldmVub2RkIiwKICAibGluZUNhcCI6ICJyb3VuZCIsCiAgImxpbmVKb2luIjogInJvdW5kIiwKICAib3BhY2l0eSI6IDEuMCwKICAicmFkaXVzIjogMiwKICAic3Ryb2tlIjogdHJ1ZSwKICAid2VpZ2h0IjogMwp9CiAgICAgICAgICAgICAgICApLmFkZFRvKG1hcF81ZjEyNGQyM2Q2Y2M0MTY4YjNlNDg3OWJlOTljODkxNSk7CiAgICAgICAgICAgIAogICAgCiAgICAgICAgICAgIHZhciBjaXJjbGVfbWFya2VyXzZmNDNhNWI1MzdmMDRmZTJiZGJiYTJlMWY1MjE1NjMzID0gTC5jaXJjbGVNYXJrZXIoCiAgICAgICAgICAgICAgICBbMzQuMDU3NTI3NDE5MzkwMTU1LC0xMTguMjQ4OTcwNTI3MDY5NDNdLAogICAgICAgICAgICAgICAgewogICJidWJibGluZ01vdXNlRXZlbnRzIjogdHJ1ZSwKICAiY29sb3IiOiAiYmx1ZSIsCiAgImRhc2hBcnJheSI6IG51bGwsCiAgImRhc2hPZmZzZXQiOiBudWxsLAogICJmaWxsIjogdHJ1ZSwKICAiZmlsbENvbG9yIjogImJsdWUiLAogICJmaWxsT3BhY2l0eSI6IDEsCiAgImZpbGxSdWxlIjogImV2ZW5vZGQiLAogICJsaW5lQ2FwIjogInJvdW5kIiwKICAibGluZUpvaW4iOiAicm91bmQiLAogICJvcGFjaXR5IjogMS4wLAogICJyYWRpdXMiOiAyLAogICJzdHJva2UiOiB0cnVlLAogICJ3ZWlnaHQiOiAzCn0KICAgICAgICAgICAgICAgICkuYWRkVG8obWFwXzVmMTI0ZDIzZDZjYzQxNjhiM2U0ODc5YmU5OWM4OTE1KTsKICAgICAgICAgICAgCiAgICAKICAgICAgICAgICAgdmFyIGNpcmNsZV9tYXJrZXJfMzA1YWI1YjMxOTFiNDNiYjlhMTI2ZmY0MDYzYWEwYTMgPSBMLmNpcmNsZU1hcmtlcigKICAgICAgICAgICAgICAgIFszNC4wNTA4MTE3OTIwMjkwOSwtMTE4LjI1OTUxMTcxNjE2MDI1XSwKICAgICAgICAgICAgICAgIHsKICAiYnViYmxpbmdNb3VzZUV2ZW50cyI6IHRydWUsCiAgImNvbG9yIjogImJsdWUiLAogICJkYXNoQXJyYXkiOiBudWxsLAogICJkYXNoT2Zmc2V0IjogbnVsbCwKICAiZmlsbCI6IHRydWUsCiAgImZpbGxDb2xvciI6ICJibHVlIiwKICAiZmlsbE9wYWNpdHkiOiAxLAogICJmaWxsUnVsZSI6ICJldmVub2RkIiwKICAibGluZUNhcCI6ICJyb3VuZCIsCiAgImxpbmVKb2luIjogInJvdW5kIiwKICAib3BhY2l0eSI6IDEuMCwKICAicmFkaXVzIjogMiwKICAic3Ryb2tlIjogdHJ1ZSwKICAid2VpZ2h0IjogMwp9CiAgICAgICAgICAgICAgICApLmFkZFRvKG1hcF81ZjEyNGQyM2Q2Y2M0MTY4YjNlNDg3OWJlOTljODkxNSk7CiAgICAgICAgICAgIAogICAgCiAgICAgICAgICAgIHZhciBjaXJjbGVfbWFya2VyXzQ3M2U0NzE0MWM4NDQ2OTM4NTliNDY1MjlhMzk5MzdiID0gTC5jaXJjbGVNYXJrZXIoCiAgICAgICAgICAgICAgICBbMzQuMDQ1Mzc4Mjg2MjAyMzcsLTExOC4yNTEwNDM0MTIzODM4XSwKICAgICAgICAgICAgICAgIHsKICAiYnViYmxpbmdNb3VzZUV2ZW50cyI6IHRydWUsCiAgImNvbG9yIjogImJsdWUiLAogICJkYXNoQXJyYXkiOiBudWxsLAogICJkYXNoT2Zmc2V0IjogbnVsbCwKICAiZmlsbCI6IHRydWUsCiAgImZpbGxDb2xvciI6ICJibHVlIiwKICAiZmlsbE9wYWNpdHkiOiAxLAogICJmaWxsUnVsZSI6ICJldmVub2RkIiwKICAibGluZUNhcCI6ICJyb3VuZCIsCiAgImxpbmVKb2luIjogInJvdW5kIiwKICAib3BhY2l0eSI6IDEuMCwKICAicmFkaXVzIjogMiwKICAic3Ryb2tlIjogdHJ1ZSwKICAid2VpZ2h0IjogMwp9CiAgICAgICAgICAgICAgICApLmFkZFRvKG1hcF81ZjEyNGQyM2Q2Y2M0MTY4YjNlNDg3OWJlOTljODkxNSk7CiAgICAgICAgICAgIAogICAgCiAgICAgICAgICAgIHZhciBjaXJjbGVfbWFya2VyX2Q2M2Y1NmE2ZWY4ZDQ5ZjE5ZGE4NTI3OGZhMzk3NDhlID0gTC5jaXJjbGVNYXJrZXIoCiAgICAgICAgICAgICAgICBbMzQuMDQ1NDI2Mjg5ODk1MDcsLTExOC4yNTM4NDE0ODIyMzc2Nl0sCiAgICAgICAgICAgICAgICB7CiAgImJ1YmJsaW5nTW91c2VFdmVudHMiOiB0cnVlLAogICJjb2xvciI6ICJibHVlIiwKICAiZGFzaEFycmF5IjogbnVsbCwKICAiZGFzaE9mZnNldCI6IG51bGwsCiAgImZpbGwiOiB0cnVlLAogICJmaWxsQ29sb3IiOiAiYmx1ZSIsCiAgImZpbGxPcGFjaXR5IjogMSwKICAiZmlsbFJ1bGUiOiAiZXZlbm9kZCIsCiAgImxpbmVDYXAiOiAicm91bmQiLAogICJsaW5lSm9pbiI6ICJyb3VuZCIsCiAgIm9wYWNpdHkiOiAxLjAsCiAgInJhZGl1cyI6IDIsCiAgInN0cm9rZSI6IHRydWUsCiAgIndlaWdodCI6IDMKfQogICAgICAgICAgICAgICAgKS5hZGRUbyhtYXBfNWYxMjRkMjNkNmNjNDE2OGIzZTQ4NzliZTk5Yzg5MTUpOwogICAgICAgICAgICAKICAgIAogICAgICAgICAgICB2YXIgY2lyY2xlX21hcmtlcl9jNWE1M2VmM2VkNjA0ZjJiOWNiMzQ4YjI1ZDkzZTQ2ZCA9IEwuY2lyY2xlTWFya2VyKAogICAgICAgICAgICAgICAgWzM0LjA1MjEwMSwtMTE4LjI1MTkyOF0sCiAgICAgICAgICAgICAgICB7CiAgImJ1YmJsaW5nTW91c2VFdmVudHMiOiB0cnVlLAogICJjb2xvciI6ICJibHVlIiwKICAiZGFzaEFycmF5IjogbnVsbCwKICAiZGFzaE9mZnNldCI6IG51bGwsCiAgImZpbGwiOiB0cnVlLAogICJmaWxsQ29sb3IiOiAiYmx1ZSIsCiAgImZpbGxPcGFjaXR5IjogMSwKICAiZmlsbFJ1bGUiOiAiZXZlbm9kZCIsCiAgImxpbmVDYXAiOiAicm91bmQiLAogICJsaW5lSm9pbiI6ICJyb3VuZCIsCiAgIm9wYWNpdHkiOiAxLjAsCiAgInJhZGl1cyI6IDIsCiAgInN0cm9rZSI6IHRydWUsCiAgIndlaWdodCI6IDMKfQogICAgICAgICAgICAgICAgKS5hZGRUbyhtYXBfNWYxMjRkMjNkNmNjNDE2OGIzZTQ4NzliZTk5Yzg5MTUpOwogICAgICAgICAgICAKICAgIAogICAgICAgICAgICB2YXIgY2lyY2xlX21hcmtlcl9iNjQ1Yjc4YjM2MGY0NmM2ODY4ZGE4ZTRjYjE3OTlkMCA9IEwuY2lyY2xlTWFya2VyKAogICAgICAgICAgICAgICAgWzM0LjA1MTkzLC0xMTguMjUyMzVdLAogICAgICAgICAgICAgICAgewogICJidWJibGluZ01vdXNlRXZlbnRzIjogdHJ1ZSwKICAiY29sb3IiOiAiYmx1ZSIsCiAgImRhc2hBcnJheSI6IG51bGwsCiAgImRhc2hPZmZzZXQiOiBudWxsLAogICJmaWxsIjogdHJ1ZSwKICAiZmlsbENvbG9yIjogImJsdWUiLAogICJmaWxsT3BhY2l0eSI6IDEsCiAgImZpbGxSdWxlIjogImV2ZW5vZGQiLAogICJsaW5lQ2FwIjogInJvdW5kIiwKICAibGluZUpvaW4iOiAicm91bmQiLAogICJvcGFjaXR5IjogMS4wLAogICJyYWRpdXMiOiAyLAogICJzdHJva2UiOiB0cnVlLAogICJ3ZWlnaHQiOiAzCn0KICAgICAgICAgICAgICAgICkuYWRkVG8obWFwXzVmMTI0ZDIzZDZjYzQxNjhiM2U0ODc5YmU5OWM4OTE1KTsKICAgICAgICAgICAgCiAgICAKICAgICAgICAgICAgdmFyIGNpcmNsZV9tYXJrZXJfZDMyNzlhNWQ2OGZmNDBkNjgxOTk1OGU4MzAyM2MwNTUgPSBMLmNpcmNsZU1hcmtlcigKICAgICAgICAgICAgICAgIFszNC4wNDgwODg5NDcwODk3OCwtMTE4LjI1ODI3MjYxNzY0NDZdLAogICAgICAgICAgICAgICAgewogICJidWJibGluZ01vdXNlRXZlbnRzIjogdHJ1ZSwKICAiY29sb3IiOiAiYmx1ZSIsCiAgImRhc2hBcnJheSI6IG51bGwsCiAgImRhc2hPZmZzZXQiOiBudWxsLAogICJmaWxsIjogdHJ1ZSwKICAiZmlsbENvbG9yIjogImJsdWUiLAogICJmaWxsT3BhY2l0eSI6IDEsCiAgImZpbGxSdWxlIjogImV2ZW5vZGQiLAogICJsaW5lQ2FwIjogInJvdW5kIiwKICAibGluZUpvaW4iOiAicm91bmQiLAogICJvcGFjaXR5IjogMS4wLAogICJyYWRpdXMiOiAyLAogICJzdHJva2UiOiB0cnVlLAogICJ3ZWlnaHQiOiAzCn0KICAgICAgICAgICAgICAgICkuYWRkVG8obWFwXzVmMTI0ZDIzZDZjYzQxNjhiM2U0ODc5YmU5OWM4OTE1KTsKICAgICAgICAgICAgCiAgICAKICAgICAgICAgICAgdmFyIGNpcmNsZV9tYXJrZXJfNWI1NDczYmE0NmMyNDVjZGE5ZjkxMzUwYjgxNTg2MjIgPSBMLmNpcmNsZU1hcmtlcigKICAgICAgICAgICAgICAgIFszNC4wNTA3MzE5NjMzMTM0NSwtMTE4LjI1NDYzNTIxMjA5MzI4XSwKICAgICAgICAgICAgICAgIHsKICAiYnViYmxpbmdNb3VzZUV2ZW50cyI6IHRydWUsCiAgImNvbG9yIjogImJsdWUiLAogICJkYXNoQXJyYXkiOiBudWxsLAogICJkYXNoT2Zmc2V0IjogbnVsbCwKICAiZmlsbCI6IHRydWUsCiAgImZpbGxDb2xvciI6ICJibHVlIiwKICAiZmlsbE9wYWNpdHkiOiAxLAogICJmaWxsUnVsZSI6ICJldmVub2RkIiwKICAibGluZUNhcCI6ICJyb3VuZCIsCiAgImxpbmVKb2luIjogInJvdW5kIiwKICAib3BhY2l0eSI6IDEuMCwKICAicmFkaXVzIjogMiwKICAic3Ryb2tlIjogdHJ1ZSwKICAid2VpZ2h0IjogMwp9CiAgICAgICAgICAgICAgICApLmFkZFRvKG1hcF81ZjEyNGQyM2Q2Y2M0MTY4YjNlNDg3OWJlOTljODkxNSk7CiAgICAgICAgICAgIAogICAgCiAgICAgICAgICAgIHZhciBjaXJjbGVfbWFya2VyX2M5OGRiM2RiM2MzZjRiNzI5ZDA3NTU1NWM2NjhkMTE5ID0gTC5jaXJjbGVNYXJrZXIoCiAgICAgICAgICAgICAgICBbMzQuMDQ4NDAyODY5Njk3MzcsLTExOC4yNDM1ODU0NzYzODA1Nl0sCiAgICAgICAgICAgICAgICB7CiAgImJ1YmJsaW5nTW91c2VFdmVudHMiOiB0cnVlLAogICJjb2xvciI6ICJibHVlIiwKICAiZGFzaEFycmF5IjogbnVsbCwKICAiZGFzaE9mZnNldCI6IG51bGwsCiAgImZpbGwiOiB0cnVlLAogICJmaWxsQ29sb3IiOiAiYmx1ZSIsCiAgImZpbGxPcGFjaXR5IjogMSwKICAiZmlsbFJ1bGUiOiAiZXZlbm9kZCIsCiAgImxpbmVDYXAiOiAicm91bmQiLAogICJsaW5lSm9pbiI6ICJyb3VuZCIsCiAgIm9wYWNpdHkiOiAxLjAsCiAgInJhZGl1cyI6IDIsCiAgInN0cm9rZSI6IHRydWUsCiAgIndlaWdodCI6IDMKfQogICAgICAgICAgICAgICAgKS5hZGRUbyhtYXBfNWYxMjRkMjNkNmNjNDE2OGIzZTQ4NzliZTk5Yzg5MTUpOwogICAgICAgICAgICAKICAgIAogICAgICAgICAgICB2YXIgY2lyY2xlX21hcmtlcl81MWM2YzAwNDQzYWU0YWJhOWE4NDQ4OTljY2ZmOWQ0NiA9IEwuY2lyY2xlTWFya2VyKAogICAgICAgICAgICAgICAgWzM0LjA0MjU3NjE5MjE1NTI0NSwtMTE4LjI1NjMwMjYwMzgyOTEzXSwKICAgICAgICAgICAgICAgIHsKICAiYnViYmxpbmdNb3VzZUV2ZW50cyI6IHRydWUsCiAgImNvbG9yIjogImJsdWUiLAogICJkYXNoQXJyYXkiOiBudWxsLAogICJkYXNoT2Zmc2V0IjogbnVsbCwKICAiZmlsbCI6IHRydWUsCiAgImZpbGxDb2xvciI6ICJibHVlIiwKICAiZmlsbE9wYWNpdHkiOiAxLAogICJmaWxsUnVsZSI6ICJldmVub2RkIiwKICAibGluZUNhcCI6ICJyb3VuZCIsCiAgImxpbmVKb2luIjogInJvdW5kIiwKICAib3BhY2l0eSI6IDEuMCwKICAicmFkaXVzIjogMiwKICAic3Ryb2tlIjogdHJ1ZSwKICAid2VpZ2h0IjogMwp9CiAgICAgICAgICAgICAgICApLmFkZFRvKG1hcF81ZjEyNGQyM2Q2Y2M0MTY4YjNlNDg3OWJlOTljODkxNSk7CiAgICAgICAgICAgIAogICAgCiAgICAgICAgICAgIHZhciBjaXJjbGVfbWFya2VyXzIxMzIzMmVmMDNhYjQ5MWVhZmU0YTk3YWU3OTJlZGM0ID0gTC5jaXJjbGVNYXJrZXIoCiAgICAgICAgICAgICAgICBbMzQuMDUyMzk3LC0xMTguMjUxNjY0XSwKICAgICAgICAgICAgICAgIHsKICAiYnViYmxpbmdNb3VzZUV2ZW50cyI6IHRydWUsCiAgImNvbG9yIjogImJsdWUiLAogICJkYXNoQXJyYXkiOiBudWxsLAogICJkYXNoT2Zmc2V0IjogbnVsbCwKICAiZmlsbCI6IHRydWUsCiAgImZpbGxDb2xvciI6ICJibHVlIiwKICAiZmlsbE9wYWNpdHkiOiAxLAogICJmaWxsUnVsZSI6ICJldmVub2RkIiwKICAibGluZUNhcCI6ICJyb3VuZCIsCiAgImxpbmVKb2luIjogInJvdW5kIiwKICAib3BhY2l0eSI6IDEuMCwKICAicmFkaXVzIjogMiwKICAic3Ryb2tlIjogdHJ1ZSwKICAid2VpZ2h0IjogMwp9CiAgICAgICAgICAgICAgICApLmFkZFRvKG1hcF81ZjEyNGQyM2Q2Y2M0MTY4YjNlNDg3OWJlOTljODkxNSk7CiAgICAgICAgICAgIAogICAgCiAgICAgICAgICAgIHZhciBjaXJjbGVfbWFya2VyXzY4MGUxMmI0OWNkOTQ5NjY5N2IyNDc0MGI1NGIwYzY5ID0gTC5jaXJjbGVNYXJrZXIoCiAgICAgICAgICAgICAgICBbMzQuMDUzODA1NzU1OTE3NCwtMTE4LjI1MDg5NDk0MjA5MzU4XSwKICAgICAgICAgICAgICAgIHsKICAiYnViYmxpbmdNb3VzZUV2ZW50cyI6IHRydWUsCiAgImNvbG9yIjogImJsdWUiLAogICJkYXNoQXJyYXkiOiBudWxsLAogICJkYXNoT2Zmc2V0IjogbnVsbCwKICAiZmlsbCI6IHRydWUsCiAgImZpbGxDb2xvciI6ICJibHVlIiwKICAiZmlsbE9wYWNpdHkiOiAxLAogICJmaWxsUnVsZSI6ICJldmVub2RkIiwKICAibGluZUNhcCI6ICJyb3VuZCIsCiAgImxpbmVKb2luIjogInJvdW5kIiwKICAib3BhY2l0eSI6IDEuMCwKICAicmFkaXVzIjogMiwKICAic3Ryb2tlIjogdHJ1ZSwKICAid2VpZ2h0IjogMwp9CiAgICAgICAgICAgICAgICApLmFkZFRvKG1hcF81ZjEyNGQyM2Q2Y2M0MTY4YjNlNDg3OWJlOTljODkxNSk7CiAgICAgICAgICAgIAogICAgCiAgICAgICAgICAgIHZhciBjaXJjbGVfbWFya2VyXzcyMGNmYmYyZDNiYzRkODdhZTM3ZGEwZjNlZmM3ODI3ID0gTC5jaXJjbGVNYXJrZXIoCiAgICAgICAgICAgICAgICBbMzQuMDQ4MTEsLTExOC4yNjA3MzddLAogICAgICAgICAgICAgICAgewogICJidWJibGluZ01vdXNlRXZlbnRzIjogdHJ1ZSwKICAiY29sb3IiOiAiYmx1ZSIsCiAgImRhc2hBcnJheSI6IG51bGwsCiAgImRhc2hPZmZzZXQiOiBudWxsLAogICJmaWxsIjogdHJ1ZSwKICAiZmlsbENvbG9yIjogImJsdWUiLAogICJmaWxsT3BhY2l0eSI6IDEsCiAgImZpbGxSdWxlIjogImV2ZW5vZGQiLAogICJsaW5lQ2FwIjogInJvdW5kIiwKICAibGluZUpvaW4iOiAicm91bmQiLAogICJvcGFjaXR5IjogMS4wLAogICJyYWRpdXMiOiAyLAogICJzdHJva2UiOiB0cnVlLAogICJ3ZWlnaHQiOiAzCn0KICAgICAgICAgICAgICAgICkuYWRkVG8obWFwXzVmMTI0ZDIzZDZjYzQxNjhiM2U0ODc5YmU5OWM4OTE1KTsKICAgICAgICAgICAgCiAgICAKICAgICAgICAgICAgdmFyIGNpcmNsZV9tYXJrZXJfYTFkYzcyMGFmZDE4NDk2MzhkZTdmMDAzNWYwY2RlMTggPSBMLmNpcmNsZU1hcmtlcigKICAgICAgICAgICAgICAgIFszNC4wNTIyODA1NTAwNTQzMSwtMTE4LjI1MDkxMjA3MzI4NzQ4XSwKICAgICAgICAgICAgICAgIHsKICAiYnViYmxpbmdNb3VzZUV2ZW50cyI6IHRydWUsCiAgImNvbG9yIjogImJsdWUiLAogICJkYXNoQXJyYXkiOiBudWxsLAogICJkYXNoT2Zmc2V0IjogbnVsbCwKICAiZmlsbCI6IHRydWUsCiAgImZpbGxDb2xvciI6ICJibHVlIiwKICAiZmlsbE9wYWNpdHkiOiAxLAogICJmaWxsUnVsZSI6ICJldmVub2RkIiwKICAibGluZUNhcCI6ICJyb3VuZCIsCiAgImxpbmVKb2luIjogInJvdW5kIiwKICAib3BhY2l0eSI6IDEuMCwKICAicmFkaXVzIjogMiwKICAic3Ryb2tlIjogdHJ1ZSwKICAid2VpZ2h0IjogMwp9CiAgICAgICAgICAgICAgICApLmFkZFRvKG1hcF81ZjEyNGQyM2Q2Y2M0MTY4YjNlNDg3OWJlOTljODkxNSk7CiAgICAgICAgICAgIAogICAgCiAgICAgICAgICAgIHZhciBjaXJjbGVfbWFya2VyX2E1NTA5NGE1ODIxZTRkOTA4OTQ2YmFmYmIwNTkwYmJjID0gTC5jaXJjbGVNYXJrZXIoCiAgICAgICAgICAgICAgICBbMzQuMDQ4NDAzNTgzMjI4NTMsLTExOC4yNjA2NDIzMTQzNDYwN10sCiAgICAgICAgICAgICAgICB7CiAgImJ1YmJsaW5nTW91c2VFdmVudHMiOiB0cnVlLAogICJjb2xvciI6ICJibHVlIiwKICAiZGFzaEFycmF5IjogbnVsbCwKICAiZGFzaE9mZnNldCI6IG51bGwsCiAgImZpbGwiOiB0cnVlLAogICJmaWxsQ29sb3IiOiAiYmx1ZSIsCiAgImZpbGxPcGFjaXR5IjogMSwKICAiZmlsbFJ1bGUiOiAiZXZlbm9kZCIsCiAgImxpbmVDYXAiOiAicm91bmQiLAogICJsaW5lSm9pbiI6ICJyb3VuZCIsCiAgIm9wYWNpdHkiOiAxLjAsCiAgInJhZGl1cyI6IDIsCiAgInN0cm9rZSI6IHRydWUsCiAgIndlaWdodCI6IDMKfQogICAgICAgICAgICAgICAgKS5hZGRUbyhtYXBfNWYxMjRkMjNkNmNjNDE2OGIzZTQ4NzliZTk5Yzg5MTUpOwogICAgICAgICAgICAKICAgIAogICAgICAgICAgICB2YXIgY2lyY2xlX21hcmtlcl9jYTQxMWNmZmQ3ZjY0MTY1YmQ5MTI0OThlOTQzNWExZiA9IEwuY2lyY2xlTWFya2VyKAogICAgICAgICAgICAgICAgWzM0LjA0ODU2MSwtMTE4LjI0Nzk4NV0sCiAgICAgICAgICAgICAgICB7CiAgImJ1YmJsaW5nTW91c2VFdmVudHMiOiB0cnVlLAogICJjb2xvciI6ICJibHVlIiwKICAiZGFzaEFycmF5IjogbnVsbCwKICAiZGFzaE9mZnNldCI6IG51bGwsCiAgImZpbGwiOiB0cnVlLAogICJmaWxsQ29sb3IiOiAiYmx1ZSIsCiAgImZpbGxPcGFjaXR5IjogMSwKICAiZmlsbFJ1bGUiOiAiZXZlbm9kZCIsCiAgImxpbmVDYXAiOiAicm91bmQiLAogICJsaW5lSm9pbiI6ICJyb3VuZCIsCiAgIm9wYWNpdHkiOiAxLjAsCiAgInJhZGl1cyI6IDIsCiAgInN0cm9rZSI6IHRydWUsCiAgIndlaWdodCI6IDMKfQogICAgICAgICAgICAgICAgKS5hZGRUbyhtYXBfNWYxMjRkMjNkNmNjNDE2OGIzZTQ4NzliZTk5Yzg5MTUpOwogICAgICAgICAgICAKICAgIAogICAgICAgICAgICB2YXIgY2lyY2xlX21hcmtlcl9lM2NhMjNhMTFiZjE0OTIyYjRmMjE2NmQ3NmFmZGNjZCA9IEwuY2lyY2xlTWFya2VyKAogICAgICAgICAgICAgICAgWzM0LjA1Mjk4NzM3NzM5MjI0LC0xMTguMjUyOTczNTE0NDQxMjRdLAogICAgICAgICAgICAgICAgewogICJidWJibGluZ01vdXNlRXZlbnRzIjogdHJ1ZSwKICAiY29sb3IiOiAiYmx1ZSIsCiAgImRhc2hBcnJheSI6IG51bGwsCiAgImRhc2hPZmZzZXQiOiBudWxsLAogICJmaWxsIjogdHJ1ZSwKICAiZmlsbENvbG9yIjogImJsdWUiLAogICJmaWxsT3BhY2l0eSI6IDEsCiAgImZpbGxSdWxlIjogImV2ZW5vZGQiLAogICJsaW5lQ2FwIjogInJvdW5kIiwKICAibGluZUpvaW4iOiAicm91bmQiLAogICJvcGFjaXR5IjogMS4wLAogICJyYWRpdXMiOiAyLAogICJzdHJva2UiOiB0cnVlLAogICJ3ZWlnaHQiOiAzCn0KICAgICAgICAgICAgICAgICkuYWRkVG8obWFwXzVmMTI0ZDIzZDZjYzQxNjhiM2U0ODc5YmU5OWM4OTE1KTsKICAgICAgICAgICAgCiAgICAKICAgICAgICAgICAgdmFyIGNpcmNsZV9tYXJrZXJfMWI3NjdlZGExZTEyNDNiY2E3NGIzNWZmYmRiZGViYzUgPSBMLmNpcmNsZU1hcmtlcigKICAgICAgICAgICAgICAgIFszNC4wNTQyMjE2OTQzMjIxMSwtMTE4LjI0NDEyNzk4NjUwMDgxXSwKICAgICAgICAgICAgICAgIHsKICAiYnViYmxpbmdNb3VzZUV2ZW50cyI6IHRydWUsCiAgImNvbG9yIjogImJsdWUiLAogICJkYXNoQXJyYXkiOiBudWxsLAogICJkYXNoT2Zmc2V0IjogbnVsbCwKICAiZmlsbCI6IHRydWUsCiAgImZpbGxDb2xvciI6ICJibHVlIiwKICAiZmlsbE9wYWNpdHkiOiAxLAogICJmaWxsUnVsZSI6ICJldmVub2RkIiwKICAibGluZUNhcCI6ICJyb3VuZCIsCiAgImxpbmVKb2luIjogInJvdW5kIiwKICAib3BhY2l0eSI6IDEuMCwKICAicmFkaXVzIjogMiwKICAic3Ryb2tlIjogdHJ1ZSwKICAid2VpZ2h0IjogMwp9CiAgICAgICAgICAgICAgICApLmFkZFRvKG1hcF81ZjEyNGQyM2Q2Y2M0MTY4YjNlNDg3OWJlOTljODkxNSk7CiAgICAgICAgICAgIAogICAgCiAgICAgICAgICAgIHZhciBjaXJjbGVfbWFya2VyXzJiZjhhNDc3MjMwMDRmNWZhOGI2OWUzNzVjZWZhYjEyID0gTC5jaXJjbGVNYXJrZXIoCiAgICAgICAgICAgICAgICBbMzQuMDQzMDQxLC0xMTguMjYzOTldLAogICAgICAgICAgICAgICAgewogICJidWJibGluZ01vdXNlRXZlbnRzIjogdHJ1ZSwKICAiY29sb3IiOiAiYmx1ZSIsCiAgImRhc2hBcnJheSI6IG51bGwsCiAgImRhc2hPZmZzZXQiOiBudWxsLAogICJmaWxsIjogdHJ1ZSwKICAiZmlsbENvbG9yIjogImJsdWUiLAogICJmaWxsT3BhY2l0eSI6IDEsCiAgImZpbGxSdWxlIjogImV2ZW5vZGQiLAogICJsaW5lQ2FwIjogInJvdW5kIiwKICAibGluZUpvaW4iOiAicm91bmQiLAogICJvcGFjaXR5IjogMS4wLAogICJyYWRpdXMiOiAyLAogICJzdHJva2UiOiB0cnVlLAogICJ3ZWlnaHQiOiAzCn0KICAgICAgICAgICAgICAgICkuYWRkVG8obWFwXzVmMTI0ZDIzZDZjYzQxNjhiM2U0ODc5YmU5OWM4OTE1KTsKICAgICAgICAgICAgCiAgICAKICAgICAgICAgICAgdmFyIGNpcmNsZV9tYXJrZXJfMGUxYmIyZmQ0OGQ0NGQwMGE2ZjRhYjhhMmE4ODEwYWYgPSBMLmNpcmNsZU1hcmtlcigKICAgICAgICAgICAgICAgIFszNC4wNDg5MTksLTExOC4yNTE0MjhdLAogICAgICAgICAgICAgICAgewogICJidWJibGluZ01vdXNlRXZlbnRzIjogdHJ1ZSwKICAiY29sb3IiOiAiYmx1ZSIsCiAgImRhc2hBcnJheSI6IG51bGwsCiAgImRhc2hPZmZzZXQiOiBudWxsLAogICJmaWxsIjogdHJ1ZSwKICAiZmlsbENvbG9yIjogImJsdWUiLAogICJmaWxsT3BhY2l0eSI6IDEsCiAgImZpbGxSdWxlIjogImV2ZW5vZGQiLAogICJsaW5lQ2FwIjogInJvdW5kIiwKICAibGluZUpvaW4iOiAicm91bmQiLAogICJvcGFjaXR5IjogMS4wLAogICJyYWRpdXMiOiAyLAogICJzdHJva2UiOiB0cnVlLAogICJ3ZWlnaHQiOiAzCn0KICAgICAgICAgICAgICAgICkuYWRkVG8obWFwXzVmMTI0ZDIzZDZjYzQxNjhiM2U0ODc5YmU5OWM4OTE1KTsKICAgICAgICAgICAgCiAgICAKICAgICAgICAgICAgdmFyIGNpcmNsZV9tYXJrZXJfZWU1MDIxZWU0ODhjNDU4OWE4Yjg0YWYxZmNkZTEwNTIgPSBMLmNpcmNsZU1hcmtlcigKICAgICAgICAgICAgICAgIFszNC4wNTEwNDUyMDc3MDUyNywtMTE4LjI1NDQwMzE1MTgxODc5XSwKICAgICAgICAgICAgICAgIHsKICAiYnViYmxpbmdNb3VzZUV2ZW50cyI6IHRydWUsCiAgImNvbG9yIjogImJsdWUiLAogICJkYXNoQXJyYXkiOiBudWxsLAogICJkYXNoT2Zmc2V0IjogbnVsbCwKICAiZmlsbCI6IHRydWUsCiAgImZpbGxDb2xvciI6ICJibHVlIiwKICAiZmlsbE9wYWNpdHkiOiAxLAogICJmaWxsUnVsZSI6ICJldmVub2RkIiwKICAibGluZUNhcCI6ICJyb3VuZCIsCiAgImxpbmVKb2luIjogInJvdW5kIiwKICAib3BhY2l0eSI6IDEuMCwKICAicmFkaXVzIjogMiwKICAic3Ryb2tlIjogdHJ1ZSwKICAid2VpZ2h0IjogMwp9CiAgICAgICAgICAgICAgICApLmFkZFRvKG1hcF81ZjEyNGQyM2Q2Y2M0MTY4YjNlNDg3OWJlOTljODkxNSk7CiAgICAgICAgICAgIAogICAgCiAgICAgICAgICAgIHZhciBjaXJjbGVfbWFya2VyXzI3YjQ4MzdlZTQwMTRmOTJhN2Y2NzRjMDVmYjA2YzNjID0gTC5jaXJjbGVNYXJrZXIoCiAgICAgICAgICAgICAgICBbMzQuMDQ5NzQyOTQ5MTI4MTcsLTExOC4yNTY1NDc2NTA3MzU2XSwKICAgICAgICAgICAgICAgIHsKICAiYnViYmxpbmdNb3VzZUV2ZW50cyI6IHRydWUsCiAgImNvbG9yIjogImJsdWUiLAogICJkYXNoQXJyYXkiOiBudWxsLAogICJkYXNoT2Zmc2V0IjogbnVsbCwKICAiZmlsbCI6IHRydWUsCiAgImZpbGxDb2xvciI6ICJibHVlIiwKICAiZmlsbE9wYWNpdHkiOiAxLAogICJmaWxsUnVsZSI6ICJldmVub2RkIiwKICAibGluZUNhcCI6ICJyb3VuZCIsCiAgImxpbmVKb2luIjogInJvdW5kIiwKICAib3BhY2l0eSI6IDEuMCwKICAicmFkaXVzIjogMiwKICAic3Ryb2tlIjogdHJ1ZSwKICAid2VpZ2h0IjogMwp9CiAgICAgICAgICAgICAgICApLmFkZFRvKG1hcF81ZjEyNGQyM2Q2Y2M0MTY4YjNlNDg3OWJlOTljODkxNSk7CiAgICAgICAgICAgIAogICAgCiAgICAgICAgICAgIHZhciBjaXJjbGVfbWFya2VyXzEzMDVkMjAxMWNmZjRlMTdhODE5MWM1ZjE3ZmY3MDA1ID0gTC5jaXJjbGVNYXJrZXIoCiAgICAgICAgICAgICAgICBbMzQuMDQ4ODY1Njk0NTQ5MzEsLTExOC4yNTg4MzAyMzY4NjQ2M10sCiAgICAgICAgICAgICAgICB7CiAgImJ1YmJsaW5nTW91c2VFdmVudHMiOiB0cnVlLAogICJjb2xvciI6ICJibHVlIiwKICAiZGFzaEFycmF5IjogbnVsbCwKICAiZGFzaE9mZnNldCI6IG51bGwsCiAgImZpbGwiOiB0cnVlLAogICJmaWxsQ29sb3IiOiAiYmx1ZSIsCiAgImZpbGxPcGFjaXR5IjogMSwKICAiZmlsbFJ1bGUiOiAiZXZlbm9kZCIsCiAgImxpbmVDYXAiOiAicm91bmQiLAogICJsaW5lSm9pbiI6ICJyb3VuZCIsCiAgIm9wYWNpdHkiOiAxLjAsCiAgInJhZGl1cyI6IDIsCiAgInN0cm9rZSI6IHRydWUsCiAgIndlaWdodCI6IDMKfQogICAgICAgICAgICAgICAgKS5hZGRUbyhtYXBfNWYxMjRkMjNkNmNjNDE2OGIzZTQ4NzliZTk5Yzg5MTUpOwogICAgICAgICAgICAKICAgIAogICAgICAgICAgICB2YXIgY2lyY2xlX21hcmtlcl84MzgzOWUyMjBhMDQ0NzBkYmYxMGY1YjMyNzdkYTJkMiA9IEwuY2lyY2xlTWFya2VyKAogICAgICAgICAgICAgICAgWzM0LjA1MzM4LC0xMTguMjUzNDhdLAogICAgICAgICAgICAgICAgewogICJidWJibGluZ01vdXNlRXZlbnRzIjogdHJ1ZSwKICAiY29sb3IiOiAiYmx1ZSIsCiAgImRhc2hBcnJheSI6IG51bGwsCiAgImRhc2hPZmZzZXQiOiBudWxsLAogICJmaWxsIjogdHJ1ZSwKICAiZmlsbENvbG9yIjogImJsdWUiLAogICJmaWxsT3BhY2l0eSI6IDEsCiAgImZpbGxSdWxlIjogImV2ZW5vZGQiLAogICJsaW5lQ2FwIjogInJvdW5kIiwKICAibGluZUpvaW4iOiAicm91bmQiLAogICJvcGFjaXR5IjogMS4wLAogICJyYWRpdXMiOiAyLAogICJzdHJva2UiOiB0cnVlLAogICJ3ZWlnaHQiOiAzCn0KICAgICAgICAgICAgICAgICkuYWRkVG8obWFwXzVmMTI0ZDIzZDZjYzQxNjhiM2U0ODc5YmU5OWM4OTE1KTsKICAgICAgICAgICAgCiAgICAKICAgICAgICAgICAgdmFyIGNpcmNsZV9tYXJrZXJfYjU4ODA0Mzg0MTY1NGE4NGEwM2EwYzhiNDhmZTUzN2MgPSBMLmNpcmNsZU1hcmtlcigKICAgICAgICAgICAgICAgIFszNC4wNDc0NTk3NjEzNDUxNDUsLTExOC4yNTY3NDcwMjY1MTldLAogICAgICAgICAgICAgICAgewogICJidWJibGluZ01vdXNlRXZlbnRzIjogdHJ1ZSwKICAiY29sb3IiOiAiYmx1ZSIsCiAgImRhc2hBcnJheSI6IG51bGwsCiAgImRhc2hPZmZzZXQiOiBudWxsLAogICJmaWxsIjogdHJ1ZSwKICAiZmlsbENvbG9yIjogImJsdWUiLAogICJmaWxsT3BhY2l0eSI6IDEsCiAgImZpbGxSdWxlIjogImV2ZW5vZGQiLAogICJsaW5lQ2FwIjogInJvdW5kIiwKICAibGluZUpvaW4iOiAicm91bmQiLAogICJvcGFjaXR5IjogMS4wLAogICJyYWRpdXMiOiAyLAogICJzdHJva2UiOiB0cnVlLAogICJ3ZWlnaHQiOiAzCn0KICAgICAgICAgICAgICAgICkuYWRkVG8obWFwXzVmMTI0ZDIzZDZjYzQxNjhiM2U0ODc5YmU5OWM4OTE1KTsKICAgICAgICAgICAgCiAgICAKICAgICAgICAgICAgdmFyIGNpcmNsZV9tYXJrZXJfMDYzOTZhNTI0Yzg5NGEyMjk4ZmRiYTM4YzcwMTNhMjkgPSBMLmNpcmNsZU1hcmtlcigKICAgICAgICAgICAgICAgIFszNC4wNDc3MTYwNzkwNjMzMSwtMTE4LjI0NzQ1MTUzNzMzMDc5XSwKICAgICAgICAgICAgICAgIHsKICAiYnViYmxpbmdNb3VzZUV2ZW50cyI6IHRydWUsCiAgImNvbG9yIjogImJsdWUiLAogICJkYXNoQXJyYXkiOiBudWxsLAogICJkYXNoT2Zmc2V0IjogbnVsbCwKICAiZmlsbCI6IHRydWUsCiAgImZpbGxDb2xvciI6ICJibHVlIiwKICAiZmlsbE9wYWNpdHkiOiAxLAogICJmaWxsUnVsZSI6ICJldmVub2RkIiwKICAibGluZUNhcCI6ICJyb3VuZCIsCiAgImxpbmVKb2luIjogInJvdW5kIiwKICAib3BhY2l0eSI6IDEuMCwKICAicmFkaXVzIjogMiwKICAic3Ryb2tlIjogdHJ1ZSwKICAid2VpZ2h0IjogMwp9CiAgICAgICAgICAgICAgICApLmFkZFRvKG1hcF81ZjEyNGQyM2Q2Y2M0MTY4YjNlNDg3OWJlOTljODkxNSk7CiAgICAgICAgICAgIAogICAgCiAgICAgICAgICAgIHZhciBjaXJjbGVfbWFya2VyXzY1ZTE3NTk0MzVhMTQwMTVhMzA1YzJkZDc1NDgxYmE5ID0gTC5jaXJjbGVNYXJrZXIoCiAgICAgICAgICAgICAgICBbMzQuMDQ2MjE4ODM3ODYyNTYsLTExOC4yNjMxMDI1MjY3OTA2M10sCiAgICAgICAgICAgICAgICB7CiAgImJ1YmJsaW5nTW91c2VFdmVudHMiOiB0cnVlLAogICJjb2xvciI6ICJibHVlIiwKICAiZGFzaEFycmF5IjogbnVsbCwKICAiZGFzaE9mZnNldCI6IG51bGwsCiAgImZpbGwiOiB0cnVlLAogICJmaWxsQ29sb3IiOiAiYmx1ZSIsCiAgImZpbGxPcGFjaXR5IjogMSwKICAiZmlsbFJ1bGUiOiAiZXZlbm9kZCIsCiAgImxpbmVDYXAiOiAicm91bmQiLAogICJsaW5lSm9pbiI6ICJyb3VuZCIsCiAgIm9wYWNpdHkiOiAxLjAsCiAgInJhZGl1cyI6IDIsCiAgInN0cm9rZSI6IHRydWUsCiAgIndlaWdodCI6IDMKfQogICAgICAgICAgICAgICAgKS5hZGRUbyhtYXBfNWYxMjRkMjNkNmNjNDE2OGIzZTQ4NzliZTk5Yzg5MTUpOwogICAgICAgICAgICAKICAgIAogICAgICAgICAgICB2YXIgY2lyY2xlX21hcmtlcl83ZTI1MTk4ZTY5NDQ0ODIxOGIwZTYwMmE2MDQ4ZTA2YSA9IEwuY2lyY2xlTWFya2VyKAogICAgICAgICAgICAgICAgWzM0LjA0MjIwMzAyMzA1NTU3LC0xMTguMjU0NTIwNTgxODQzODhdLAogICAgICAgICAgICAgICAgewogICJidWJibGluZ01vdXNlRXZlbnRzIjogdHJ1ZSwKICAiY29sb3IiOiAiYmx1ZSIsCiAgImRhc2hBcnJheSI6IG51bGwsCiAgImRhc2hPZmZzZXQiOiBudWxsLAogICJmaWxsIjogdHJ1ZSwKICAiZmlsbENvbG9yIjogImJsdWUiLAogICJmaWxsT3BhY2l0eSI6IDEsCiAgImZpbGxSdWxlIjogImV2ZW5vZGQiLAogICJsaW5lQ2FwIjogInJvdW5kIiwKICAibGluZUpvaW4iOiAicm91bmQiLAogICJvcGFjaXR5IjogMS4wLAogICJyYWRpdXMiOiAyLAogICJzdHJva2UiOiB0cnVlLAogICJ3ZWlnaHQiOiAzCn0KICAgICAgICAgICAgICAgICkuYWRkVG8obWFwXzVmMTI0ZDIzZDZjYzQxNjhiM2U0ODc5YmU5OWM4OTE1KTsKICAgICAgICAgICAgCiAgICAKICAgICAgICAgICAgdmFyIGNpcmNsZV9tYXJrZXJfY2IyYzc5OTdmNDg2NDQwMjk5MjU2ODFlMmVjMzMxNDkgPSBMLmNpcmNsZU1hcmtlcigKICAgICAgICAgICAgICAgIFszNC4wNDcyNzExNTIzMDkzOSwtMTE4LjI1NjUxOTg5NjI1ODE4XSwKICAgICAgICAgICAgICAgIHsKICAiYnViYmxpbmdNb3VzZUV2ZW50cyI6IHRydWUsCiAgImNvbG9yIjogImJsdWUiLAogICJkYXNoQXJyYXkiOiBudWxsLAogICJkYXNoT2Zmc2V0IjogbnVsbCwKICAiZmlsbCI6IHRydWUsCiAgImZpbGxDb2xvciI6ICJibHVlIiwKICAiZmlsbE9wYWNpdHkiOiAxLAogICJmaWxsUnVsZSI6ICJldmVub2RkIiwKICAibGluZUNhcCI6ICJyb3VuZCIsCiAgImxpbmVKb2luIjogInJvdW5kIiwKICAib3BhY2l0eSI6IDEuMCwKICAicmFkaXVzIjogMiwKICAic3Ryb2tlIjogdHJ1ZSwKICAid2VpZ2h0IjogMwp9CiAgICAgICAgICAgICAgICApLmFkZFRvKG1hcF81ZjEyNGQyM2Q2Y2M0MTY4YjNlNDg3OWJlOTljODkxNSk7CiAgICAgICAgICAgIAogICAgCiAgICAgICAgICAgIHZhciBjaXJjbGVfbWFya2VyX2E2ZjhmZGI1NmVkMDQ3OTI4NTU3YmRiOGFiYjI5MjMwID0gTC5jaXJjbGVNYXJrZXIoCiAgICAgICAgICAgICAgICBbMzQuMDQ2NTY0MDc0MTY2NzksLTExOC4yNTkyNDM2NTc1MjQ1OF0sCiAgICAgICAgICAgICAgICB7CiAgImJ1YmJsaW5nTW91c2VFdmVudHMiOiB0cnVlLAogICJjb2xvciI6ICJibHVlIiwKICAiZGFzaEFycmF5IjogbnVsbCwKICAiZGFzaE9mZnNldCI6IG51bGwsCiAgImZpbGwiOiB0cnVlLAogICJmaWxsQ29sb3IiOiAiYmx1ZSIsCiAgImZpbGxPcGFjaXR5IjogMSwKICAiZmlsbFJ1bGUiOiAiZXZlbm9kZCIsCiAgImxpbmVDYXAiOiAicm91bmQiLAogICJsaW5lSm9pbiI6ICJyb3VuZCIsCiAgIm9wYWNpdHkiOiAxLjAsCiAgInJhZGl1cyI6IDIsCiAgInN0cm9rZSI6IHRydWUsCiAgIndlaWdodCI6IDMKfQogICAgICAgICAgICAgICAgKS5hZGRUbyhtYXBfNWYxMjRkMjNkNmNjNDE2OGIzZTQ4NzliZTk5Yzg5MTUpOwogICAgICAgICAgICAKICAgIAogICAgICAgICAgICB2YXIgY2lyY2xlX21hcmtlcl8zNDA0N2ZiODU4YzU0ZWVkYjRmNDczYWQyZTAxNzlhZiA9IEwuY2lyY2xlTWFya2VyKAogICAgICAgICAgICAgICAgWzM0LjA0NTQzMjQ1NDY3Mjc5LC0xMTguMjUzMTQ3MjQ2MTAxMTRdLAogICAgICAgICAgICAgICAgewogICJidWJibGluZ01vdXNlRXZlbnRzIjogdHJ1ZSwKICAiY29sb3IiOiAiYmx1ZSIsCiAgImRhc2hBcnJheSI6IG51bGwsCiAgImRhc2hPZmZzZXQiOiBudWxsLAogICJmaWxsIjogdHJ1ZSwKICAiZmlsbENvbG9yIjogImJsdWUiLAogICJmaWxsT3BhY2l0eSI6IDEsCiAgImZpbGxSdWxlIjogImV2ZW5vZGQiLAogICJsaW5lQ2FwIjogInJvdW5kIiwKICAibGluZUpvaW4iOiAicm91bmQiLAogICJvcGFjaXR5IjogMS4wLAogICJyYWRpdXMiOiAyLAogICJzdHJva2UiOiB0cnVlLAogICJ3ZWlnaHQiOiAzCn0KICAgICAgICAgICAgICAgICkuYWRkVG8obWFwXzVmMTI0ZDIzZDZjYzQxNjhiM2U0ODc5YmU5OWM4OTE1KTsKICAgICAgICAgICAgCiAgICAKICAgICAgICAgICAgdmFyIGNpcmNsZV9tYXJrZXJfNjVjZDI3MmU0ZDMzNDkxYzgxOWM0OTQxNjIyY2Y1NzIgPSBMLmNpcmNsZU1hcmtlcigKICAgICAgICAgICAgICAgIFszNC4wNDY1MTE0NjI2MTc0NSwtMTE4LjI1MDU5NzQyMDc4NDE2XSwKICAgICAgICAgICAgICAgIHsKICAiYnViYmxpbmdNb3VzZUV2ZW50cyI6IHRydWUsCiAgImNvbG9yIjogImJsdWUiLAogICJkYXNoQXJyYXkiOiBudWxsLAogICJkYXNoT2Zmc2V0IjogbnVsbCwKICAiZmlsbCI6IHRydWUsCiAgImZpbGxDb2xvciI6ICJibHVlIiwKICAiZmlsbE9wYWNpdHkiOiAxLAogICJmaWxsUnVsZSI6ICJldmVub2RkIiwKICAibGluZUNhcCI6ICJyb3VuZCIsCiAgImxpbmVKb2luIjogInJvdW5kIiwKICAib3BhY2l0eSI6IDEuMCwKICAicmFkaXVzIjogMiwKICAic3Ryb2tlIjogdHJ1ZSwKICAid2VpZ2h0IjogMwp9CiAgICAgICAgICAgICAgICApLmFkZFRvKG1hcF81ZjEyNGQyM2Q2Y2M0MTY4YjNlNDg3OWJlOTljODkxNSk7CiAgICAgICAgICAgIAogICAgCiAgICAgICAgICAgIHZhciBjaXJjbGVfbWFya2VyX2RlM2YyZDhjYjU1MTQ5MDE5NzQ4ZjYwNWIzYWI4YTIyID0gTC5jaXJjbGVNYXJrZXIoCiAgICAgICAgICAgICAgICBbMzQuMDU0MzExNjcyMzc0NDk2LC0xMTguMjUxMjEzNTU1MzE1ODZdLAogICAgICAgICAgICAgICAgewogICJidWJibGluZ01vdXNlRXZlbnRzIjogdHJ1ZSwKICAiY29sb3IiOiAiYmx1ZSIsCiAgImRhc2hBcnJheSI6IG51bGwsCiAgImRhc2hPZmZzZXQiOiBudWxsLAogICJmaWxsIjogdHJ1ZSwKICAiZmlsbENvbG9yIjogImJsdWUiLAogICJmaWxsT3BhY2l0eSI6IDEsCiAgImZpbGxSdWxlIjogImV2ZW5vZGQiLAogICJsaW5lQ2FwIjogInJvdW5kIiwKICAibGluZUpvaW4iOiAicm91bmQiLAogICJvcGFjaXR5IjogMS4wLAogICJyYWRpdXMiOiAyLAogICJzdHJva2UiOiB0cnVlLAogICJ3ZWlnaHQiOiAzCn0KICAgICAgICAgICAgICAgICkuYWRkVG8obWFwXzVmMTI0ZDIzZDZjYzQxNjhiM2U0ODc5YmU5OWM4OTE1KTsKICAgICAgICAgICAgCiAgICAKICAgICAgICAgICAgdmFyIGNpcmNsZV9tYXJrZXJfNmFmYmZlYTEwNjE4NGExMGI1NWYyYWU2N2U4ODBkNWIgPSBMLmNpcmNsZU1hcmtlcigKICAgICAgICAgICAgICAgIFszNC4wNDQxMzMwNjI1NjA0OSwtMTE4LjI1NzU5OTk5OTM4ODI5XSwKICAgICAgICAgICAgICAgIHsKICAiYnViYmxpbmdNb3VzZUV2ZW50cyI6IHRydWUsCiAgImNvbG9yIjogImJsdWUiLAogICJkYXNoQXJyYXkiOiBudWxsLAogICJkYXNoT2Zmc2V0IjogbnVsbCwKICAiZmlsbCI6IHRydWUsCiAgImZpbGxDb2xvciI6ICJibHVlIiwKICAiZmlsbE9wYWNpdHkiOiAxLAogICJmaWxsUnVsZSI6ICJldmVub2RkIiwKICAibGluZUNhcCI6ICJyb3VuZCIsCiAgImxpbmVKb2luIjogInJvdW5kIiwKICAib3BhY2l0eSI6IDEuMCwKICAicmFkaXVzIjogMiwKICAic3Ryb2tlIjogdHJ1ZSwKICAid2VpZ2h0IjogMwp9CiAgICAgICAgICAgICAgICApLmFkZFRvKG1hcF81ZjEyNGQyM2Q2Y2M0MTY4YjNlNDg3OWJlOTljODkxNSk7CiAgICAgICAgICAgIAogICAgCiAgICAgICAgICAgIHZhciBjaXJjbGVfbWFya2VyX2YxYzU0YzkwZjI2NzQ4ZDI4MzM5MDYyZjliN2E5YWFlID0gTC5jaXJjbGVNYXJrZXIoCiAgICAgICAgICAgICAgICBbMzQuMDQ0NjAyNTIzNjY2MDY1LC0xMTguMjU2MDg5NzAxMTddLAogICAgICAgICAgICAgICAgewogICJidWJibGluZ01vdXNlRXZlbnRzIjogdHJ1ZSwKICAiY29sb3IiOiAiYmx1ZSIsCiAgImRhc2hBcnJheSI6IG51bGwsCiAgImRhc2hPZmZzZXQiOiBudWxsLAogICJmaWxsIjogdHJ1ZSwKICAiZmlsbENvbG9yIjogImJsdWUiLAogICJmaWxsT3BhY2l0eSI6IDEsCiAgImZpbGxSdWxlIjogImV2ZW5vZGQiLAogICJsaW5lQ2FwIjogInJvdW5kIiwKICAibGluZUpvaW4iOiAicm91bmQiLAogICJvcGFjaXR5IjogMS4wLAogICJyYWRpdXMiOiAyLAogICJzdHJva2UiOiB0cnVlLAogICJ3ZWlnaHQiOiAzCn0KICAgICAgICAgICAgICAgICkuYWRkVG8obWFwXzVmMTI0ZDIzZDZjYzQxNjhiM2U0ODc5YmU5OWM4OTE1KTsKICAgICAgICAgICAgCiAgICAKICAgICAgICAgICAgdmFyIGNpcmNsZV9tYXJrZXJfNzM3NTc5MmEyZjQ0NGM5NWJmZWU1NDJmYzBiNWQwYWEgPSBMLmNpcmNsZU1hcmtlcigKICAgICAgICAgICAgICAgIFszNC4wNDg4NDQxNTk2MzcxNywtMTE4LjI2MDkzNDcxNjk5Mjc0XSwKICAgICAgICAgICAgICAgIHsKICAiYnViYmxpbmdNb3VzZUV2ZW50cyI6IHRydWUsCiAgImNvbG9yIjogImJsdWUiLAogICJkYXNoQXJyYXkiOiBudWxsLAogICJkYXNoT2Zmc2V0IjogbnVsbCwKICAiZmlsbCI6IHRydWUsCiAgImZpbGxDb2xvciI6ICJibHVlIiwKICAiZmlsbE9wYWNpdHkiOiAxLAogICJmaWxsUnVsZSI6ICJldmVub2RkIiwKICAibGluZUNhcCI6ICJyb3VuZCIsCiAgImxpbmVKb2luIjogInJvdW5kIiwKICAib3BhY2l0eSI6IDEuMCwKICAicmFkaXVzIjogMiwKICAic3Ryb2tlIjogdHJ1ZSwKICAid2VpZ2h0IjogMwp9CiAgICAgICAgICAgICAgICApLmFkZFRvKG1hcF81ZjEyNGQyM2Q2Y2M0MTY4YjNlNDg3OWJlOTljODkxNSk7CiAgICAgICAgICAgIAogICAgCiAgICAgICAgICAgIHZhciBjaXJjbGVfbWFya2VyXzljZTI1ODM0NGMwNzQ4NDc4NGVlOTA4ZGMxYmYwMzE1ID0gTC5jaXJjbGVNYXJrZXIoCiAgICAgICAgICAgICAgICBbMzQuMDUwNjM1MTk5MTc3NDg1LC0xMTguMjQ4Njc3NzEyNzUxNDZdLAogICAgICAgICAgICAgICAgewogICJidWJibGluZ01vdXNlRXZlbnRzIjogdHJ1ZSwKICAiY29sb3IiOiAiYmx1ZSIsCiAgImRhc2hBcnJheSI6IG51bGwsCiAgImRhc2hPZmZzZXQiOiBudWxsLAogICJmaWxsIjogdHJ1ZSwKICAiZmlsbENvbG9yIjogImJsdWUiLAogICJmaWxsT3BhY2l0eSI6IDEsCiAgImZpbGxSdWxlIjogImV2ZW5vZGQiLAogICJsaW5lQ2FwIjogInJvdW5kIiwKICAibGluZUpvaW4iOiAicm91bmQiLAogICJvcGFjaXR5IjogMS4wLAogICJyYWRpdXMiOiAyLAogICJzdHJva2UiOiB0cnVlLAogICJ3ZWlnaHQiOiAzCn0KICAgICAgICAgICAgICAgICkuYWRkVG8obWFwXzVmMTI0ZDIzZDZjYzQxNjhiM2U0ODc5YmU5OWM4OTE1KTsKICAgICAgICAgICAgCiAgICAKICAgICAgICAgICAgdmFyIGNpcmNsZV9tYXJrZXJfZjFmZDI5Y2VjMzA3NGY3ZmE1MmMyZmU4MjVmZGJiZTUgPSBMLmNpcmNsZU1hcmtlcigKICAgICAgICAgICAgICAgIFszNC4wNTA4ODEzNzQyNTgxOTYsLTExOC4yNDc5NTE3NzEyNzAzOF0sCiAgICAgICAgICAgICAgICB7CiAgImJ1YmJsaW5nTW91c2VFdmVudHMiOiB0cnVlLAogICJjb2xvciI6ICJibHVlIiwKICAiZGFzaEFycmF5IjogbnVsbCwKICAiZGFzaE9mZnNldCI6IG51bGwsCiAgImZpbGwiOiB0cnVlLAogICJmaWxsQ29sb3IiOiAiYmx1ZSIsCiAgImZpbGxPcGFjaXR5IjogMSwKICAiZmlsbFJ1bGUiOiAiZXZlbm9kZCIsCiAgImxpbmVDYXAiOiAicm91bmQiLAogICJsaW5lSm9pbiI6ICJyb3VuZCIsCiAgIm9wYWNpdHkiOiAxLjAsCiAgInJhZGl1cyI6IDIsCiAgInN0cm9rZSI6IHRydWUsCiAgIndlaWdodCI6IDMKfQogICAgICAgICAgICAgICAgKS5hZGRUbyhtYXBfNWYxMjRkMjNkNmNjNDE2OGIzZTQ4NzliZTk5Yzg5MTUpOwogICAgICAgICAgICAKICAgIAogICAgICAgICAgICB2YXIgY2lyY2xlX21hcmtlcl83ZTczOWUxNGFjYzA0ODdjYjRlMjdkNGFjODViZmNjNSA9IEwuY2lyY2xlTWFya2VyKAogICAgICAgICAgICAgICAgWzM0LjA0OTM4ODksLTExOC4yNTk0MjI2XSwKICAgICAgICAgICAgICAgIHsKICAiYnViYmxpbmdNb3VzZUV2ZW50cyI6IHRydWUsCiAgImNvbG9yIjogImJsdWUiLAogICJkYXNoQXJyYXkiOiBudWxsLAogICJkYXNoT2Zmc2V0IjogbnVsbCwKICAiZmlsbCI6IHRydWUsCiAgImZpbGxDb2xvciI6ICJibHVlIiwKICAiZmlsbE9wYWNpdHkiOiAxLAogICJmaWxsUnVsZSI6ICJldmVub2RkIiwKICAibGluZUNhcCI6ICJyb3VuZCIsCiAgImxpbmVKb2luIjogInJvdW5kIiwKICAib3BhY2l0eSI6IDEuMCwKICAicmFkaXVzIjogMiwKICAic3Ryb2tlIjogdHJ1ZSwKICAid2VpZ2h0IjogMwp9CiAgICAgICAgICAgICAgICApLmFkZFRvKG1hcF81ZjEyNGQyM2Q2Y2M0MTY4YjNlNDg3OWJlOTljODkxNSk7CiAgICAgICAgICAgIAogICAgCiAgICAgICAgICAgIHZhciBjaXJjbGVfbWFya2VyX2I1NDdiYmY1ODZjYjQyODFiODgzZmMwOGI5M2ZjZmNmID0gTC5jaXJjbGVNYXJrZXIoCiAgICAgICAgICAgICAgICBbMzQuMDUwNjc1MDM2MDk2MjY2LC0xMTguMjQ4NzQwNjExNDc1MjRdLAogICAgICAgICAgICAgICAgewogICJidWJibGluZ01vdXNlRXZlbnRzIjogdHJ1ZSwKICAiY29sb3IiOiAiYmx1ZSIsCiAgImRhc2hBcnJheSI6IG51bGwsCiAgImRhc2hPZmZzZXQiOiBudWxsLAogICJmaWxsIjogdHJ1ZSwKICAiZmlsbENvbG9yIjogImJsdWUiLAogICJmaWxsT3BhY2l0eSI6IDEsCiAgImZpbGxSdWxlIjogImV2ZW5vZGQiLAogICJsaW5lQ2FwIjogInJvdW5kIiwKICAibGluZUpvaW4iOiAicm91bmQiLAogICJvcGFjaXR5IjogMS4wLAogICJyYWRpdXMiOiAyLAogICJzdHJva2UiOiB0cnVlLAogICJ3ZWlnaHQiOiAzCn0KICAgICAgICAgICAgICAgICkuYWRkVG8obWFwXzVmMTI0ZDIzZDZjYzQxNjhiM2U0ODc5YmU5OWM4OTE1KTsKICAgICAgICAgICAgCiAgICAKICAgICAgICAgICAgdmFyIGNpcmNsZV9tYXJrZXJfOWFkYjc2ZTg5ZGFhNDIxYmI0MjIxYWM2MWMxMjllNWIgPSBMLmNpcmNsZU1hcmtlcigKICAgICAgICAgICAgICAgIFszNC4wNDgxNjMwNTIxMDg5OSwtMTE4LjI1ODUyNjM0MTAzNTQ5XSwKICAgICAgICAgICAgICAgIHsKICAiYnViYmxpbmdNb3VzZUV2ZW50cyI6IHRydWUsCiAgImNvbG9yIjogImJsdWUiLAogICJkYXNoQXJyYXkiOiBudWxsLAogICJkYXNoT2Zmc2V0IjogbnVsbCwKICAiZmlsbCI6IHRydWUsCiAgImZpbGxDb2xvciI6ICJibHVlIiwKICAiZmlsbE9wYWNpdHkiOiAxLAogICJmaWxsUnVsZSI6ICJldmVub2RkIiwKICAibGluZUNhcCI6ICJyb3VuZCIsCiAgImxpbmVKb2luIjogInJvdW5kIiwKICAib3BhY2l0eSI6IDEuMCwKICAicmFkaXVzIjogMiwKICAic3Ryb2tlIjogdHJ1ZSwKICAid2VpZ2h0IjogMwp9CiAgICAgICAgICAgICAgICApLmFkZFRvKG1hcF81ZjEyNGQyM2Q2Y2M0MTY4YjNlNDg3OWJlOTljODkxNSk7CiAgICAgICAgICAgIAogICAgCiAgICAgICAgICAgIHZhciBjaXJjbGVfbWFya2VyXzM3MjJiYjJkZjAzMzQyNWVhZGNiMTYyN2Y2ZGE0MWY2ID0gTC5jaXJjbGVNYXJrZXIoCiAgICAgICAgICAgICAgICBbMzQuMDQ4NzY2OTc2NDU5NiwtMTE4LjI2MDk2MzQxNjQxODA1XSwKICAgICAgICAgICAgICAgIHsKICAiYnViYmxpbmdNb3VzZUV2ZW50cyI6IHRydWUsCiAgImNvbG9yIjogImJsdWUiLAogICJkYXNoQXJyYXkiOiBudWxsLAogICJkYXNoT2Zmc2V0IjogbnVsbCwKICAiZmlsbCI6IHRydWUsCiAgImZpbGxDb2xvciI6ICJibHVlIiwKICAiZmlsbE9wYWNpdHkiOiAxLAogICJmaWxsUnVsZSI6ICJldmVub2RkIiwKICAibGluZUNhcCI6ICJyb3VuZCIsCiAgImxpbmVKb2luIjogInJvdW5kIiwKICAib3BhY2l0eSI6IDEuMCwKICAicmFkaXVzIjogMiwKICAic3Ryb2tlIjogdHJ1ZSwKICAid2VpZ2h0IjogMwp9CiAgICAgICAgICAgICAgICApLmFkZFRvKG1hcF81ZjEyNGQyM2Q2Y2M0MTY4YjNlNDg3OWJlOTljODkxNSk7CiAgICAgICAgICAgIAogICAgCiAgICAgICAgICAgIHZhciBjaXJjbGVfbWFya2VyXzZiOTBiNTJlZjA3ZDRjYTc4MTU2NTJjM2NlNzdhYTJjID0gTC5jaXJjbGVNYXJrZXIoCiAgICAgICAgICAgICAgICBbMzQuMDQ5MTg1MjQsLTExOC4yNjA0Nzg3XSwKICAgICAgICAgICAgICAgIHsKICAiYnViYmxpbmdNb3VzZUV2ZW50cyI6IHRydWUsCiAgImNvbG9yIjogImJsdWUiLAogICJkYXNoQXJyYXkiOiBudWxsLAogICJkYXNoT2Zmc2V0IjogbnVsbCwKICAiZmlsbCI6IHRydWUsCiAgImZpbGxDb2xvciI6ICJibHVlIiwKICAiZmlsbE9wYWNpdHkiOiAxLAogICJmaWxsUnVsZSI6ICJldmVub2RkIiwKICAibGluZUNhcCI6ICJyb3VuZCIsCiAgImxpbmVKb2luIjogInJvdW5kIiwKICAib3BhY2l0eSI6IDEuMCwKICAicmFkaXVzIjogMiwKICAic3Ryb2tlIjogdHJ1ZSwKICAid2VpZ2h0IjogMwp9CiAgICAgICAgICAgICAgICApLmFkZFRvKG1hcF81ZjEyNGQyM2Q2Y2M0MTY4YjNlNDg3OWJlOTljODkxNSk7CiAgICAgICAgICAgIAogICAgCiAgICAgICAgICAgIHZhciBjaXJjbGVfbWFya2VyX2Y2NTFjYmUyNjZmODRjYWFhOTc5OTU0OTMzMzE4MjlhID0gTC5jaXJjbGVNYXJrZXIoCiAgICAgICAgICAgICAgICBbMzQuMDQ5MDM4LC0xMTguMjYwNjc1XSwKICAgICAgICAgICAgICAgIHsKICAiYnViYmxpbmdNb3VzZUV2ZW50cyI6IHRydWUsCiAgImNvbG9yIjogImJsdWUiLAogICJkYXNoQXJyYXkiOiBudWxsLAogICJkYXNoT2Zmc2V0IjogbnVsbCwKICAiZmlsbCI6IHRydWUsCiAgImZpbGxDb2xvciI6ICJibHVlIiwKICAiZmlsbE9wYWNpdHkiOiAxLAogICJmaWxsUnVsZSI6ICJldmVub2RkIiwKICAibGluZUNhcCI6ICJyb3VuZCIsCiAgImxpbmVKb2luIjogInJvdW5kIiwKICAib3BhY2l0eSI6IDEuMCwKICAicmFkaXVzIjogMiwKICAic3Ryb2tlIjogdHJ1ZSwKICAid2VpZ2h0IjogMwp9CiAgICAgICAgICAgICAgICApLmFkZFRvKG1hcF81ZjEyNGQyM2Q2Y2M0MTY4YjNlNDg3OWJlOTljODkxNSk7CiAgICAgICAgICAgIAogICAgCiAgICAgICAgICAgIHZhciBjaXJjbGVfbWFya2VyXzViNmI0ZmEyY2EwYjRjODRiZWI0MzYwMGUyODU2NDEwID0gTC5jaXJjbGVNYXJrZXIoCiAgICAgICAgICAgICAgICBbMzQuMDQ0ODcxODA1NTE4MjM0LC0xMTguMjQ5NDg4NTM0MjA2MjRdLAogICAgICAgICAgICAgICAgewogICJidWJibGluZ01vdXNlRXZlbnRzIjogdHJ1ZSwKICAiY29sb3IiOiAiYmx1ZSIsCiAgImRhc2hBcnJheSI6IG51bGwsCiAgImRhc2hPZmZzZXQiOiBudWxsLAogICJmaWxsIjogdHJ1ZSwKICAiZmlsbENvbG9yIjogImJsdWUiLAogICJmaWxsT3BhY2l0eSI6IDEsCiAgImZpbGxSdWxlIjogImV2ZW5vZGQiLAogICJsaW5lQ2FwIjogInJvdW5kIiwKICAibGluZUpvaW4iOiAicm91bmQiLAogICJvcGFjaXR5IjogMS4wLAogICJyYWRpdXMiOiAyLAogICJzdHJva2UiOiB0cnVlLAogICJ3ZWlnaHQiOiAzCn0KICAgICAgICAgICAgICAgICkuYWRkVG8obWFwXzVmMTI0ZDIzZDZjYzQxNjhiM2U0ODc5YmU5OWM4OTE1KTsKICAgICAgICAgICAgCiAgICAKICAgICAgICAgICAgdmFyIGNpcmNsZV9tYXJrZXJfMzc4YTJiMDZlZTcyNDM5MTkxYjI0YzA5YTNmNTZhYzggPSBMLmNpcmNsZU1hcmtlcigKICAgICAgICAgICAgICAgIFszNC4wNDYwNzgsLTExOC4yNjE1N10sCiAgICAgICAgICAgICAgICB7CiAgImJ1YmJsaW5nTW91c2VFdmVudHMiOiB0cnVlLAogICJjb2xvciI6ICJibHVlIiwKICAiZGFzaEFycmF5IjogbnVsbCwKICAiZGFzaE9mZnNldCI6IG51bGwsCiAgImZpbGwiOiB0cnVlLAogICJmaWxsQ29sb3IiOiAiYmx1ZSIsCiAgImZpbGxPcGFjaXR5IjogMSwKICAiZmlsbFJ1bGUiOiAiZXZlbm9kZCIsCiAgImxpbmVDYXAiOiAicm91bmQiLAogICJsaW5lSm9pbiI6ICJyb3VuZCIsCiAgIm9wYWNpdHkiOiAxLjAsCiAgInJhZGl1cyI6IDIsCiAgInN0cm9rZSI6IHRydWUsCiAgIndlaWdodCI6IDMKfQogICAgICAgICAgICAgICAgKS5hZGRUbyhtYXBfNWYxMjRkMjNkNmNjNDE2OGIzZTQ4NzliZTk5Yzg5MTUpOwogICAgICAgICAgICAKICAgIAogICAgICAgICAgICB2YXIgY2lyY2xlX21hcmtlcl9mMDdhYjg3NTc0ZGI0MjZmOTQ1N2MzZGY2YzRiMTE0ZCA9IEwuY2lyY2xlTWFya2VyKAogICAgICAgICAgICAgICAgWzM0LjA0MTc2OTI0ODgzNTI1LC0xMTguMjU2NjAwNzY4NjA0MzldLAogICAgICAgICAgICAgICAgewogICJidWJibGluZ01vdXNlRXZlbnRzIjogdHJ1ZSwKICAiY29sb3IiOiAiYmx1ZSIsCiAgImRhc2hBcnJheSI6IG51bGwsCiAgImRhc2hPZmZzZXQiOiBudWxsLAogICJmaWxsIjogdHJ1ZSwKICAiZmlsbENvbG9yIjogImJsdWUiLAogICJmaWxsT3BhY2l0eSI6IDEsCiAgImZpbGxSdWxlIjogImV2ZW5vZGQiLAogICJsaW5lQ2FwIjogInJvdW5kIiwKICAibGluZUpvaW4iOiAicm91bmQiLAogICJvcGFjaXR5IjogMS4wLAogICJyYWRpdXMiOiAyLAogICJzdHJva2UiOiB0cnVlLAogICJ3ZWlnaHQiOiAzCn0KICAgICAgICAgICAgICAgICkuYWRkVG8obWFwXzVmMTI0ZDIzZDZjYzQxNjhiM2U0ODc5YmU5OWM4OTE1KTsKICAgICAgICAgICAgCiAgICAKICAgICAgICAgICAgdmFyIGNpcmNsZV9tYXJrZXJfYzVkODdlZmZjMThiNDVjNTljZTk0M2Q1MWQ2MmRkMDIgPSBMLmNpcmNsZU1hcmtlcigKICAgICAgICAgICAgICAgIFszNC4wNDU3MTA3ODgzODY4NywtMTE4LjI1MTE2NjgwNzYyMjg4XSwKICAgICAgICAgICAgICAgIHsKICAiYnViYmxpbmdNb3VzZUV2ZW50cyI6IHRydWUsCiAgImNvbG9yIjogImJsdWUiLAogICJkYXNoQXJyYXkiOiBudWxsLAogICJkYXNoT2Zmc2V0IjogbnVsbCwKICAiZmlsbCI6IHRydWUsCiAgImZpbGxDb2xvciI6ICJibHVlIiwKICAiZmlsbE9wYWNpdHkiOiAxLAogICJmaWxsUnVsZSI6ICJldmVub2RkIiwKICAibGluZUNhcCI6ICJyb3VuZCIsCiAgImxpbmVKb2luIjogInJvdW5kIiwKICAib3BhY2l0eSI6IDEuMCwKICAicmFkaXVzIjogMiwKICAic3Ryb2tlIjogdHJ1ZSwKICAid2VpZ2h0IjogMwp9CiAgICAgICAgICAgICAgICApLmFkZFRvKG1hcF81ZjEyNGQyM2Q2Y2M0MTY4YjNlNDg3OWJlOTljODkxNSk7CiAgICAgICAgICAgIAogICAgCiAgICAgICAgICAgIHZhciBjaXJjbGVfbWFya2VyXzA3MDYxOWU1YWE2NTRmY2RiYmE1ZTU1ZDczNWEyMzFlID0gTC5jaXJjbGVNYXJrZXIoCiAgICAgICAgICAgICAgICBbMzQuMDQ2Nzk1NTQ5OTg2MTQsLTExOC4yNTExNDM0MjEwMTUwN10sCiAgICAgICAgICAgICAgICB7CiAgImJ1YmJsaW5nTW91c2VFdmVudHMiOiB0cnVlLAogICJjb2xvciI6ICJibHVlIiwKICAiZGFzaEFycmF5IjogbnVsbCwKICAiZGFzaE9mZnNldCI6IG51bGwsCiAgImZpbGwiOiB0cnVlLAogICJmaWxsQ29sb3IiOiAiYmx1ZSIsCiAgImZpbGxPcGFjaXR5IjogMSwKICAiZmlsbFJ1bGUiOiAiZXZlbm9kZCIsCiAgImxpbmVDYXAiOiAicm91bmQiLAogICJsaW5lSm9pbiI6ICJyb3VuZCIsCiAgIm9wYWNpdHkiOiAxLjAsCiAgInJhZGl1cyI6IDIsCiAgInN0cm9rZSI6IHRydWUsCiAgIndlaWdodCI6IDMKfQogICAgICAgICAgICAgICAgKS5hZGRUbyhtYXBfNWYxMjRkMjNkNmNjNDE2OGIzZTQ4NzliZTk5Yzg5MTUpOwogICAgICAgICAgICAKICAgIAoKICAgICAgICAgICAgdmFyIGNpcmNsZV84MzU3YzBlNDc5MzM0ZGRmYmY4MmQ0ZDEwNTQ2YzQ1MiA9IEwuY2lyY2xlKAogICAgICAgICAgICAgICAgWzM0LjA1MTUxOTc0ODA3MDI0LC0xMTguMjUwMjkxMTc3NzkxNjddLAogICAgICAgICAgICAgICAgewogICJidWJibGluZ01vdXNlRXZlbnRzIjogdHJ1ZSwKICAiY29sb3IiOiAiZ3JlZW4iLAogICJkYXNoQXJyYXkiOiBudWxsLAogICJkYXNoT2Zmc2V0IjogbnVsbCwKICAiZmlsbCI6IGZhbHNlLAogICJmaWxsQ29sb3IiOiAiZ3JlZW4iLAogICJmaWxsT3BhY2l0eSI6IDAuMiwKICAiZmlsbFJ1bGUiOiAiZXZlbm9kZCIsCiAgImxpbmVDYXAiOiAicm91bmQiLAogICJsaW5lSm9pbiI6ICJyb3VuZCIsCiAgIm9wYWNpdHkiOiAxLjAsCiAgInJhZGl1cyI6IDUwMCwKICAic3Ryb2tlIjogdHJ1ZSwKICAid2VpZ2h0IjogMwp9CiAgICAgICAgICAgICAgICApLmFkZFRvKG1hcF81ZjEyNGQyM2Q2Y2M0MTY4YjNlNDg3OWJlOTljODkxNSk7CiAgICAgICAgICAgIAogICAgCgogICAgICAgICAgICB2YXIgY2lyY2xlXzFmYjdjMWQ4MGQ1ZjQ3NWJiNWY4ZTJiMmI3NDFmNmJmID0gTC5jaXJjbGUoCiAgICAgICAgICAgICAgICBbMzQuMDQ1MDQ0ODU1Mjg4OTg1LC0xMTguMjUzODkxMDU2ODIzNThdLAogICAgICAgICAgICAgICAgewogICJidWJibGluZ01vdXNlRXZlbnRzIjogdHJ1ZSwKICAiY29sb3IiOiAiZ3JlZW4iLAogICJkYXNoQXJyYXkiOiBudWxsLAogICJkYXNoT2Zmc2V0IjogbnVsbCwKICAiZmlsbCI6IGZhbHNlLAogICJmaWxsQ29sb3IiOiAiZ3JlZW4iLAogICJmaWxsT3BhY2l0eSI6IDAuMiwKICAiZmlsbFJ1bGUiOiAiZXZlbm9kZCIsCiAgImxpbmVDYXAiOiAicm91bmQiLAogICJsaW5lSm9pbiI6ICJyb3VuZCIsCiAgIm9wYWNpdHkiOiAxLjAsCiAgInJhZGl1cyI6IDUwMCwKICAic3Ryb2tlIjogdHJ1ZSwKICAid2VpZ2h0IjogMwp9CiAgICAgICAgICAgICAgICApLmFkZFRvKG1hcF81ZjEyNGQyM2Q2Y2M0MTY4YjNlNDg3OWJlOTljODkxNSk7CiAgICAgICAgICAgIAogICAgCgogICAgICAgICAgICB2YXIgY2lyY2xlX2M0YjQzNGQyZTJjMjRkYWNhODM2NDg4ODNiNzk4MGNiID0gTC5jaXJjbGUoCiAgICAgICAgICAgICAgICBbMzQuMDQ4Mzk0OTk5NzYwNjI1LC0xMTguMjYwMTI3NDM4NzY1ODNdLAogICAgICAgICAgICAgICAgewogICJidWJibGluZ01vdXNlRXZlbnRzIjogdHJ1ZSwKICAiY29sb3IiOiAiZ3JlZW4iLAogICJkYXNoQXJyYXkiOiBudWxsLAogICJkYXNoT2Zmc2V0IjogbnVsbCwKICAiZmlsbCI6IGZhbHNlLAogICJmaWxsQ29sb3IiOiAiZ3JlZW4iLAogICJmaWxsT3BhY2l0eSI6IDAuMiwKICAiZmlsbFJ1bGUiOiAiZXZlbm9kZCIsCiAgImxpbmVDYXAiOiAicm91bmQiLAogICJsaW5lSm9pbiI6ICJyb3VuZCIsCiAgIm9wYWNpdHkiOiAxLjAsCiAgInJhZGl1cyI6IDUwMCwKICAic3Ryb2tlIjogdHJ1ZSwKICAid2VpZ2h0IjogMwp9CiAgICAgICAgICAgICAgICApLmFkZFRvKG1hcF81ZjEyNGQyM2Q2Y2M0MTY4YjNlNDg3OWJlOTljODkxNSk7CiAgICAgICAgICAgIAo8L3NjcmlwdD4=\" style=\"position:absolute;width:100%;height:100%;left:0;top:0;border:none !important;\" allowfullscreen webkitallowfullscreen mozallowfullscreen></iframe></div></div>"
      ],
      "text/plain": [
       "<folium.folium.Map at 0x7fb373cb7278>"
      ]
     },
     "execution_count": 20,
     "metadata": {},
     "output_type": "execute_result"
    }
   ],
   "source": [
    "LA_map = folium.Map(location=[latitude, longitude], zoom_start=14)\n",
    "folium.Marker([latitude, longitude]).add_to(LA_map)\n",
    "for lat, lon in zip(dataframe_filteredAll.lat, dataframe_filteredAll.lng):\n",
    "    folium.Circle([lat, lon], radius=250, color='#00000000', fill=True, fill_color='#0066ff', fill_opacity=0.07).add_to(LA_map)\n",
    "for lat, lon in zip(dataframe_filteredAll.lat, dataframe_filteredAll.lng):\n",
    "    folium.CircleMarker([lat, lon], radius=2, color='blue', fill=True, fill_color='blue', fill_opacity=1).add_to(LA_map)\n",
    "for lon, lat in centroids:\n",
    "    folium.Circle([lat, lon], radius=500, color='green', fill=False).add_to(LA_map) \n",
    "LA_map"
   ]
  },
  {
   "cell_type": "markdown",
   "metadata": {},
   "source": [
    "## Results and Discussion <a name=\"results\"></a>"
   ]
  },
  {
   "cell_type": "markdown",
   "metadata": {},
   "source": [
    "Our analysis shows that the number of restaurants and food trucks in Los Angeles arround Pershing Square (in an area of interest which was 1x1km) was only 60. \n",
    "\n",
    "The Highest concentration of restaurants was detected north and west from Pershing Square and the lowest density is located in the east from Pershing Square. So we can tell that there are a low density of restaurants and food trucks near Pershing Square. \n",
    "\n",
    "Despised the lowest density of restaurants nearest to Pershing Square the nearest Restaurant was 166.7 mts and the nearest Food Truck was 120.75 mts close to our desire food truck location.\n",
    "\n",
    "We divided the data in 3 clusters using K-means, this location contain a greatest number of restaurants and food trucks. Pershing Square is between 2 clusters. "
   ]
  },
  {
   "cell_type": "markdown",
   "metadata": {},
   "source": [
    "## Conclusion <a name=\"conclusion\"></a>"
   ]
  },
  {
   "cell_type": "markdown",
   "metadata": {},
   "source": [
    "The purpose of this project was to identify the areas of Los Angeles close to Pershing Square who has restaurants and food trucks in order to aid stakeholders in narrowing down the search for possible direct competition for the new food truck. By calculating restaurants and food trucks density distribution from Foursquare data we have first identified general boroughs that justify further analysis, and then generated extensive collection of locations which satisfy some basic requirements regarding existing nearby restaurants and food trucks. Then it was perfomed a clustering of those locations in order to create major zones of interest (containing greatest number of zones with restaurants and food trucks) and addresses of those zone centers were created to be used as starting points for final exploration by stakeholders.\n",
    "\n",
    "Final decission on food truck location viability and food truck direct competition will be made by stakeholders based on specific characteristics of neighborhoods and locations in every analized zone."
   ]
  }
 ],
 "metadata": {
  "kernelspec": {
   "display_name": "Python 3.6",
   "language": "python",
   "name": "python3"
  },
  "language_info": {
   "codemirror_mode": {
    "name": "ipython",
    "version": 3
   },
   "file_extension": ".py",
   "mimetype": "text/x-python",
   "name": "python",
   "nbconvert_exporter": "python",
   "pygments_lexer": "ipython3",
   "version": "3.6.8"
  }
 },
 "nbformat": 4,
 "nbformat_minor": 1
}
